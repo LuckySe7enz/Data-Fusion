{
 "cells": [
  {
   "cell_type": "markdown",
   "id": "27b42f85",
   "metadata": {},
   "source": [
    "# Data Fusion Group 4 Jupyter Notebook"
   ]
  },
  {
   "cell_type": "markdown",
   "id": "437aa4ca",
   "metadata": {},
   "source": [
    "### Installing necessary libraries"
   ]
  },
  {
   "cell_type": "code",
   "execution_count": null,
   "id": "9758c59c",
   "metadata": {},
   "outputs": [],
   "source": [
    "### Uncomment if library imbalanced-learn is not installed (imbalanced learn performs oversampling when classes are imbalanced)\n",
    "\n",
    "#pip install imbalanced-learn"
   ]
  },
  {
   "cell_type": "markdown",
   "id": "99780dd1",
   "metadata": {},
   "source": [
    "### Importing the necessary libraries"
   ]
  },
  {
   "cell_type": "code",
   "execution_count": 1,
   "id": "6b25c95c",
   "metadata": {},
   "outputs": [],
   "source": [
    "import pandas as pd\n",
    "import csv\n",
    "import os\n",
    "from plantcv import plantcv as pcv\n",
    "import time\n",
    "import seaborn as sns\n",
    "import cv2\n",
    "import numpy as np\n",
    "import matplotlib.pyplot as plt\n",
    "from sklearn.metrics import cohen_kappa_score, roc_auc_score\n",
    "from sklearn.model_selection import train_test_split, StratifiedKFold, cross_val_score\n",
    "from sklearn.ensemble import RandomForestClassifier, VotingClassifier\n",
    "from sklearn.svm import LinearSVC\n",
    "from sklearn.linear_model import LogisticRegression\n",
    "from sklearn.tree import DecisionTreeClassifier \n",
    "from sklearn.naive_bayes import GaussianNB\n",
    "from sklearn.neighbors import KNeighborsClassifier\n",
    "from sklearn.metrics import confusion_matrix, accuracy_score, classification_report\n",
    "from sklearn.decomposition import PCA, TruncatedSVD, IncrementalPCA, KernelPCA\n",
    "from imblearn.over_sampling import RandomOverSampler\n",
    "import h5py"
   ]
  },
  {
   "cell_type": "code",
   "execution_count": 2,
   "id": "b3015a8e",
   "metadata": {},
   "outputs": [
    {
     "name": "stdout",
     "output_type": "stream",
     "text": [
      "3.14.2\n"
     ]
    }
   ],
   "source": [
    "print(pcv.__version__)\n",
    "#print(pcv.__file__)"
   ]
  },
  {
   "cell_type": "code",
   "execution_count": 4,
   "id": "47a6f62a",
   "metadata": {},
   "outputs": [],
   "source": [
    "%matplotlib inline"
   ]
  },
  {
   "cell_type": "code",
   "execution_count": 5,
   "id": "0de2f592",
   "metadata": {},
   "outputs": [
    {
     "data": {
      "text/html": [
       "<div>\n",
       "<style scoped>\n",
       "    .dataframe tbody tr th:only-of-type {\n",
       "        vertical-align: middle;\n",
       "    }\n",
       "\n",
       "    .dataframe tbody tr th {\n",
       "        vertical-align: top;\n",
       "    }\n",
       "\n",
       "    .dataframe thead th {\n",
       "        text-align: right;\n",
       "    }\n",
       "</style>\n",
       "<table border=\"1\" class=\"dataframe\">\n",
       "  <thead>\n",
       "    <tr style=\"text-align: right;\">\n",
       "      <th></th>\n",
       "      <th>Expert 1</th>\n",
       "      <th>Expert 2</th>\n",
       "      <th>Expert 3</th>\n",
       "      <th>Expert 4</th>\n",
       "      <th>color_cam_path</th>\n",
       "      <th>side_cam_path</th>\n",
       "      <th>Rfid</th>\n",
       "      <th>Pos</th>\n",
       "      <th>average_expert</th>\n",
       "    </tr>\n",
       "  </thead>\n",
       "  <tbody>\n",
       "    <tr>\n",
       "      <th>0</th>\n",
       "      <td>4</td>\n",
       "      <td>4</td>\n",
       "      <td>4</td>\n",
       "      <td>4</td>\n",
       "      <td>A1/00387 Plant 0000 Plant 0000/18-02-2019 -- 1...</td>\n",
       "      <td>A1/00387 Plant 0000 Plant 0000/18-02-2019 -- 1...</td>\n",
       "      <td>A1</td>\n",
       "      <td>Plant 0000</td>\n",
       "      <td>4.0</td>\n",
       "    </tr>\n",
       "    <tr>\n",
       "      <th>1</th>\n",
       "      <td>1</td>\n",
       "      <td>1</td>\n",
       "      <td>1</td>\n",
       "      <td>1</td>\n",
       "      <td>A1/00388 Plant 0001 Plant 0001/18-02-2019 -- 1...</td>\n",
       "      <td>A1/00388 Plant 0001 Plant 0001/18-02-2019 -- 1...</td>\n",
       "      <td>A1</td>\n",
       "      <td>Plant 0001</td>\n",
       "      <td>1.0</td>\n",
       "    </tr>\n",
       "    <tr>\n",
       "      <th>2</th>\n",
       "      <td>1</td>\n",
       "      <td>1</td>\n",
       "      <td>1</td>\n",
       "      <td>1</td>\n",
       "      <td>A1/00389 Plant 0002 Plant 0002/18-02-2019 -- 1...</td>\n",
       "      <td>A1/00389 Plant 0002 Plant 0002/18-02-2019 -- 1...</td>\n",
       "      <td>A1</td>\n",
       "      <td>Plant 0002</td>\n",
       "      <td>1.0</td>\n",
       "    </tr>\n",
       "    <tr>\n",
       "      <th>3</th>\n",
       "      <td>4</td>\n",
       "      <td>4</td>\n",
       "      <td>3</td>\n",
       "      <td>3</td>\n",
       "      <td>A1/00390 Plant 0003 Plant 0003/18-02-2019 -- 1...</td>\n",
       "      <td>A1/00390 Plant 0003 Plant 0003/18-02-2019 -- 1...</td>\n",
       "      <td>A1</td>\n",
       "      <td>Plant 0003</td>\n",
       "      <td>3.5</td>\n",
       "    </tr>\n",
       "    <tr>\n",
       "      <th>4</th>\n",
       "      <td>3</td>\n",
       "      <td>1</td>\n",
       "      <td>1</td>\n",
       "      <td>1</td>\n",
       "      <td>A1/00391 Plant 0004 Plant 0004/18-02-2019 -- 1...</td>\n",
       "      <td>A1/00391 Plant 0004 Plant 0004/18-02-2019 -- 1...</td>\n",
       "      <td>A1</td>\n",
       "      <td>Plant 0004</td>\n",
       "      <td>1.5</td>\n",
       "    </tr>\n",
       "  </tbody>\n",
       "</table>\n",
       "</div>"
      ],
      "text/plain": [
       "   Expert 1  Expert 2  Expert 3  Expert 4  \\\n",
       "0         4         4         4         4   \n",
       "1         1         1         1         1   \n",
       "2         1         1         1         1   \n",
       "3         4         4         3         3   \n",
       "4         3         1         1         1   \n",
       "\n",
       "                                      color_cam_path  \\\n",
       "0  A1/00387 Plant 0000 Plant 0000/18-02-2019 -- 1...   \n",
       "1  A1/00388 Plant 0001 Plant 0001/18-02-2019 -- 1...   \n",
       "2  A1/00389 Plant 0002 Plant 0002/18-02-2019 -- 1...   \n",
       "3  A1/00390 Plant 0003 Plant 0003/18-02-2019 -- 1...   \n",
       "4  A1/00391 Plant 0004 Plant 0004/18-02-2019 -- 1...   \n",
       "\n",
       "                                       side_cam_path Rfid         Pos  \\\n",
       "0  A1/00387 Plant 0000 Plant 0000/18-02-2019 -- 1...   A1  Plant 0000   \n",
       "1  A1/00388 Plant 0001 Plant 0001/18-02-2019 -- 1...   A1  Plant 0001   \n",
       "2  A1/00389 Plant 0002 Plant 0002/18-02-2019 -- 1...   A1  Plant 0002   \n",
       "3  A1/00390 Plant 0003 Plant 0003/18-02-2019 -- 1...   A1  Plant 0003   \n",
       "4  A1/00391 Plant 0004 Plant 0004/18-02-2019 -- 1...   A1  Plant 0004   \n",
       "\n",
       "   average_expert  \n",
       "0             4.0  \n",
       "1             1.0  \n",
       "2             1.0  \n",
       "3             3.5  \n",
       "4             1.5  "
      ]
     },
     "execution_count": 5,
     "metadata": {},
     "output_type": "execute_result"
    }
   ],
   "source": [
    "# Enter path to the data_fusion_guest_lecture file\n",
    "image_folder_path = \"\"\n",
    "\n",
    "# Loads labels\n",
    "df = pd.read_csv(os.path.join(image_folder_path, \"seedling_labels.csv\"))\n",
    "\n",
    "# Creates path to top & side view\n",
    "df[\"color_cam_path\"] = image_folder_path  + df[\"color_cam_path\"]\n",
    "df[\"side_cam_path\"] = image_folder_path  + df[\"side_cam_path\"]\n",
    "\n",
    "# Gives average expert label as a starting point\n",
    "df[\"average_expert\"] = (df[\"Expert 1\"] + df[\"Expert 2\"]  + df[\"Expert 3\"] + df[\"Expert 4\"]) / 4\n",
    "df.head()"
   ]
  },
  {
   "cell_type": "code",
   "execution_count": 6,
   "id": "fbca8ab9",
   "metadata": {},
   "outputs": [
    {
     "data": {
      "text/html": [
       "<div>\n",
       "<style scoped>\n",
       "    .dataframe tbody tr th:only-of-type {\n",
       "        vertical-align: middle;\n",
       "    }\n",
       "\n",
       "    .dataframe tbody tr th {\n",
       "        vertical-align: top;\n",
       "    }\n",
       "\n",
       "    .dataframe thead th {\n",
       "        text-align: right;\n",
       "    }\n",
       "</style>\n",
       "<table border=\"1\" class=\"dataframe\">\n",
       "  <thead>\n",
       "    <tr style=\"text-align: right;\">\n",
       "      <th></th>\n",
       "      <th>Expert 1</th>\n",
       "      <th>Expert 2</th>\n",
       "      <th>Expert 3</th>\n",
       "      <th>Expert 4</th>\n",
       "      <th>average_expert</th>\n",
       "    </tr>\n",
       "  </thead>\n",
       "  <tbody>\n",
       "    <tr>\n",
       "      <th>count</th>\n",
       "      <td>994.000000</td>\n",
       "      <td>994.000000</td>\n",
       "      <td>994.000000</td>\n",
       "      <td>994.000000</td>\n",
       "      <td>994.000000</td>\n",
       "    </tr>\n",
       "    <tr>\n",
       "      <th>mean</th>\n",
       "      <td>1.831992</td>\n",
       "      <td>1.751509</td>\n",
       "      <td>1.817907</td>\n",
       "      <td>1.845070</td>\n",
       "      <td>1.811620</td>\n",
       "    </tr>\n",
       "    <tr>\n",
       "      <th>std</th>\n",
       "      <td>1.055815</td>\n",
       "      <td>1.076913</td>\n",
       "      <td>1.046762</td>\n",
       "      <td>1.068708</td>\n",
       "      <td>1.025991</td>\n",
       "    </tr>\n",
       "    <tr>\n",
       "      <th>min</th>\n",
       "      <td>1.000000</td>\n",
       "      <td>1.000000</td>\n",
       "      <td>1.000000</td>\n",
       "      <td>1.000000</td>\n",
       "      <td>1.000000</td>\n",
       "    </tr>\n",
       "    <tr>\n",
       "      <th>25%</th>\n",
       "      <td>1.000000</td>\n",
       "      <td>1.000000</td>\n",
       "      <td>1.000000</td>\n",
       "      <td>1.000000</td>\n",
       "      <td>1.000000</td>\n",
       "    </tr>\n",
       "    <tr>\n",
       "      <th>50%</th>\n",
       "      <td>1.000000</td>\n",
       "      <td>1.000000</td>\n",
       "      <td>1.000000</td>\n",
       "      <td>1.000000</td>\n",
       "      <td>1.250000</td>\n",
       "    </tr>\n",
       "    <tr>\n",
       "      <th>75%</th>\n",
       "      <td>3.000000</td>\n",
       "      <td>3.000000</td>\n",
       "      <td>3.000000</td>\n",
       "      <td>3.000000</td>\n",
       "      <td>3.000000</td>\n",
       "    </tr>\n",
       "    <tr>\n",
       "      <th>max</th>\n",
       "      <td>4.000000</td>\n",
       "      <td>4.000000</td>\n",
       "      <td>4.000000</td>\n",
       "      <td>4.000000</td>\n",
       "      <td>4.000000</td>\n",
       "    </tr>\n",
       "  </tbody>\n",
       "</table>\n",
       "</div>"
      ],
      "text/plain": [
       "         Expert 1    Expert 2    Expert 3    Expert 4  average_expert\n",
       "count  994.000000  994.000000  994.000000  994.000000      994.000000\n",
       "mean     1.831992    1.751509    1.817907    1.845070        1.811620\n",
       "std      1.055815    1.076913    1.046762    1.068708        1.025991\n",
       "min      1.000000    1.000000    1.000000    1.000000        1.000000\n",
       "25%      1.000000    1.000000    1.000000    1.000000        1.000000\n",
       "50%      1.000000    1.000000    1.000000    1.000000        1.250000\n",
       "75%      3.000000    3.000000    3.000000    3.000000        3.000000\n",
       "max      4.000000    4.000000    4.000000    4.000000        4.000000"
      ]
     },
     "execution_count": 6,
     "metadata": {},
     "output_type": "execute_result"
    }
   ],
   "source": [
    "df.describe()"
   ]
  },
  {
   "cell_type": "markdown",
   "id": "9e3e8096",
   "metadata": {},
   "source": [
    "## Cohen's kappa measure for inter-judge agreement on the original 4 classes"
   ]
  },
  {
   "cell_type": "code",
   "execution_count": 7,
   "id": "b391cec4",
   "metadata": {},
   "outputs": [
    {
     "name": "stdout",
     "output_type": "stream",
     "text": [
      "0.7479850775872328\n",
      "0.7514264091342832\n",
      "0.789424903841698\n",
      "0.7636369001230606\n",
      "0.7976078889813343\n",
      "0.7981732606365627\n"
     ]
    }
   ],
   "source": [
    "print(cohen_kappa_score(df['Expert 1'], df['Expert 2']))\n",
    "\n",
    "print(cohen_kappa_score(df['Expert 1'], df['Expert 3']))\n",
    "\n",
    "print(cohen_kappa_score(df['Expert 1'], df['Expert 4']))\n",
    "\n",
    "print(cohen_kappa_score(df['Expert 2'], df['Expert 3']))\n",
    "\n",
    "print(cohen_kappa_score(df['Expert 2'], df['Expert 4']))\n",
    "\n",
    "print(cohen_kappa_score(df['Expert 3'], df['Expert 4']))\n",
    "\n",
    "\n",
    "\n"
   ]
  },
  {
   "cell_type": "code",
   "execution_count": 8,
   "id": "7bb9272b",
   "metadata": {},
   "outputs": [],
   "source": [
    "class options:\n",
    "    def __init__(self):\n",
    "        self.image = df['color_cam_path'][1]\n",
    "        self.background = df['side_cam_path'][1]\n",
    "        self.debug = None\n",
    "        self.writeimg= False\n",
    "        self.result = \"vis_tutorial_results.json\"\n",
    "        self.outdir = \".\" # Store the output to the current directory\n",
    "        \n",
    "# Get options\n",
    "args = options()\n",
    "\n",
    "# Set debug to the global parameter \n",
    "pcv.params.debug = args.debug\n",
    "\n"
   ]
  },
  {
   "cell_type": "code",
   "execution_count": 9,
   "id": "0febb9aa",
   "metadata": {
    "scrolled": false
   },
   "outputs": [],
   "source": [
    "# Read image\n",
    "\n",
    "# Inputs:\n",
    "#   filename - Image file to be read in \n",
    "#   mode - How to read in the image; either 'native' (default), 'rgb', 'gray', or 'csv'\n",
    "img, path, filename = pcv.readimage(filename=args.image)"
   ]
  },
  {
   "cell_type": "code",
   "execution_count": 10,
   "id": "cd5424ae",
   "metadata": {},
   "outputs": [],
   "source": [
    "img, path, filename = pcv.readimage(filename=args.background)"
   ]
  },
  {
   "cell_type": "code",
   "execution_count": 11,
   "id": "002f4986",
   "metadata": {},
   "outputs": [],
   "source": [
    "width = img.shape[0]\n",
    "height = img.shape[1]"
   ]
  },
  {
   "cell_type": "code",
   "execution_count": 12,
   "id": "e48672a9",
   "metadata": {},
   "outputs": [],
   "source": [
    "df_copy = df.copy()"
   ]
  },
  {
   "cell_type": "code",
   "execution_count": 13,
   "id": "9a7c1c70",
   "metadata": {},
   "outputs": [],
   "source": [
    "### Setting the correct classes for every expert\n",
    "\n",
    "\n",
    "### normal\n",
    "df_copy.loc[df_copy['Expert 1']<3, 'Expert 1'] = 1 \n",
    "df_copy.loc[df_copy['Expert 2']<3, 'Expert 2'] = 1\n",
    "df_copy.loc[df_copy['Expert 3']<3, 'Expert 3'] = 1\n",
    "df_copy.loc[df_copy['Expert 4']<3, 'Expert 4'] = 1\n",
    "\n",
    "\n",
    "### abnormal\n",
    "df_copy.loc[df_copy['Expert 1']>=3, 'Expert 1'] = 0\n",
    "df_copy.loc[df_copy['Expert 2']>=3, 'Expert 2'] = 0\n",
    "df_copy.loc[df_copy['Expert 3']>=3, 'Expert 3'] = 0\n",
    "df_copy.loc[df_copy['Expert 4']>=3, 'Expert 4'] = 0\n"
   ]
  },
  {
   "cell_type": "markdown",
   "id": "8af2d4f8",
   "metadata": {},
   "source": [
    "## Investigating class imbalance  "
   ]
  },
  {
   "cell_type": "code",
   "execution_count": 14,
   "id": "40ae5d75",
   "metadata": {},
   "outputs": [
    {
     "name": "stdout",
     "output_type": "stream",
     "text": [
      "0.7062374245472837\n",
      "0.7112676056338029\n",
      "0.7082494969818913\n",
      "0.676056338028169\n"
     ]
    }
   ],
   "source": [
    "print(df_copy['Expert 1'].sum() / df_copy['Expert 1'].count())\n",
    "print(df_copy['Expert 2'].sum() / df_copy['Expert 2'].count())\n",
    "print(df_copy['Expert 3'].sum() / df_copy['Expert 3'].count())\n",
    "print(df_copy['Expert 4'].sum() / df_copy['Expert 4'].count())"
   ]
  },
  {
   "cell_type": "markdown",
   "id": "258b5328",
   "metadata": {},
   "source": [
    "### So almost 70% of instances are class 1, and the other 30% are class 0"
   ]
  },
  {
   "cell_type": "markdown",
   "id": "63ea92a5",
   "metadata": {},
   "source": [
    "## Cohen's kappa measure for inter-judge agreement on the 2 classes"
   ]
  },
  {
   "cell_type": "code",
   "execution_count": 15,
   "id": "d358c001",
   "metadata": {},
   "outputs": [
    {
     "name": "stdout",
     "output_type": "stream",
     "text": [
      "0.8513573806500326\n",
      "0.839657043417052\n",
      "0.8446389496717724\n",
      "0.8852357533445678\n",
      "0.8841761827079935\n",
      "0.8632438894792773\n"
     ]
    }
   ],
   "source": [
    "print(cohen_kappa_score(df_copy['Expert 1'], df_copy['Expert 2']))\n",
    "\n",
    "print(cohen_kappa_score(df_copy['Expert 1'], df_copy['Expert 3']))\n",
    "\n",
    "print(cohen_kappa_score(df_copy['Expert 1'], df_copy['Expert 4']))\n",
    "\n",
    "print(cohen_kappa_score(df_copy['Expert 2'], df_copy['Expert 3']))\n",
    "\n",
    "print(cohen_kappa_score(df_copy['Expert 2'], df_copy['Expert 4']))\n",
    "\n",
    "print(cohen_kappa_score(df_copy['Expert 3'], df_copy['Expert 4']))\n"
   ]
  },
  {
   "cell_type": "markdown",
   "id": "83deecc4",
   "metadata": {},
   "source": [
    "# Building the dataset: reading every image (both its color and its grayscale counterpart) and setting them in a pandas dataframe, along with all their features"
   ]
  },
  {
   "cell_type": "code",
   "execution_count": 16,
   "id": "900e95fb",
   "metadata": {},
   "outputs": [
    {
     "name": "stderr",
     "output_type": "stream",
     "text": [
      "C:\\Users\\Uni\\anaconda3\\lib\\site-packages\\plantcv\\plantcv\\closing.py:26: FutureWarning: `selem` is a deprecated argument name for `binary_closing`. It will be removed in version 1.0. Please use `footprint` instead.\n"
     ]
    },
    {
     "name": "stdout",
     "output_type": "stream",
     "text": [
      "The time to run this cell in seconds is: 164.52493047714233\n"
     ]
    }
   ],
   "source": [
    "### Building the dataset\n",
    "\n",
    "start = time.time()\n",
    "\n",
    "\n",
    "img_list = []\n",
    "resize_img_list = []\n",
    "s_thresh_list = []\n",
    "b_thresh_list = []\n",
    "bs_list = []\n",
    "xor_img_list = []\n",
    "closed_ab_list = []\n",
    "analysis_list = []\n",
    "\n",
    "### resizing images for faster iterations, since using original size is slow and does not actually achieve better accuracy on final models\n",
    "\n",
    "new_width = width//3 ### floor division\n",
    "new_height = height//3 ### floor division\n",
    "\n",
    "for i in range(df_copy.shape[0]):\n",
    "    \n",
    "    ### Following the Plantcv tutorial for VIS images, all parameters were tested for optimal values via trial and error\n",
    "    \n",
    "    img, path, filename = pcv.readimage(df_copy['color_cam_path'][i])\n",
    "    resize_img = pcv.transform.resize(img=img, size=(new_height, new_width), interpolation=\"auto\")\n",
    "    s = pcv.rgb2gray_hsv(rgb_img=resize_img, channel='s')\n",
    "    s_thresh = pcv.threshold.binary(gray_img=s, threshold=140, max_value=255, object_type='light')\n",
    "    s_mblur = pcv.median_blur(gray_img=s_thresh, ksize=5)\n",
    "    gaussian_img = pcv.gaussian_blur(img=s_thresh, ksize=(5, 5), sigma_x=0, sigma_y=None)\n",
    "    b = pcv.rgb2gray_lab(rgb_img=resize_img, channel='b')\n",
    "    b_thresh = pcv.threshold.binary(gray_img=b, threshold=160, max_value=255, \n",
    "                                object_type='light')\n",
    "    bs = pcv.logical_or(bin_img1=s_mblur, bin_img2=b_thresh)\n",
    "    masked = pcv.apply_mask(img=resize_img, mask=bs, mask_color='white')\n",
    "    masked_a = pcv.rgb2gray_lab(rgb_img=masked, channel='a')\n",
    "    masked_b = pcv.rgb2gray_lab(rgb_img=masked, channel='b')\n",
    "    maskeda_thresh = pcv.threshold.binary(gray_img=masked_a, threshold=115, \n",
    "                                      max_value=255, object_type='dark')\n",
    "    maskeda_thresh1 = pcv.threshold.binary(gray_img=masked_a, threshold=135, \n",
    "                                       max_value=255, object_type='light')\n",
    "    maskedb_thresh = pcv.threshold.binary(gray_img=masked_b, threshold=128, \n",
    "                                      max_value=255, object_type='light')\n",
    "    ab1 = pcv.logical_or(bin_img1=maskeda_thresh, bin_img2=maskedb_thresh)\n",
    "    ab = pcv.logical_or(bin_img1=maskeda_thresh1, bin_img2=ab1)\n",
    "    opened_ab = pcv.opening(gray_img=ab)\n",
    "    xor_img = pcv.logical_xor(bin_img1=maskeda_thresh, bin_img2=maskedb_thresh)\n",
    "    ab_fill = pcv.fill(bin_img=ab, size=200)\n",
    "    closed_ab = pcv.closing(gray_img=ab_fill)\n",
    "    masked2 = pcv.apply_mask(img=masked, mask=ab_fill, mask_color='white')\n",
    "    id_objects, obj_hierarchy = pcv.find_objects(img=masked2, mask=ab_fill)\n",
    "    roi1, roi_hierarchy= pcv.roi.rectangle(img=masked2, x=100, y=100, h=200, w=200)\n",
    "    roi_objects, hierarchy3, kept_mask, obj_area = pcv.roi_objects(img=resize_img, roi_contour=roi1, \n",
    "                                                               roi_hierarchy=roi_hierarchy, \n",
    "                                                               object_contour=id_objects, \n",
    "                                                               obj_hierarchy=obj_hierarchy,\n",
    "                                                               roi_type='partial')\n",
    "    obj, mask = pcv.object_composition(img=resize_img, contours=roi_objects, hierarchy=hierarchy3) ### slower command than all the others\n",
    "    analysis_image_test = pcv.analyze_object(img=resize_img, obj=obj, mask=mask, label=\"default\")\n",
    "    \n",
    "    #img_list.append(img)\n",
    "    resize_img_list.append(resize_img.flatten())\n",
    "    s_thresh_list.append(s_thresh.flatten())\n",
    "    b_thresh_list.append(b_thresh.flatten())\n",
    "    bs_list.append(bs.flatten())\n",
    "    xor_img_list.append(xor_img.flatten())\n",
    "    closed_ab_list.append(closed_ab.flatten())\n",
    "    analysis_list.append(analysis_image_test.flatten())\n",
    "    \n",
    "end = time.time()\n",
    "\n",
    "print(f\"The time to run this cell in seconds is: {end - start}\") ### typically for these features it takes around 160 seconds"
   ]
  },
  {
   "cell_type": "code",
   "execution_count": 17,
   "id": "4e81b3b1",
   "metadata": {},
   "outputs": [],
   "source": [
    "# plt.imshow(analysis_image_test_pca, cmap='gray')\n",
    "# plt.show()"
   ]
  },
  {
   "cell_type": "code",
   "execution_count": 18,
   "id": "f9c2b651",
   "metadata": {},
   "outputs": [
    {
     "data": {
      "text/html": [
       "<div>\n",
       "<style scoped>\n",
       "    .dataframe tbody tr th:only-of-type {\n",
       "        vertical-align: middle;\n",
       "    }\n",
       "\n",
       "    .dataframe tbody tr th {\n",
       "        vertical-align: top;\n",
       "    }\n",
       "\n",
       "    .dataframe thead th {\n",
       "        text-align: right;\n",
       "    }\n",
       "</style>\n",
       "<table border=\"1\" class=\"dataframe\">\n",
       "  <thead>\n",
       "    <tr style=\"text-align: right;\">\n",
       "      <th></th>\n",
       "      <th>Expert 1</th>\n",
       "      <th>Expert 2</th>\n",
       "      <th>Expert 3</th>\n",
       "      <th>Expert 4</th>\n",
       "      <th>color_cam_path</th>\n",
       "      <th>side_cam_path</th>\n",
       "      <th>Rfid</th>\n",
       "      <th>Pos</th>\n",
       "      <th>average_expert</th>\n",
       "      <th>Resize Image</th>\n",
       "      <th>Analysis Image</th>\n",
       "      <th>s_thresh</th>\n",
       "      <th>b_thresh</th>\n",
       "      <th>bs</th>\n",
       "      <th>xor_img</th>\n",
       "      <th>closed_ab</th>\n",
       "    </tr>\n",
       "  </thead>\n",
       "  <tbody>\n",
       "    <tr>\n",
       "      <th>0</th>\n",
       "      <td>0</td>\n",
       "      <td>0</td>\n",
       "      <td>0</td>\n",
       "      <td>0</td>\n",
       "      <td>A1/00387 Plant 0000 Plant 0000/18-02-2019 -- 1...</td>\n",
       "      <td>A1/00387 Plant 0000 Plant 0000/18-02-2019 -- 1...</td>\n",
       "      <td>A1</td>\n",
       "      <td>Plant 0000</td>\n",
       "      <td>4.0</td>\n",
       "      <td>[255, 255, 255, 255, 255, 255, 255, 255, 255, ...</td>\n",
       "      <td>[255, 255, 255, 255, 255, 255, 255, 255, 255, ...</td>\n",
       "      <td>[0, 0, 0, 0, 0, 0, 0, 0, 0, 0, 0, 0, 0, 0, 0, ...</td>\n",
       "      <td>[0, 0, 0, 0, 0, 0, 0, 0, 0, 0, 0, 0, 0, 0, 0, ...</td>\n",
       "      <td>[0, 0, 0, 0, 0, 0, 0, 0, 0, 0, 0, 0, 0, 0, 0, ...</td>\n",
       "      <td>[0, 0, 0, 0, 0, 0, 0, 0, 0, 0, 0, 0, 0, 0, 0, ...</td>\n",
       "      <td>[0, 0, 0, 0, 0, 0, 0, 0, 0, 0, 0, 0, 0, 0, 0, ...</td>\n",
       "    </tr>\n",
       "    <tr>\n",
       "      <th>1</th>\n",
       "      <td>1</td>\n",
       "      <td>1</td>\n",
       "      <td>1</td>\n",
       "      <td>1</td>\n",
       "      <td>A1/00388 Plant 0001 Plant 0001/18-02-2019 -- 1...</td>\n",
       "      <td>A1/00388 Plant 0001 Plant 0001/18-02-2019 -- 1...</td>\n",
       "      <td>A1</td>\n",
       "      <td>Plant 0001</td>\n",
       "      <td>1.0</td>\n",
       "      <td>[255, 255, 255, 255, 255, 255, 255, 255, 255, ...</td>\n",
       "      <td>[255, 255, 255, 255, 255, 255, 255, 255, 255, ...</td>\n",
       "      <td>[0, 0, 0, 0, 0, 0, 0, 0, 0, 0, 0, 0, 0, 0, 0, ...</td>\n",
       "      <td>[0, 0, 0, 0, 0, 0, 0, 0, 0, 0, 0, 0, 0, 0, 0, ...</td>\n",
       "      <td>[0, 0, 0, 0, 0, 0, 0, 0, 0, 0, 0, 0, 0, 0, 0, ...</td>\n",
       "      <td>[0, 0, 0, 0, 0, 0, 0, 0, 0, 0, 0, 0, 0, 0, 0, ...</td>\n",
       "      <td>[0, 0, 0, 0, 0, 0, 0, 0, 0, 0, 0, 0, 0, 0, 0, ...</td>\n",
       "    </tr>\n",
       "    <tr>\n",
       "      <th>2</th>\n",
       "      <td>1</td>\n",
       "      <td>1</td>\n",
       "      <td>1</td>\n",
       "      <td>1</td>\n",
       "      <td>A1/00389 Plant 0002 Plant 0002/18-02-2019 -- 1...</td>\n",
       "      <td>A1/00389 Plant 0002 Plant 0002/18-02-2019 -- 1...</td>\n",
       "      <td>A1</td>\n",
       "      <td>Plant 0002</td>\n",
       "      <td>1.0</td>\n",
       "      <td>[255, 255, 255, 255, 255, 255, 255, 255, 255, ...</td>\n",
       "      <td>[255, 255, 255, 255, 255, 255, 255, 255, 255, ...</td>\n",
       "      <td>[0, 0, 0, 0, 0, 0, 0, 0, 0, 0, 0, 0, 0, 0, 0, ...</td>\n",
       "      <td>[0, 0, 0, 0, 0, 0, 0, 0, 0, 0, 0, 0, 0, 0, 0, ...</td>\n",
       "      <td>[0, 0, 0, 0, 0, 0, 0, 0, 0, 0, 0, 0, 0, 0, 0, ...</td>\n",
       "      <td>[0, 0, 0, 0, 0, 0, 0, 0, 0, 0, 0, 0, 0, 0, 0, ...</td>\n",
       "      <td>[0, 0, 0, 0, 0, 0, 0, 0, 0, 0, 0, 0, 0, 0, 0, ...</td>\n",
       "    </tr>\n",
       "    <tr>\n",
       "      <th>3</th>\n",
       "      <td>0</td>\n",
       "      <td>0</td>\n",
       "      <td>0</td>\n",
       "      <td>0</td>\n",
       "      <td>A1/00390 Plant 0003 Plant 0003/18-02-2019 -- 1...</td>\n",
       "      <td>A1/00390 Plant 0003 Plant 0003/18-02-2019 -- 1...</td>\n",
       "      <td>A1</td>\n",
       "      <td>Plant 0003</td>\n",
       "      <td>3.5</td>\n",
       "      <td>[255, 255, 255, 255, 255, 255, 255, 255, 255, ...</td>\n",
       "      <td>[255, 255, 255, 255, 255, 255, 255, 255, 255, ...</td>\n",
       "      <td>[0, 0, 0, 0, 0, 0, 0, 0, 0, 0, 0, 0, 0, 0, 0, ...</td>\n",
       "      <td>[0, 0, 0, 0, 0, 0, 0, 0, 0, 0, 0, 0, 0, 0, 0, ...</td>\n",
       "      <td>[0, 0, 0, 0, 0, 0, 0, 0, 0, 0, 0, 0, 0, 0, 0, ...</td>\n",
       "      <td>[0, 0, 0, 0, 0, 0, 0, 0, 0, 0, 0, 0, 0, 0, 0, ...</td>\n",
       "      <td>[0, 0, 0, 0, 0, 0, 0, 0, 0, 0, 0, 0, 0, 0, 0, ...</td>\n",
       "    </tr>\n",
       "    <tr>\n",
       "      <th>4</th>\n",
       "      <td>0</td>\n",
       "      <td>1</td>\n",
       "      <td>1</td>\n",
       "      <td>1</td>\n",
       "      <td>A1/00391 Plant 0004 Plant 0004/18-02-2019 -- 1...</td>\n",
       "      <td>A1/00391 Plant 0004 Plant 0004/18-02-2019 -- 1...</td>\n",
       "      <td>A1</td>\n",
       "      <td>Plant 0004</td>\n",
       "      <td>1.5</td>\n",
       "      <td>[255, 255, 255, 255, 255, 255, 255, 255, 255, ...</td>\n",
       "      <td>[255, 255, 255, 255, 255, 255, 255, 255, 255, ...</td>\n",
       "      <td>[0, 0, 0, 0, 0, 0, 0, 0, 0, 0, 0, 0, 0, 0, 0, ...</td>\n",
       "      <td>[0, 0, 0, 0, 0, 0, 0, 0, 0, 0, 0, 0, 0, 0, 0, ...</td>\n",
       "      <td>[0, 0, 0, 0, 0, 0, 0, 0, 0, 0, 0, 0, 0, 0, 0, ...</td>\n",
       "      <td>[0, 0, 0, 0, 0, 0, 0, 0, 0, 0, 0, 0, 0, 0, 0, ...</td>\n",
       "      <td>[0, 0, 0, 0, 0, 0, 0, 0, 0, 0, 0, 0, 0, 0, 0, ...</td>\n",
       "    </tr>\n",
       "  </tbody>\n",
       "</table>\n",
       "</div>"
      ],
      "text/plain": [
       "   Expert 1  Expert 2  Expert 3  Expert 4  \\\n",
       "0         0         0         0         0   \n",
       "1         1         1         1         1   \n",
       "2         1         1         1         1   \n",
       "3         0         0         0         0   \n",
       "4         0         1         1         1   \n",
       "\n",
       "                                      color_cam_path  \\\n",
       "0  A1/00387 Plant 0000 Plant 0000/18-02-2019 -- 1...   \n",
       "1  A1/00388 Plant 0001 Plant 0001/18-02-2019 -- 1...   \n",
       "2  A1/00389 Plant 0002 Plant 0002/18-02-2019 -- 1...   \n",
       "3  A1/00390 Plant 0003 Plant 0003/18-02-2019 -- 1...   \n",
       "4  A1/00391 Plant 0004 Plant 0004/18-02-2019 -- 1...   \n",
       "\n",
       "                                       side_cam_path Rfid         Pos  \\\n",
       "0  A1/00387 Plant 0000 Plant 0000/18-02-2019 -- 1...   A1  Plant 0000   \n",
       "1  A1/00388 Plant 0001 Plant 0001/18-02-2019 -- 1...   A1  Plant 0001   \n",
       "2  A1/00389 Plant 0002 Plant 0002/18-02-2019 -- 1...   A1  Plant 0002   \n",
       "3  A1/00390 Plant 0003 Plant 0003/18-02-2019 -- 1...   A1  Plant 0003   \n",
       "4  A1/00391 Plant 0004 Plant 0004/18-02-2019 -- 1...   A1  Plant 0004   \n",
       "\n",
       "   average_expert                                       Resize Image  \\\n",
       "0             4.0  [255, 255, 255, 255, 255, 255, 255, 255, 255, ...   \n",
       "1             1.0  [255, 255, 255, 255, 255, 255, 255, 255, 255, ...   \n",
       "2             1.0  [255, 255, 255, 255, 255, 255, 255, 255, 255, ...   \n",
       "3             3.5  [255, 255, 255, 255, 255, 255, 255, 255, 255, ...   \n",
       "4             1.5  [255, 255, 255, 255, 255, 255, 255, 255, 255, ...   \n",
       "\n",
       "                                      Analysis Image  \\\n",
       "0  [255, 255, 255, 255, 255, 255, 255, 255, 255, ...   \n",
       "1  [255, 255, 255, 255, 255, 255, 255, 255, 255, ...   \n",
       "2  [255, 255, 255, 255, 255, 255, 255, 255, 255, ...   \n",
       "3  [255, 255, 255, 255, 255, 255, 255, 255, 255, ...   \n",
       "4  [255, 255, 255, 255, 255, 255, 255, 255, 255, ...   \n",
       "\n",
       "                                            s_thresh  \\\n",
       "0  [0, 0, 0, 0, 0, 0, 0, 0, 0, 0, 0, 0, 0, 0, 0, ...   \n",
       "1  [0, 0, 0, 0, 0, 0, 0, 0, 0, 0, 0, 0, 0, 0, 0, ...   \n",
       "2  [0, 0, 0, 0, 0, 0, 0, 0, 0, 0, 0, 0, 0, 0, 0, ...   \n",
       "3  [0, 0, 0, 0, 0, 0, 0, 0, 0, 0, 0, 0, 0, 0, 0, ...   \n",
       "4  [0, 0, 0, 0, 0, 0, 0, 0, 0, 0, 0, 0, 0, 0, 0, ...   \n",
       "\n",
       "                                            b_thresh  \\\n",
       "0  [0, 0, 0, 0, 0, 0, 0, 0, 0, 0, 0, 0, 0, 0, 0, ...   \n",
       "1  [0, 0, 0, 0, 0, 0, 0, 0, 0, 0, 0, 0, 0, 0, 0, ...   \n",
       "2  [0, 0, 0, 0, 0, 0, 0, 0, 0, 0, 0, 0, 0, 0, 0, ...   \n",
       "3  [0, 0, 0, 0, 0, 0, 0, 0, 0, 0, 0, 0, 0, 0, 0, ...   \n",
       "4  [0, 0, 0, 0, 0, 0, 0, 0, 0, 0, 0, 0, 0, 0, 0, ...   \n",
       "\n",
       "                                                  bs  \\\n",
       "0  [0, 0, 0, 0, 0, 0, 0, 0, 0, 0, 0, 0, 0, 0, 0, ...   \n",
       "1  [0, 0, 0, 0, 0, 0, 0, 0, 0, 0, 0, 0, 0, 0, 0, ...   \n",
       "2  [0, 0, 0, 0, 0, 0, 0, 0, 0, 0, 0, 0, 0, 0, 0, ...   \n",
       "3  [0, 0, 0, 0, 0, 0, 0, 0, 0, 0, 0, 0, 0, 0, 0, ...   \n",
       "4  [0, 0, 0, 0, 0, 0, 0, 0, 0, 0, 0, 0, 0, 0, 0, ...   \n",
       "\n",
       "                                             xor_img  \\\n",
       "0  [0, 0, 0, 0, 0, 0, 0, 0, 0, 0, 0, 0, 0, 0, 0, ...   \n",
       "1  [0, 0, 0, 0, 0, 0, 0, 0, 0, 0, 0, 0, 0, 0, 0, ...   \n",
       "2  [0, 0, 0, 0, 0, 0, 0, 0, 0, 0, 0, 0, 0, 0, 0, ...   \n",
       "3  [0, 0, 0, 0, 0, 0, 0, 0, 0, 0, 0, 0, 0, 0, 0, ...   \n",
       "4  [0, 0, 0, 0, 0, 0, 0, 0, 0, 0, 0, 0, 0, 0, 0, ...   \n",
       "\n",
       "                                           closed_ab  \n",
       "0  [0, 0, 0, 0, 0, 0, 0, 0, 0, 0, 0, 0, 0, 0, 0, ...  \n",
       "1  [0, 0, 0, 0, 0, 0, 0, 0, 0, 0, 0, 0, 0, 0, 0, ...  \n",
       "2  [0, 0, 0, 0, 0, 0, 0, 0, 0, 0, 0, 0, 0, 0, 0, ...  \n",
       "3  [0, 0, 0, 0, 0, 0, 0, 0, 0, 0, 0, 0, 0, 0, 0, ...  \n",
       "4  [0, 0, 0, 0, 0, 0, 0, 0, 0, 0, 0, 0, 0, 0, 0, ...  "
      ]
     },
     "execution_count": 18,
     "metadata": {},
     "output_type": "execute_result"
    }
   ],
   "source": [
    "df_copy['Resize Image'] = resize_img_list\n",
    "df_copy['Analysis Image'] = analysis_list\n",
    "df_copy['s_thresh'] = s_thresh_list\n",
    "df_copy['b_thresh'] = b_thresh_list\n",
    "df_copy['bs'] = bs_list\n",
    "df_copy['xor_img'] = xor_img_list\n",
    "df_copy['closed_ab'] = closed_ab_list\n",
    "\n",
    "\n",
    "df_copy.head()"
   ]
  },
  {
   "cell_type": "code",
   "execution_count": 19,
   "id": "2d83d269",
   "metadata": {},
   "outputs": [
    {
     "data": {
      "image/png": "[encoded data removed]",
      "text/plain": [
       "<Figure size 640x480 with 1 Axes>"
      ]
     },
     "metadata": {},
     "output_type": "display_data"
    }
   ],
   "source": [
    "### Printing a test image from the dataframe to ensure that the images are saved correctly\n",
    "\n",
    "test = df_copy['Analysis Image'][100]\n",
    "plt.imshow(test.reshape((new_width, new_height,3)), cmap='gray')\n",
    "plt.show()"
   ]
  },
  {
   "cell_type": "code",
   "execution_count": 20,
   "id": "fd71689f",
   "metadata": {},
   "outputs": [
    {
     "data": {
      "text/plain": [
       "numpy.ndarray"
      ]
     },
     "execution_count": 20,
     "metadata": {},
     "output_type": "execute_result"
    }
   ],
   "source": [
    "type(df_copy[\"Analysis Image\"][0])"
   ]
  },
  {
   "cell_type": "code",
   "execution_count": 21,
   "id": "2d8c5abb",
   "metadata": {},
   "outputs": [
    {
     "data": {
      "text/plain": [
       "(408960,)"
      ]
     },
     "execution_count": 21,
     "metadata": {},
     "output_type": "execute_result"
    }
   ],
   "source": [
    "df_copy[\"Analysis Image\"][0].shape"
   ]
  },
  {
   "cell_type": "code",
   "execution_count": 22,
   "id": "eecfd523",
   "metadata": {},
   "outputs": [],
   "source": [
    "# s_thresh_list_test_pca = []\n",
    "# b_thresh_list_test_pca = []\n",
    "# bs_list_test_pca = []\n",
    "# xor_img_list_test_pca = []\n",
    "# closed_ab_list_test_pca = []\n",
    "\n",
    "# analysis_list_test_pca = []"
   ]
  },
  {
   "cell_type": "code",
   "execution_count": 23,
   "id": "db4c0de2",
   "metadata": {},
   "outputs": [
    {
     "name": "stdout",
     "output_type": "stream",
     "text": [
      "The time to run this cell in seconds is:306.8157389163971\n"
     ]
    }
   ],
   "source": [
    "### Transforming the lists into numpy arrays for classification later\n",
    "\n",
    "start = time.time()\n",
    "\n",
    "\n",
    "resize_img_array = resize_img_list[0]\n",
    "analysis_image_array = analysis_list[0]\n",
    "s_thresh_image_array = s_thresh_list[0]\n",
    "b_thresh_image_array = b_thresh_list[0]\n",
    "bs_image_array = bs_list[0]\n",
    "xor_img_image_array = xor_img_list[0]\n",
    "closed_ab_image_array = closed_ab_list[0]\n",
    "\n",
    "\n",
    "\n",
    "for k in range(1,df_copy.shape[0]):\n",
    "    \n",
    "    intermediate_resize_image = resize_img_list[k]\n",
    "    resize_img_array = np.vstack((resize_img_array,intermediate_resize_image))\n",
    "    \n",
    "    intermediate_analysis_image = analysis_list[k]\n",
    "    analysis_image_array = np.vstack((analysis_image_array, intermediate_analysis_image))\n",
    "    \n",
    "    intermediate_s_thresh_image = s_thresh_list[k]\n",
    "    s_thresh_image_array = np.vstack((s_thresh_image_array, intermediate_s_thresh_image))\n",
    "    \n",
    "    intermediate_b_thresh_image = b_thresh_list[k]\n",
    "    b_thresh_image_array = np.vstack((b_thresh_image_array, intermediate_b_thresh_image))\n",
    "    \n",
    "    intermediate_bs_image = bs_list[k]\n",
    "    bs_image_array = np.vstack((bs_image_array, intermediate_bs_image))      \n",
    "    \n",
    "    intermediate_xor_image = xor_img_list[k]\n",
    "    xor_img_image_array = np.vstack((xor_img_image_array, intermediate_xor_image))    \n",
    "    \n",
    "    intermediate_closed_ab_image = closed_ab_list[k]\n",
    "    closed_ab_image_array = np.vstack((closed_ab_image_array, intermediate_closed_ab_image))        \n",
    "    \n",
    "    \n",
    "    \n",
    "    \n",
    "end = time.time()    \n",
    "\n",
    "print(f\"The time to run this cell in seconds is:{end - start}\") ### typically around 280 seconds"
   ]
  },
  {
   "cell_type": "code",
   "execution_count": 24,
   "id": "9370e5c6",
   "metadata": {},
   "outputs": [],
   "source": [
    "all_features_vis = np.hstack((resize_img_array,\n",
    "                              analysis_image_array, \n",
    "                              s_thresh_image_array, \n",
    "                              b_thresh_image_array,\n",
    "                              bs_image_array,\n",
    "                              xor_img_image_array,\n",
    "                              closed_ab_image_array))"
   ]
  },
  {
   "cell_type": "code",
   "execution_count": 25,
   "id": "4a0c0ce5",
   "metadata": {},
   "outputs": [
    {
     "data": {
      "text/plain": [
       "(994, 1499520)"
      ]
     },
     "execution_count": 25,
     "metadata": {},
     "output_type": "execute_result"
    }
   ],
   "source": [
    "all_features_vis.shape"
   ]
  },
  {
   "cell_type": "markdown",
   "id": "ebb02c51",
   "metadata": {},
   "source": [
    "994, 1499520 for all features"
   ]
  },
  {
   "cell_type": "markdown",
   "id": "fc6e8250",
   "metadata": {},
   "source": [
    "# testing values for black and white images"
   ]
  },
  {
   "cell_type": "code",
   "execution_count": 26,
   "id": "1926f99e",
   "metadata": {},
   "outputs": [
    {
     "name": "stdout",
     "output_type": "stream",
     "text": [
      "The time to run this cell in seconds is: 31.301432609558105\n"
     ]
    }
   ],
   "source": [
    "### Building the dataset for the black-and-white images\n",
    "### Commented lines are lines which cannot be run from the NIR Tutorial because of missing background images\n",
    "\n",
    "start = time.time()\n",
    "\n",
    "\n",
    "resize_img_bw_list = []\n",
    "lp_img_bw_list = []\n",
    "lp_shrp_img_bw_list = []\n",
    "sb_img_bw_list = []\n",
    "mblur_img_bw_list = []\n",
    "mblur_invert_img_bw_list = []\n",
    "edge_shrp_img_bw_list = []\n",
    "tr_es_img_bw_list = []\n",
    "f_img_bw_list = []\n",
    "eroded_img_bw_list = []\n",
    "bx1234_img_bw_list = []\n",
    "\n",
    "\n",
    "\n",
    "### resizing images for faster iterations, since using original size is slow and does not actually achieve better accuracy on final models\n",
    "\n",
    "new_width = width//3 ### floor division\n",
    "new_height = height//3 ### floor division\n",
    "\n",
    "for i in range(df_copy.shape[0]):\n",
    "    \n",
    "    ### Following the Plantcv tutorial for NIR images, all parameters were tested for optimal values via trial and error\n",
    "    \n",
    "    img_bw, path_bw, filename_bw = pcv.readimage(df_copy['side_cam_path'][i])\n",
    "    resize_img_bw = pcv.transform.resize(img=img_bw, size=(new_height, new_width), interpolation=\"auto\")\n",
    "    lp_img_bw = pcv.laplace_filter(gray_img=resize_img_bw, ksize=1, scale=1)\n",
    "    lp_shrp_img_bw = pcv.image_subtract(gray_img1=resize_img_bw, gray_img2=lp_img_bw)\n",
    "    sbx_img_bw = pcv.sobel_filter(gray_img=resize_img_bw, dx=1, dy=0, ksize=1)\n",
    "    sby_img_bw = pcv.sobel_filter(gray_img=resize_img_bw, dx=0, dy=1, ksize=1)\n",
    "    #scharrx_img_bw = pcv.scharr_filter(img=resize_img_bw, dx=1, dy=0, scale=1)\n",
    "    #scharry_img_bw = pcv.scharr_filter(img=resize_img_bw, dx=0, dy=1, scale=1)\n",
    "    sb_img_bw = pcv.image_add(gray_img1=sbx_img_bw, gray_img2=sby_img_bw)\n",
    "    mblur_img_bw = pcv.median_blur(gray_img=sb_img_bw, ksize=1)\n",
    "    mblur_invert_img_bw = pcv.invert(gray_img=mblur_img_bw)\n",
    "    edge_shrp_img_bw = pcv.image_add(gray_img1=mblur_invert_img_bw, gray_img2=lp_shrp_img_bw)\n",
    "    tr_es_img_bw = pcv.threshold.binary(gray_img=edge_shrp_img_bw, threshold=165, \n",
    "                                 max_value=255, object_type='dark')\n",
    "    f_img_bw = pcv.fill(bin_img=tr_es_img_bw, size=5)\n",
    "    eroded_img_bw = pcv.erode(gray_img=tr_es_img_bw, ksize=2, i=1)\n",
    "    #comb_img_bw = pcv.logical_or(bin_img1=f_img_bw, bin_img2=bkg_sub_thres_img) # we have no background image\n",
    "    #masked_erd_bw = pcv.apply_mask(img=resize_img_bw, mask=comb_img_bw, mask_color='black')\n",
    "    masked1_bw, box1_img_bw, rect_contour1_bw, hierarchy1_bw = pcv.rectangle_mask(img=resize_img_bw, p1=(110,185), p2=(215,252))\n",
    "    masked2_bw, box2_img_bw, rect_contour2_bw, hierarchy2_bw = pcv.rectangle_mask(img=resize_img_bw, p1=(1,1), p2=(60,252))\n",
    "    masked3_bw, box3_img_bw, rect_contour3_bw, hierarchy3_bw = pcv.rectangle_mask(img=resize_img_bw, p1=(240,1), p2=(320,254))\n",
    "    masked4_bw, box4_img_bw, rect_contour4_bw, hierarchy4_bw = pcv.rectangle_mask(img=resize_img_bw, p1=(0,251), p2=(320,254))\n",
    "    bx12_img_bw = pcv.logical_and(bin_img1=box1_img_bw, bin_img2=box2_img_bw)\n",
    "    bx123_img_bw = pcv.logical_and(bin_img1=bx12_img_bw, bin_img2=box3_img_bw)\n",
    "    bx1234_img_bw = pcv.logical_and(bin_img1=bx123_img_bw, bin_img2=box4_img_bw)\n",
    "    #edge_masked_img_bw = pcv.apply_mask(img=masked_erd_bw, mask=bx1234_img_bw, mask_color='black')\n",
    "    #id_objects_bw, obj_hierarchy_bw = pcv.find_objects(img=resize_img_bw, mask=edge_masked_img_bw)\n",
    "    #roi1_bw, roi_hierarchy_bw= pcv.roi.rectangle(img=edge_masked_img_bw, x=100, y=45, h=130, w=100)\n",
    "    #roi_objects_bw, hierarchy5_bw, kept_mask_bw, obj_area_bw = pcv.roi_objects(img=edge_masked_img_bw, roi_contour=roi1_bw, \n",
    "                                                               #roi_hierarchy=roi_hierarchy_bw, object_contour=id_objects_bw, \n",
    "                                                               #obj_hierarchy=obj_hierarchy_bw, roi_type='partial')\n",
    "    \n",
    "    #dist_img_bw = pcv.distance_transform(bin_img=kept_mask_bw, distance_type=1, mask_size=3)\n",
    "    #grp_object_bw, img_mask_bw = pcv.object_composition(img=resize_img_bw, contours=roi_objects_bw, hierarchy=hierarchy5_bw)\n",
    "    #nir_hist_img_bw = pcv.analyze_nir_intensity(gray_img=resize_img_bw, mask=kept_mask,bins=256, histplot=True)\n",
    "    #pseudocolored_img_bw = pcv.visualize.pseudocolor(gray_img=resize_img_bw, obj=None, mask=kept_mask_bw, cmap='viridis')\n",
    "    #simple_pseudo_img_bw = pcv.visualize.pseudocolor(gray_img=resize_img_bw, obj=None, mask=kept_mask_bw, background=\"image\", \n",
    "                                              #axes=False, colorbar=False, cmap='viridis')   \n",
    "    #shape_imgs_bw = pcv.analyze_object(img=resize_img_bw, obj=grp_object, mask=img_mask_bw)\n",
    "    \n",
    "    resize_img_bw_list.append(resize_img_bw.flatten())\n",
    "    lp_img_bw_list.append(lp_img_bw.flatten())\n",
    "    lp_shrp_img_bw_list.append(lp_shrp_img_bw.flatten())\n",
    "    sb_img_bw_list.append(sb_img_bw.flatten())\n",
    "    mblur_img_bw_list.append(mblur_img_bw.flatten())\n",
    "    mblur_invert_img_bw_list.append(mblur_invert_img_bw.flatten())\n",
    "    edge_shrp_img_bw_list.append(edge_shrp_img_bw.flatten())\n",
    "    tr_es_img_bw_list.append(tr_es_img_bw.flatten())\n",
    "    f_img_bw_list.append(f_img_bw.flatten())\n",
    "    eroded_img_bw_list.append(eroded_img_bw.flatten())\n",
    "    bx1234_img_bw_list.append(bx1234_img_bw.flatten())\n",
    "    \n",
    "    \n",
    "    \n",
    "    \n",
    "    \n",
    "\n",
    "    \n",
    "end = time.time()\n",
    "\n",
    "print(f\"The time to run this cell in seconds is: {end - start}\") ### typically for these features it takes around 70 seconds"
   ]
  },
  {
   "cell_type": "code",
   "execution_count": 27,
   "id": "afd1294f",
   "metadata": {},
   "outputs": [],
   "source": [
    "df_copy['resize_img_bw'] = resize_img_bw_list\n",
    "df_copy['lp_img_bw'] = lp_img_bw_list\n",
    "df_copy['lp_shrp_img_bw'] = lp_shrp_img_bw_list\n",
    "df_copy['sb_img_bw'] = sb_img_bw_list\n",
    "df_copy['mblur_img_bw'] = mblur_img_bw_list\n",
    "df_copy['mblur_invert_img_bw'] = mblur_invert_img_bw_list\n",
    "df_copy['edge_shrp_img_bw'] = edge_shrp_img_bw_list\n",
    "df_copy['tr_es_img_bw'] = tr_es_img_bw_list\n",
    "df_copy['f_img_bw'] = f_img_bw_list\n",
    "df_copy['eroded_img_bw'] = eroded_img_bw_list\n",
    "df_copy['bx1234_img_bw'] = bx1234_img_bw_list\n",
    "\n"
   ]
  },
  {
   "cell_type": "code",
   "execution_count": 28,
   "id": "f361a7d4",
   "metadata": {},
   "outputs": [
    {
     "data": {
      "text/html": [
       "<div>\n",
       "<style scoped>\n",
       "    .dataframe tbody tr th:only-of-type {\n",
       "        vertical-align: middle;\n",
       "    }\n",
       "\n",
       "    .dataframe tbody tr th {\n",
       "        vertical-align: top;\n",
       "    }\n",
       "\n",
       "    .dataframe thead th {\n",
       "        text-align: right;\n",
       "    }\n",
       "</style>\n",
       "<table border=\"1\" class=\"dataframe\">\n",
       "  <thead>\n",
       "    <tr style=\"text-align: right;\">\n",
       "      <th></th>\n",
       "      <th>Expert 1</th>\n",
       "      <th>Expert 2</th>\n",
       "      <th>Expert 3</th>\n",
       "      <th>Expert 4</th>\n",
       "      <th>color_cam_path</th>\n",
       "      <th>side_cam_path</th>\n",
       "      <th>Rfid</th>\n",
       "      <th>Pos</th>\n",
       "      <th>average_expert</th>\n",
       "      <th>Resize Image</th>\n",
       "      <th>...</th>\n",
       "      <th>lp_img_bw</th>\n",
       "      <th>lp_shrp_img_bw</th>\n",
       "      <th>sb_img_bw</th>\n",
       "      <th>mblur_img_bw</th>\n",
       "      <th>mblur_invert_img_bw</th>\n",
       "      <th>edge_shrp_img_bw</th>\n",
       "      <th>tr_es_img_bw</th>\n",
       "      <th>f_img_bw</th>\n",
       "      <th>eroded_img_bw</th>\n",
       "      <th>bx1234_img_bw</th>\n",
       "    </tr>\n",
       "  </thead>\n",
       "  <tbody>\n",
       "    <tr>\n",
       "      <th>0</th>\n",
       "      <td>0</td>\n",
       "      <td>0</td>\n",
       "      <td>0</td>\n",
       "      <td>0</td>\n",
       "      <td>A1/00387 Plant 0000 Plant 0000/18-02-2019 -- 1...</td>\n",
       "      <td>A1/00387 Plant 0000 Plant 0000/18-02-2019 -- 1...</td>\n",
       "      <td>A1</td>\n",
       "      <td>Plant 0000</td>\n",
       "      <td>4.0</td>\n",
       "      <td>[255, 255, 255, 255, 255, 255, 255, 255, 255, ...</td>\n",
       "      <td>...</td>\n",
       "      <td>[0, 0, 0, 0, 0, 1, 0, 1, 0, 1, 6, 0, 0, 0, 4, ...</td>\n",
       "      <td>[203, 202, 202, 203, 203, 201, 202, 201, 203, ...</td>\n",
       "      <td>[0, 0, 1, 1, 0, 0, 0, 1, 0, 0, 0, 1, 0, 0, 0, ...</td>\n",
       "      <td>[0, 0, 1, 1, 0, 0, 0, 1, 0, 0, 0, 1, 0, 0, 0, ...</td>\n",
       "      <td>[255, 255, 254, 254, 255, 255, 255, 254, 255, ...</td>\n",
       "      <td>[202, 201, 200, 201, 202, 200, 201, 199, 202, ...</td>\n",
       "      <td>[0, 0, 0, 0, 0, 0, 0, 0, 0, 0, 0, 0, 0, 0, 0, ...</td>\n",
       "      <td>[0, 0, 0, 0, 0, 0, 0, 0, 0, 0, 0, 0, 0, 0, 0, ...</td>\n",
       "      <td>[0, 0, 0, 0, 0, 0, 0, 0, 0, 0, 0, 0, 0, 0, 0, ...</td>\n",
       "      <td>[255, 255, 255, 255, 255, 255, 255, 255, 255, ...</td>\n",
       "    </tr>\n",
       "    <tr>\n",
       "      <th>1</th>\n",
       "      <td>1</td>\n",
       "      <td>1</td>\n",
       "      <td>1</td>\n",
       "      <td>1</td>\n",
       "      <td>A1/00388 Plant 0001 Plant 0001/18-02-2019 -- 1...</td>\n",
       "      <td>A1/00388 Plant 0001 Plant 0001/18-02-2019 -- 1...</td>\n",
       "      <td>A1</td>\n",
       "      <td>Plant 0001</td>\n",
       "      <td>1.0</td>\n",
       "      <td>[255, 255, 255, 255, 255, 255, 255, 255, 255, ...</td>\n",
       "      <td>...</td>\n",
       "      <td>[0, 2, 0, 0, 0, 3, 0, 2, 0, 5, 0, 0, 4, 0, 0, ...</td>\n",
       "      <td>[201, 198, 201, 201, 201, 198, 202, 198, 202, ...</td>\n",
       "      <td>[0, 0, 1, 0, 0, 1, 0, 0, 0, 0, 1, 0, 0, 2, 1, ...</td>\n",
       "      <td>[0, 0, 1, 0, 0, 1, 0, 0, 0, 0, 1, 0, 0, 2, 1, ...</td>\n",
       "      <td>[255, 255, 254, 255, 255, 254, 255, 255, 255, ...</td>\n",
       "      <td>[200, 197, 199, 200, 200, 196, 201, 197, 201, ...</td>\n",
       "      <td>[0, 0, 0, 0, 0, 0, 0, 0, 0, 0, 0, 0, 0, 0, 0, ...</td>\n",
       "      <td>[0, 0, 0, 0, 0, 0, 0, 0, 0, 0, 0, 0, 0, 0, 0, ...</td>\n",
       "      <td>[0, 0, 0, 0, 0, 0, 0, 0, 0, 0, 0, 0, 0, 0, 0, ...</td>\n",
       "      <td>[255, 255, 255, 255, 255, 255, 255, 255, 255, ...</td>\n",
       "    </tr>\n",
       "    <tr>\n",
       "      <th>2</th>\n",
       "      <td>1</td>\n",
       "      <td>1</td>\n",
       "      <td>1</td>\n",
       "      <td>1</td>\n",
       "      <td>A1/00389 Plant 0002 Plant 0002/18-02-2019 -- 1...</td>\n",
       "      <td>A1/00389 Plant 0002 Plant 0002/18-02-2019 -- 1...</td>\n",
       "      <td>A1</td>\n",
       "      <td>Plant 0002</td>\n",
       "      <td>1.0</td>\n",
       "      <td>[255, 255, 255, 255, 255, 255, 255, 255, 255, ...</td>\n",
       "      <td>...</td>\n",
       "      <td>[0, 0, 0, 0, 0, 1, 0, 0, 3, 0, 3, 0, 0, 0, 0, ...</td>\n",
       "      <td>[201, 201, 201, 201, 202, 200, 201, 201, 197, ...</td>\n",
       "      <td>[0, 0, 0, 1, 0, 0, 0, 0, 1, 0, 0, 1, 0, 0, 1, ...</td>\n",
       "      <td>[0, 0, 0, 1, 0, 0, 0, 0, 1, 0, 0, 1, 0, 0, 1, ...</td>\n",
       "      <td>[255, 255, 255, 254, 255, 255, 255, 255, 254, ...</td>\n",
       "      <td>[200, 200, 200, 199, 201, 199, 200, 200, 195, ...</td>\n",
       "      <td>[0, 0, 0, 0, 0, 0, 0, 0, 0, 0, 0, 0, 0, 0, 0, ...</td>\n",
       "      <td>[0, 0, 0, 0, 0, 0, 0, 0, 0, 0, 0, 0, 0, 0, 0, ...</td>\n",
       "      <td>[0, 0, 0, 0, 0, 0, 0, 0, 0, 0, 0, 0, 0, 0, 0, ...</td>\n",
       "      <td>[255, 255, 255, 255, 255, 255, 255, 255, 255, ...</td>\n",
       "    </tr>\n",
       "    <tr>\n",
       "      <th>3</th>\n",
       "      <td>0</td>\n",
       "      <td>0</td>\n",
       "      <td>0</td>\n",
       "      <td>0</td>\n",
       "      <td>A1/00390 Plant 0003 Plant 0003/18-02-2019 -- 1...</td>\n",
       "      <td>A1/00390 Plant 0003 Plant 0003/18-02-2019 -- 1...</td>\n",
       "      <td>A1</td>\n",
       "      <td>Plant 0003</td>\n",
       "      <td>3.5</td>\n",
       "      <td>[255, 255, 255, 255, 255, 255, 255, 255, 255, ...</td>\n",
       "      <td>...</td>\n",
       "      <td>[0, 0, 0, 0, 0, 0, 3, 0, 2, 8, 0, 1, 0, 4, 0, ...</td>\n",
       "      <td>[202, 201, 201, 201, 201, 202, 198, 203, 198, ...</td>\n",
       "      <td>[0, 0, 0, 0, 1, 0, 1, 0, 0, 2, 1, 0, 0, 0, 1, ...</td>\n",
       "      <td>[0, 0, 0, 0, 1, 0, 1, 0, 0, 2, 1, 0, 0, 0, 1, ...</td>\n",
       "      <td>[255, 255, 255, 255, 254, 255, 254, 255, 255, ...</td>\n",
       "      <td>[201, 200, 200, 200, 199, 201, 196, 202, 197, ...</td>\n",
       "      <td>[0, 0, 0, 0, 0, 0, 0, 0, 0, 0, 0, 0, 0, 0, 0, ...</td>\n",
       "      <td>[0, 0, 0, 0, 0, 0, 0, 0, 0, 0, 0, 0, 0, 0, 0, ...</td>\n",
       "      <td>[0, 0, 0, 0, 0, 0, 0, 0, 0, 0, 0, 0, 0, 0, 0, ...</td>\n",
       "      <td>[255, 255, 255, 255, 255, 255, 255, 255, 255, ...</td>\n",
       "    </tr>\n",
       "    <tr>\n",
       "      <th>4</th>\n",
       "      <td>0</td>\n",
       "      <td>1</td>\n",
       "      <td>1</td>\n",
       "      <td>1</td>\n",
       "      <td>A1/00391 Plant 0004 Plant 0004/18-02-2019 -- 1...</td>\n",
       "      <td>A1/00391 Plant 0004 Plant 0004/18-02-2019 -- 1...</td>\n",
       "      <td>A1</td>\n",
       "      <td>Plant 0004</td>\n",
       "      <td>1.5</td>\n",
       "      <td>[255, 255, 255, 255, 255, 255, 255, 255, 255, ...</td>\n",
       "      <td>...</td>\n",
       "      <td>[0, 0, 3, 0, 0, 0, 0, 0, 0, 0, 0, 0, 0, 0, 0, ...</td>\n",
       "      <td>[201, 201, 197, 202, 202, 202, 201, 203, 202, ...</td>\n",
       "      <td>[0, 0, 1, 2, 0, 0, 1, 1, 0, 0, 0, 2, 0, 0, 0, ...</td>\n",
       "      <td>[0, 0, 1, 2, 0, 0, 1, 1, 0, 0, 0, 2, 0, 0, 0, ...</td>\n",
       "      <td>[255, 255, 254, 253, 255, 255, 254, 254, 255, ...</td>\n",
       "      <td>[200, 200, 195, 199, 201, 201, 199, 201, 201, ...</td>\n",
       "      <td>[0, 0, 0, 0, 0, 0, 0, 0, 0, 0, 0, 0, 0, 0, 0, ...</td>\n",
       "      <td>[0, 0, 0, 0, 0, 0, 0, 0, 0, 0, 0, 0, 0, 0, 0, ...</td>\n",
       "      <td>[0, 0, 0, 0, 0, 0, 0, 0, 0, 0, 0, 0, 0, 0, 0, ...</td>\n",
       "      <td>[255, 255, 255, 255, 255, 255, 255, 255, 255, ...</td>\n",
       "    </tr>\n",
       "  </tbody>\n",
       "</table>\n",
       "<p>5 rows × 27 columns</p>\n",
       "</div>"
      ],
      "text/plain": [
       "   Expert 1  Expert 2  Expert 3  Expert 4  \\\n",
       "0         0         0         0         0   \n",
       "1         1         1         1         1   \n",
       "2         1         1         1         1   \n",
       "3         0         0         0         0   \n",
       "4         0         1         1         1   \n",
       "\n",
       "                                      color_cam_path  \\\n",
       "0  A1/00387 Plant 0000 Plant 0000/18-02-2019 -- 1...   \n",
       "1  A1/00388 Plant 0001 Plant 0001/18-02-2019 -- 1...   \n",
       "2  A1/00389 Plant 0002 Plant 0002/18-02-2019 -- 1...   \n",
       "3  A1/00390 Plant 0003 Plant 0003/18-02-2019 -- 1...   \n",
       "4  A1/00391 Plant 0004 Plant 0004/18-02-2019 -- 1...   \n",
       "\n",
       "                                       side_cam_path Rfid         Pos  \\\n",
       "0  A1/00387 Plant 0000 Plant 0000/18-02-2019 -- 1...   A1  Plant 0000   \n",
       "1  A1/00388 Plant 0001 Plant 0001/18-02-2019 -- 1...   A1  Plant 0001   \n",
       "2  A1/00389 Plant 0002 Plant 0002/18-02-2019 -- 1...   A1  Plant 0002   \n",
       "3  A1/00390 Plant 0003 Plant 0003/18-02-2019 -- 1...   A1  Plant 0003   \n",
       "4  A1/00391 Plant 0004 Plant 0004/18-02-2019 -- 1...   A1  Plant 0004   \n",
       "\n",
       "   average_expert                                       Resize Image  ...  \\\n",
       "0             4.0  [255, 255, 255, 255, 255, 255, 255, 255, 255, ...  ...   \n",
       "1             1.0  [255, 255, 255, 255, 255, 255, 255, 255, 255, ...  ...   \n",
       "2             1.0  [255, 255, 255, 255, 255, 255, 255, 255, 255, ...  ...   \n",
       "3             3.5  [255, 255, 255, 255, 255, 255, 255, 255, 255, ...  ...   \n",
       "4             1.5  [255, 255, 255, 255, 255, 255, 255, 255, 255, ...  ...   \n",
       "\n",
       "                                           lp_img_bw  \\\n",
       "0  [0, 0, 0, 0, 0, 1, 0, 1, 0, 1, 6, 0, 0, 0, 4, ...   \n",
       "1  [0, 2, 0, 0, 0, 3, 0, 2, 0, 5, 0, 0, 4, 0, 0, ...   \n",
       "2  [0, 0, 0, 0, 0, 1, 0, 0, 3, 0, 3, 0, 0, 0, 0, ...   \n",
       "3  [0, 0, 0, 0, 0, 0, 3, 0, 2, 8, 0, 1, 0, 4, 0, ...   \n",
       "4  [0, 0, 3, 0, 0, 0, 0, 0, 0, 0, 0, 0, 0, 0, 0, ...   \n",
       "\n",
       "                                      lp_shrp_img_bw  \\\n",
       "0  [203, 202, 202, 203, 203, 201, 202, 201, 203, ...   \n",
       "1  [201, 198, 201, 201, 201, 198, 202, 198, 202, ...   \n",
       "2  [201, 201, 201, 201, 202, 200, 201, 201, 197, ...   \n",
       "3  [202, 201, 201, 201, 201, 202, 198, 203, 198, ...   \n",
       "4  [201, 201, 197, 202, 202, 202, 201, 203, 202, ...   \n",
       "\n",
       "                                           sb_img_bw  \\\n",
       "0  [0, 0, 1, 1, 0, 0, 0, 1, 0, 0, 0, 1, 0, 0, 0, ...   \n",
       "1  [0, 0, 1, 0, 0, 1, 0, 0, 0, 0, 1, 0, 0, 2, 1, ...   \n",
       "2  [0, 0, 0, 1, 0, 0, 0, 0, 1, 0, 0, 1, 0, 0, 1, ...   \n",
       "3  [0, 0, 0, 0, 1, 0, 1, 0, 0, 2, 1, 0, 0, 0, 1, ...   \n",
       "4  [0, 0, 1, 2, 0, 0, 1, 1, 0, 0, 0, 2, 0, 0, 0, ...   \n",
       "\n",
       "                                        mblur_img_bw  \\\n",
       "0  [0, 0, 1, 1, 0, 0, 0, 1, 0, 0, 0, 1, 0, 0, 0, ...   \n",
       "1  [0, 0, 1, 0, 0, 1, 0, 0, 0, 0, 1, 0, 0, 2, 1, ...   \n",
       "2  [0, 0, 0, 1, 0, 0, 0, 0, 1, 0, 0, 1, 0, 0, 1, ...   \n",
       "3  [0, 0, 0, 0, 1, 0, 1, 0, 0, 2, 1, 0, 0, 0, 1, ...   \n",
       "4  [0, 0, 1, 2, 0, 0, 1, 1, 0, 0, 0, 2, 0, 0, 0, ...   \n",
       "\n",
       "                                 mblur_invert_img_bw  \\\n",
       "0  [255, 255, 254, 254, 255, 255, 255, 254, 255, ...   \n",
       "1  [255, 255, 254, 255, 255, 254, 255, 255, 255, ...   \n",
       "2  [255, 255, 255, 254, 255, 255, 255, 255, 254, ...   \n",
       "3  [255, 255, 255, 255, 254, 255, 254, 255, 255, ...   \n",
       "4  [255, 255, 254, 253, 255, 255, 254, 254, 255, ...   \n",
       "\n",
       "                                    edge_shrp_img_bw  \\\n",
       "0  [202, 201, 200, 201, 202, 200, 201, 199, 202, ...   \n",
       "1  [200, 197, 199, 200, 200, 196, 201, 197, 201, ...   \n",
       "2  [200, 200, 200, 199, 201, 199, 200, 200, 195, ...   \n",
       "3  [201, 200, 200, 200, 199, 201, 196, 202, 197, ...   \n",
       "4  [200, 200, 195, 199, 201, 201, 199, 201, 201, ...   \n",
       "\n",
       "                                        tr_es_img_bw  \\\n",
       "0  [0, 0, 0, 0, 0, 0, 0, 0, 0, 0, 0, 0, 0, 0, 0, ...   \n",
       "1  [0, 0, 0, 0, 0, 0, 0, 0, 0, 0, 0, 0, 0, 0, 0, ...   \n",
       "2  [0, 0, 0, 0, 0, 0, 0, 0, 0, 0, 0, 0, 0, 0, 0, ...   \n",
       "3  [0, 0, 0, 0, 0, 0, 0, 0, 0, 0, 0, 0, 0, 0, 0, ...   \n",
       "4  [0, 0, 0, 0, 0, 0, 0, 0, 0, 0, 0, 0, 0, 0, 0, ...   \n",
       "\n",
       "                                            f_img_bw  \\\n",
       "0  [0, 0, 0, 0, 0, 0, 0, 0, 0, 0, 0, 0, 0, 0, 0, ...   \n",
       "1  [0, 0, 0, 0, 0, 0, 0, 0, 0, 0, 0, 0, 0, 0, 0, ...   \n",
       "2  [0, 0, 0, 0, 0, 0, 0, 0, 0, 0, 0, 0, 0, 0, 0, ...   \n",
       "3  [0, 0, 0, 0, 0, 0, 0, 0, 0, 0, 0, 0, 0, 0, 0, ...   \n",
       "4  [0, 0, 0, 0, 0, 0, 0, 0, 0, 0, 0, 0, 0, 0, 0, ...   \n",
       "\n",
       "                                       eroded_img_bw  \\\n",
       "0  [0, 0, 0, 0, 0, 0, 0, 0, 0, 0, 0, 0, 0, 0, 0, ...   \n",
       "1  [0, 0, 0, 0, 0, 0, 0, 0, 0, 0, 0, 0, 0, 0, 0, ...   \n",
       "2  [0, 0, 0, 0, 0, 0, 0, 0, 0, 0, 0, 0, 0, 0, 0, ...   \n",
       "3  [0, 0, 0, 0, 0, 0, 0, 0, 0, 0, 0, 0, 0, 0, 0, ...   \n",
       "4  [0, 0, 0, 0, 0, 0, 0, 0, 0, 0, 0, 0, 0, 0, 0, ...   \n",
       "\n",
       "                                       bx1234_img_bw  \n",
       "0  [255, 255, 255, 255, 255, 255, 255, 255, 255, ...  \n",
       "1  [255, 255, 255, 255, 255, 255, 255, 255, 255, ...  \n",
       "2  [255, 255, 255, 255, 255, 255, 255, 255, 255, ...  \n",
       "3  [255, 255, 255, 255, 255, 255, 255, 255, 255, ...  \n",
       "4  [255, 255, 255, 255, 255, 255, 255, 255, 255, ...  \n",
       "\n",
       "[5 rows x 27 columns]"
      ]
     },
     "execution_count": 28,
     "metadata": {},
     "output_type": "execute_result"
    }
   ],
   "source": [
    "df_copy.head()"
   ]
  },
  {
   "cell_type": "code",
   "execution_count": 29,
   "id": "cdf8d6d4",
   "metadata": {},
   "outputs": [
    {
     "data": {
      "image/png": "[encoded data removed]",
      "text/plain": [
       "<Figure size 640x480 with 1 Axes>"
      ]
     },
     "metadata": {},
     "output_type": "display_data"
    }
   ],
   "source": [
    "### Printing a test grayscale image to ensure that the grayscale images are saved correctly\n",
    "\n",
    "test = df_copy['f_img_bw'][100]\n",
    "plt.imshow(test.reshape((new_width, new_height)), cmap='gray')\n",
    "plt.show()"
   ]
  },
  {
   "cell_type": "code",
   "execution_count": 30,
   "id": "02ea4031",
   "metadata": {},
   "outputs": [
    {
     "name": "stdout",
     "output_type": "stream",
     "text": [
      "The time to run this cell in seconds is: 321.00643253326416\n"
     ]
    }
   ],
   "source": [
    "### Transforming the lists to arrays to be used for classification later\n",
    "\n",
    "start = time.time()\n",
    "\n",
    "\n",
    "resize_img_bw_array = resize_img_bw_list[0]\n",
    "lp_img_bw_array = lp_img_bw_list[0]\n",
    "lp_shrp_img_bw_array = lp_shrp_img_bw_list[0]\n",
    "sb_img_bw_array = sb_img_bw_list[0]\n",
    "mblur_img_bw_array = mblur_img_bw_list[0]\n",
    "mblur_invert_img_bw_array = mblur_invert_img_bw_list[0]\n",
    "edge_shrp_img_bw_array = edge_shrp_img_bw_list[0]\n",
    "tr_es_img_bw_array = tr_es_img_bw_list[0]\n",
    "f_img_bw_array = f_img_bw_list[0]\n",
    "eroded_img_bw_array = eroded_img_bw_list[0]\n",
    "bx1234_img_bw_array = bx1234_img_bw_list[0]\n",
    "\n",
    "for k in range(1,df_copy.shape[0]):\n",
    "    \n",
    "    intermediate_resize_img_bw = resize_img_bw_list[k]\n",
    "    resize_img_bw_array = np.vstack((resize_img_bw_array,intermediate_resize_img_bw))\n",
    "    \n",
    "    intermediate_lp_img_bw = lp_img_bw_list[k]\n",
    "    lp_img_bw_array = np.vstack((lp_img_bw_array, intermediate_lp_img_bw))\n",
    "    \n",
    "    intermediate_lp_shrp_img_bw = lp_shrp_img_bw_list[k]\n",
    "    lp_shrp_img_bw_array = np.vstack((lp_shrp_img_bw_array, intermediate_lp_shrp_img_bw))  \n",
    "    \n",
    "    intermediate_sb_img_bw = sb_img_bw_list[k]\n",
    "    sb_img_bw_array = np.vstack((sb_img_bw_array, intermediate_sb_img_bw))\n",
    "    \n",
    "    intermediate_mblur_img_bw = mblur_img_bw_list[k]\n",
    "    mblur_img_bw_array = np.vstack((mblur_img_bw_array, intermediate_mblur_img_bw))\n",
    "    \n",
    "    intermediate_mblur_invert_img_bw = mblur_invert_img_bw_list[k]\n",
    "    mblur_invert_img_bw_array = np.vstack((mblur_invert_img_bw_array, intermediate_mblur_invert_img_bw))\n",
    "    \n",
    "    intermediate_edge_shrp_img_bw = edge_shrp_img_bw_list[k]\n",
    "    edge_shrp_img_bw_array = np.vstack((edge_shrp_img_bw_array, intermediate_edge_shrp_img_bw))\n",
    "    \n",
    "    intermediate_tr_es_img_bw = tr_es_img_bw_list[k]\n",
    "    tr_es_img_bw_array = np.vstack((tr_es_img_bw_array, intermediate_tr_es_img_bw))\n",
    "    \n",
    "    intermediate_f_img_bw = f_img_bw_list[k]\n",
    "    f_img_bw_array = np.vstack((f_img_bw_array, intermediate_f_img_bw))\n",
    "    \n",
    "    intermediate_eroded_img_bw = eroded_img_bw_list[k]\n",
    "    eroded_img_bw_array = np.vstack((eroded_img_bw_array, intermediate_eroded_img_bw))\n",
    "\n",
    "    intermediate_bx1234_img_bw = bx1234_img_bw_list[k]\n",
    "    bx1234_img_bw_array = np.vstack((bx1234_img_bw_array, intermediate_bx1234_img_bw))\n",
    "    \n",
    "    \n",
    "end = time.time()    \n",
    "\n",
    "print(f\"The time to run this cell in seconds is: {end - start}\") ### typically around 320 seconds"
   ]
  },
  {
   "cell_type": "code",
   "execution_count": 31,
   "id": "a1a325c5",
   "metadata": {},
   "outputs": [
    {
     "data": {
      "text/plain": [
       "(994, 136320)"
      ]
     },
     "execution_count": 31,
     "metadata": {},
     "output_type": "execute_result"
    }
   ],
   "source": [
    "resize_img_bw_array.shape"
   ]
  },
  {
   "cell_type": "code",
   "execution_count": 32,
   "id": "da9f74ae",
   "metadata": {},
   "outputs": [
    {
     "data": {
      "text/plain": [
       "(994, 136320)"
      ]
     },
     "execution_count": 32,
     "metadata": {},
     "output_type": "execute_result"
    }
   ],
   "source": [
    "lp_img_bw_array.shape"
   ]
  },
  {
   "cell_type": "code",
   "execution_count": 33,
   "id": "1c6b66fa",
   "metadata": {},
   "outputs": [],
   "source": [
    "all_features_nir = np.hstack((resize_img_bw_array,\n",
    "                              lp_img_bw_array,\n",
    "                              lp_shrp_img_bw_array,\n",
    "                              sb_img_bw_array,\n",
    "                              mblur_img_bw_array,\n",
    "                              mblur_invert_img_bw_array,\n",
    "                              edge_shrp_img_bw_array,\n",
    "                              tr_es_img_bw_array,\n",
    "                              f_img_bw_array,\n",
    "                              eroded_img_bw_array,\n",
    "                              bx1234_img_bw_array))"
   ]
  },
  {
   "cell_type": "markdown",
   "id": "0b952460",
   "metadata": {},
   "source": [
    "# The tutorials from PlantCV have ended, from now on we move to feature extraction"
   ]
  },
  {
   "cell_type": "code",
   "execution_count": 34,
   "id": "4afc171e",
   "metadata": {},
   "outputs": [
    {
     "data": {
      "text/plain": [
       "(994, 1499520)"
      ]
     },
     "execution_count": 34,
     "metadata": {},
     "output_type": "execute_result"
    }
   ],
   "source": [
    "all_features_nir.shape"
   ]
  },
  {
   "cell_type": "code",
   "execution_count": 35,
   "id": "c04f3e98",
   "metadata": {},
   "outputs": [
    {
     "data": {
      "text/plain": [
       "(994, 1499520)"
      ]
     },
     "execution_count": 35,
     "metadata": {},
     "output_type": "execute_result"
    }
   ],
   "source": [
    "all_features_vis.shape"
   ]
  },
  {
   "cell_type": "code",
   "execution_count": 36,
   "id": "31160235",
   "metadata": {},
   "outputs": [
    {
     "name": "stdout",
     "output_type": "stream",
     "text": [
      "The time to stack all features was: 6.061525344848633 seconds\n"
     ]
    }
   ],
   "source": [
    "### Concatenating all the RGB and Grayscale features (flattened image arrays)\n",
    "\n",
    "start = time.time()\n",
    "\n",
    "all_features = np.hstack((all_features_vis, all_features_nir))\n",
    "\n",
    "end = time.time()\n",
    "\n",
    "print(f'The time to stack all features was: {end-start} seconds')"
   ]
  },
  {
   "cell_type": "code",
   "execution_count": 37,
   "id": "99fe410b",
   "metadata": {},
   "outputs": [
    {
     "data": {
      "text/plain": [
       "(994, 2999040)"
      ]
     },
     "execution_count": 37,
     "metadata": {},
     "output_type": "execute_result"
    }
   ],
   "source": [
    "all_features.shape"
   ]
  },
  {
   "cell_type": "markdown",
   "id": "12dfbceb",
   "metadata": {},
   "source": [
    "994, 2999040"
   ]
  },
  {
   "cell_type": "markdown",
   "id": "913f4544",
   "metadata": {},
   "source": [
    "# Dimensionality Reduction"
   ]
  },
  {
   "cell_type": "markdown",
   "id": "b3a28cac",
   "metadata": {},
   "source": [
    "## KernelPCA"
   ]
  },
  {
   "cell_type": "code",
   "execution_count": null,
   "id": "f3b00757",
   "metadata": {},
   "outputs": [],
   "source": [
    "### Kernel PCA performs PCA dimensionality rediction through the use of kernels\n",
    "### It is used because the normal PCA runs in 20 minutes for all features, while KernelPCA runs in about 4-5 (because of randomized eigen_solver)\n",
    "### link: https://scikit-learn.org/stable/modules/generated/sklearn.decomposition.KernelPCA.html\n",
    "\n",
    "\n",
    "start = time.time()\n",
    "\n",
    "kpca = KernelPCA(n_components=100, random_state=42, eigen_solver='randomized')\n",
    "\n",
    "all_features_kpca = kpca.fit_transform(all_features)\n",
    "\n",
    "end = time.time()\n",
    "\n",
    "print(f'The time to run the PCA was: {end-start} seconds or {(end-start)//60} minutes') ### 5 minutes for KPCA"
   ]
  },
  {
   "cell_type": "code",
   "execution_count": null,
   "id": "ce5bcdc7",
   "metadata": {},
   "outputs": [],
   "source": [
    "#np.save('all_features_kpca.npy', all_features_kpca)"
   ]
  },
  {
   "cell_type": "markdown",
   "id": "db587daa",
   "metadata": {},
   "source": [
    "The Truncated SVD and the regular PCA take too long to run (20 minutes each) so they are commented out. Only the KernelPCA components were used in the final classification"
   ]
  },
  {
   "cell_type": "markdown",
   "id": "c6aef06c",
   "metadata": {},
   "source": [
    "## Truncated SVD"
   ]
  },
  {
   "cell_type": "code",
   "execution_count": 32,
   "id": "d462b8bd",
   "metadata": {},
   "outputs": [
    {
     "name": "stdout",
     "output_type": "stream",
     "text": [
      "The time to run the PCA was: 1856.601036787033 seconds or 30.0 minutes\n"
     ]
    }
   ],
   "source": [
    "### truncatedSVD is commented because it runs too slow, and using the Truncated SVD features does not provide better results than KPCA\n",
    "\n",
    "\n",
    "# start = time.time()\n",
    "\n",
    "# svd = TruncatedSVD(n_components=100, random_state=42)\n",
    "\n",
    "# all_features_svd = svd.fit_transform(all_features)\n",
    "\n",
    "# end = time.time()\n",
    "\n",
    "# print(f'The time to run the PCA was: {end-start} seconds or {(end-start)//60} minutes') ### 20 minutes for regular Truncated SVD"
   ]
  },
  {
   "cell_type": "code",
   "execution_count": 34,
   "id": "b689c646",
   "metadata": {},
   "outputs": [
    {
     "data": {
      "text/plain": [
       "(994, 100)"
      ]
     },
     "execution_count": 34,
     "metadata": {},
     "output_type": "execute_result"
    }
   ],
   "source": [
    "# all_features_svd.shape"
   ]
  },
  {
   "cell_type": "code",
   "execution_count": 33,
   "id": "3ea502a5",
   "metadata": {},
   "outputs": [],
   "source": [
    "# np.save('all_features_svd.npy', all_features_svd)"
   ]
  },
  {
   "cell_type": "code",
   "execution_count": 35,
   "id": "74589d46",
   "metadata": {},
   "outputs": [],
   "source": [
    "# all_features_svd = np.load('all_features_svd.npy')"
   ]
  },
  {
   "cell_type": "code",
   "execution_count": 36,
   "id": "d7d741ba",
   "metadata": {},
   "outputs": [
    {
     "data": {
      "text/plain": [
       "(994, 100)"
      ]
     },
     "execution_count": 36,
     "metadata": {},
     "output_type": "execute_result"
    }
   ],
   "source": [
    "# all_features_svd.shape"
   ]
  },
  {
   "cell_type": "code",
   "execution_count": 38,
   "id": "5d67987c",
   "metadata": {},
   "outputs": [
    {
     "data": {
      "text/plain": [
       "[<matplotlib.lines.Line2D at 0x220848f24c0>]"
      ]
     },
     "execution_count": 38,
     "metadata": {},
     "output_type": "execute_result"
    },
    {
     "data": {
      "image/png": "[encoded data removed]",
      "text/plain": [
       "<Figure size 640x480 with 1 Axes>"
      ]
     },
     "metadata": {},
     "output_type": "display_data"
    }
   ],
   "source": [
    "# PC_cb_values = np.arange(svd.n_components) + 1\n",
    "# PC_sb_values = np.arange(svd.n_components) + 1\n",
    "\n",
    "# plt.plot(PC_cb_values, svd.explained_variance_ratio_, 'o-', linewidth=2, color='blue')"
   ]
  },
  {
   "cell_type": "code",
   "execution_count": 39,
   "id": "b80f9d17",
   "metadata": {},
   "outputs": [
    {
     "data": {
      "text/plain": [
       "array([0.00149061, 0.04061266, 0.06867875, 0.0913201 , 0.11279478,\n",
       "       0.12779125, 0.14011845, 0.15139993, 0.16171062, 0.17063056,\n",
       "       0.17933113, 0.18742686, 0.19515918, 0.20266173, 0.20990186,\n",
       "       0.21620151, 0.2223706 , 0.22842717, 0.23446283, 0.24013598,\n",
       "       0.24567346, 0.25079939, 0.25559534, 0.26029038, 0.26487603,\n",
       "       0.2693295 , 0.27372406, 0.27782784, 0.28186834, 0.28582096,\n",
       "       0.28965255, 0.29347132, 0.29724662, 0.30095846, 0.30448944,\n",
       "       0.30800098, 0.31140211, 0.31477001, 0.31808889, 0.32130542,\n",
       "       0.32451814, 0.32761162, 0.330669  , 0.33370652, 0.33669203,\n",
       "       0.33963325, 0.34256714, 0.345454  , 0.34829318, 0.35109488,\n",
       "       0.3538849 , 0.35662694, 0.35929882, 0.36195224, 0.36456885,\n",
       "       0.36714353, 0.36968794, 0.372192  , 0.37465606, 0.37709007,\n",
       "       0.37949073, 0.38183575, 0.38416085, 0.38647567, 0.38876827,\n",
       "       0.39104445, 0.39329906, 0.39553054, 0.39775114, 0.39991143,\n",
       "       0.40206226, 0.4041973 , 0.40629832, 0.40837878, 0.41043826,\n",
       "       0.41248665, 0.41451463, 0.41652269, 0.41850771, 0.42045442,\n",
       "       0.42237543, 0.42428663, 0.42618735, 0.42806122, 0.42989464,\n",
       "       0.43170948, 0.43351317, 0.43530652, 0.43709227, 0.43883499,\n",
       "       0.44056704, 0.44228671, 0.44399533, 0.44569415, 0.44737891,\n",
       "       0.44905276, 0.45068098, 0.4523064 , 0.45390782, 0.45547284])"
      ]
     },
     "execution_count": 39,
     "metadata": {},
     "output_type": "execute_result"
    }
   ],
   "source": [
    "# svd.explained_variance_ratio_.cumsum()"
   ]
  },
  {
   "cell_type": "markdown",
   "id": "0144db27",
   "metadata": {},
   "source": [
    "## PCA"
   ]
  },
  {
   "cell_type": "code",
   "execution_count": 7,
   "id": "37da0e69",
   "metadata": {},
   "outputs": [
    {
     "name": "stdout",
     "output_type": "stream",
     "text": [
      "The time to run the PCA was: 1319.5560369491577 seconds or 21.0 minutes\n"
     ]
    }
   ],
   "source": [
    "# start = time.time()\n",
    "\n",
    "# pca = PCA(n_components=100)\n",
    "\n",
    "# all_features_pca = pca.fit_transform(all_features)\n",
    "\n",
    "# end = time.time()\n",
    "\n",
    "# print(f'The time to run the PCA was: {end-start} seconds or {(end-start)//60} minutes') ### 20 minutes for regular PCA"
   ]
  },
  {
   "cell_type": "code",
   "execution_count": 8,
   "id": "957439e8",
   "metadata": {},
   "outputs": [
    {
     "data": {
      "text/plain": [
       "(994, 100)"
      ]
     },
     "execution_count": 8,
     "metadata": {},
     "output_type": "execute_result"
    }
   ],
   "source": [
    "# all_features_pca.shape"
   ]
  },
  {
   "cell_type": "code",
   "execution_count": 9,
   "id": "fc476327",
   "metadata": {},
   "outputs": [
    {
     "data": {
      "text/plain": [
       "[<matplotlib.lines.Line2D at 0x1ed9697a280>]"
      ]
     },
     "execution_count": 9,
     "metadata": {},
     "output_type": "execute_result"
    },
    {
     "data": {
      "image/png": "[encoded data removed]",
      "text/plain": [
       "<Figure size 640x480 with 1 Axes>"
      ]
     },
     "metadata": {},
     "output_type": "display_data"
    }
   ],
   "source": [
    "# PC_cb_values = np.arange(pca.n_components_) + 1\n",
    "# PC_sb_values = np.arange(pca.n_components_) + 1\n",
    "\n",
    "# plt.plot(PC_cb_values, pca.explained_variance_ratio_, 'o-', linewidth=2, color='blue')"
   ]
  },
  {
   "cell_type": "code",
   "execution_count": 10,
   "id": "5a4c8da6",
   "metadata": {},
   "outputs": [
    {
     "data": {
      "text/plain": [
       "array([0.04837536, 0.07729622, 0.10163102, 0.12373864, 0.13934012,\n",
       "       0.15244   , 0.16444004, 0.17483742, 0.1842627 , 0.19300945,\n",
       "       0.2011789 , 0.20911764, 0.21662423, 0.22407247, 0.23045909,\n",
       "       0.23664455, 0.24264342, 0.24851303, 0.25420098, 0.2596434 ,\n",
       "       0.26466849, 0.2695062 , 0.274194  , 0.27870461, 0.28315352,\n",
       "       0.28752985, 0.29166826, 0.29573481, 0.2996656 , 0.30351391,\n",
       "       0.30729622, 0.31103878, 0.3146843 , 0.31825036, 0.32174524,\n",
       "       0.32522587, 0.32858564, 0.33189321, 0.33508127, 0.33824969,\n",
       "       0.34132945, 0.34437296, 0.34736855, 0.35031681, 0.35324572,\n",
       "       0.35614788, 0.35899333, 0.36180722, 0.36459682, 0.36734415,\n",
       "       0.37006992, 0.3727273 , 0.37534172, 0.37792799, 0.38048323,\n",
       "       0.38298993, 0.38542995, 0.38784373, 0.3902226 , 0.39258266,\n",
       "       0.39493714, 0.39724445, 0.3994948 , 0.40172831, 0.40395316,\n",
       "       0.40614675, 0.40831429, 0.41044446, 0.41257092, 0.4146752 ,\n",
       "       0.41673556, 0.41876856, 0.42079934, 0.422805  , 0.42477839,\n",
       "       0.42672841, 0.42866757, 0.43057038, 0.43247053, 0.43432675,\n",
       "       0.43617893, 0.43802334, 0.43981942, 0.44159995, 0.44335118,\n",
       "       0.44509424, 0.44681615, 0.44852231, 0.4502125 , 0.45189304,\n",
       "       0.45353839, 0.45515389, 0.45675057, 0.45832827, 0.45989515,\n",
       "       0.46144579, 0.46297697, 0.4644987 , 0.46601452, 0.4675032 ])"
      ]
     },
     "execution_count": 10,
     "metadata": {},
     "output_type": "execute_result"
    }
   ],
   "source": [
    "# pca.explained_variance_ratio_.cumsum()"
   ]
  },
  {
   "cell_type": "code",
   "execution_count": 11,
   "id": "009fe057",
   "metadata": {},
   "outputs": [
    {
     "data": {
      "text/plain": [
       "numpy.ndarray"
      ]
     },
     "execution_count": 11,
     "metadata": {},
     "output_type": "execute_result"
    }
   ],
   "source": [
    "# type(all_features_pca)"
   ]
  },
  {
   "cell_type": "code",
   "execution_count": 14,
   "id": "1b839670",
   "metadata": {},
   "outputs": [],
   "source": [
    "# np.save('all_features_pca.npy', all_features_pca)"
   ]
  },
  {
   "cell_type": "code",
   "execution_count": 15,
   "id": "e4582e77",
   "metadata": {},
   "outputs": [],
   "source": [
    "# all_features_pca = np.load('all_features_pca.npy')"
   ]
  },
  {
   "cell_type": "code",
   "execution_count": 16,
   "id": "a2ff15b1",
   "metadata": {},
   "outputs": [
    {
     "data": {
      "text/plain": [
       "(994, 100)"
      ]
     },
     "execution_count": 16,
     "metadata": {},
     "output_type": "execute_result"
    }
   ],
   "source": [
    "# all_features_pca.shape"
   ]
  },
  {
   "cell_type": "markdown",
   "id": "de8ed492",
   "metadata": {},
   "source": [
    "# numpy saving data"
   ]
  },
  {
   "cell_type": "markdown",
   "id": "fce3bbec",
   "metadata": {},
   "source": [
    "We have saved all the following arrays when the notebook was first run, so the following np.save cells are commented out since there is no need to overwrite the arrays. The saved arrays are provided, so we only need to load them with np.load\n",
    "\n",
    "If it is decided to save the arrays, please do take note that they take up close to 2.5 GB of disk space."
   ]
  },
  {
   "cell_type": "markdown",
   "id": "60100eb0",
   "metadata": {},
   "source": [
    "## saving the experts labels"
   ]
  },
  {
   "cell_type": "code",
   "execution_count": null,
   "id": "bd750d93",
   "metadata": {},
   "outputs": [],
   "source": [
    "np.save(\"inter_y1.npy\", inter_y1)\n",
    "np.save(\"inter_y2.npy\", inter_y2)\n",
    "np.save(\"inter_y3.npy\", inter_y3)\n",
    "np.save(\"inter_y4.npy\", inter_y4)"
   ]
  },
  {
   "cell_type": "markdown",
   "id": "0adf8de1",
   "metadata": {},
   "source": [
    "### Saving vis features"
   ]
  },
  {
   "cell_type": "code",
   "execution_count": 43,
   "id": "b9e8476a",
   "metadata": {},
   "outputs": [],
   "source": [
    "np.save(\"resize_img_array.npy\", resize_img_array)\n",
    "np.save(\"analysis_image_array.npy\", analysis_image_array)\n",
    "np.save(\"s_thresh_image_array.npy\", s_thresh_image_array)\n",
    "np.save(\"b_thresh_image_array.npy\", b_thresh_image_array)\n",
    "np.save(\"bs_image_array.npy\", bs_image_array)\n",
    "np.save(\"xor_img_image_array.npy\", xor_img_image_array)\n",
    "np.save(\"closed_ab_image_array.npy\", closed_ab_image_array)\n"
   ]
  },
  {
   "cell_type": "markdown",
   "id": "e8d2a843",
   "metadata": {},
   "source": [
    "### Saving the nir features"
   ]
  },
  {
   "cell_type": "code",
   "execution_count": 44,
   "id": "c3a431d2",
   "metadata": {},
   "outputs": [],
   "source": [
    "### Uncomment to save the arrays\n",
    "\n",
    "np.save(\"resize_img_bw_array.npy\", resize_img_bw_array)\n",
    "np.save(\"lp_img_bw_array.npy\", lp_img_bw_array)\n",
    "np.save(\"lp_shrp_img_bw_array.npy\", lp_shrp_img_bw_array)\n",
    "np.save(\"sb_img_bw_array.npy\", sb_img_bw_array)\n",
    "np.save(\"mblur_img_bw_array.npy\", mblur_img_bw_array)\n",
    "np.save(\"mblur_invert_img_bw_array.npy\", mblur_invert_img_bw_array)\n",
    "np.save(\"edge_shrp_img_bw_array.npy\", edge_shrp_img_bw_array)\n",
    "np.save(\"tr_es_img_bw_array.npy\", tr_es_img_bw_array)\n",
    "np.save(\"f_img_bw_array.npy\", f_img_bw_array)\n",
    "np.save(\"eroded_img_bw_array.npy\", eroded_img_bw_array)\n",
    "np.save(\"bx1234_img_bw_array.npy\", bx1234_img_bw_array)\n"
   ]
  },
  {
   "cell_type": "markdown",
   "id": "a23b9ac7",
   "metadata": {},
   "source": [
    "# Usually, because the matrices are very big in size, Python throws a memory allocation error in one of the next cells. If this happens, we can restart the kernel HERE (make sure that all the arrays are saved correctly above). This is why we re-calculate the dataframe as before."
   ]
  },
  {
   "cell_type": "code",
   "execution_count": 1,
   "id": "240251d4",
   "metadata": {},
   "outputs": [],
   "source": [
    "import pandas as pd\n",
    "import csv\n",
    "import os\n",
    "from plantcv import plantcv as pcv\n",
    "import time\n",
    "import seaborn as sns\n",
    "import cv2\n",
    "import numpy as np\n",
    "import matplotlib.pyplot as plt\n",
    "from sklearn.metrics import cohen_kappa_score, roc_auc_score\n",
    "from sklearn.model_selection import train_test_split, StratifiedKFold, cross_val_score\n",
    "from sklearn.ensemble import RandomForestClassifier, VotingClassifier\n",
    "from sklearn.svm import LinearSVC\n",
    "from sklearn.linear_model import LogisticRegression\n",
    "from sklearn.tree import DecisionTreeClassifier \n",
    "from sklearn.naive_bayes import GaussianNB\n",
    "from sklearn.neighbors import KNeighborsClassifier\n",
    "from sklearn.metrics import confusion_matrix, accuracy_score, classification_report\n",
    "from sklearn.decomposition import PCA, TruncatedSVD, IncrementalPCA, KernelPCA\n",
    "from imblearn.over_sampling import RandomOverSampler\n",
    "import h5py"
   ]
  },
  {
   "cell_type": "code",
   "execution_count": 2,
   "id": "09e75900",
   "metadata": {},
   "outputs": [
    {
     "name": "stdout",
     "output_type": "stream",
     "text": [
      "3.14.2\n"
     ]
    }
   ],
   "source": [
    "print(pcv.__version__)\n",
    "#print(pcv.__file__)"
   ]
  },
  {
   "cell_type": "code",
   "execution_count": 3,
   "id": "21520357",
   "metadata": {},
   "outputs": [],
   "source": [
    "%matplotlib inline"
   ]
  },
  {
   "cell_type": "code",
   "execution_count": 4,
   "id": "4f2a655a",
   "metadata": {},
   "outputs": [],
   "source": [
    "# Enter path to the data_fusion_guest_lecture file\n",
    "image_folder_path = \"\"\n",
    "\n",
    "# Loads labels\n",
    "df = pd.read_csv(os.path.join(image_folder_path, \"seedling_labels.csv\"))\n",
    "\n",
    "# Creates path to top & side view\n",
    "df[\"color_cam_path\"] = image_folder_path  + df[\"color_cam_path\"]\n",
    "df[\"side_cam_path\"] = image_folder_path  + df[\"side_cam_path\"]\n",
    "\n",
    "# Gives average expert label as a starting point\n",
    "df[\"average_expert\"] = (df[\"Expert 1\"] + df[\"Expert 2\"]  + df[\"Expert 3\"] + df[\"Expert 4\"]) / 4\n",
    "#df.head()"
   ]
  },
  {
   "cell_type": "code",
   "execution_count": 5,
   "id": "0bbba1f7",
   "metadata": {},
   "outputs": [],
   "source": [
    "class options:\n",
    "    def __init__(self):\n",
    "        self.image = df['color_cam_path'][1]\n",
    "        self.background = df['side_cam_path'][1]\n",
    "        self.debug = None\n",
    "        self.writeimg= False\n",
    "        self.result = \"vis_tutorial_results.json\"\n",
    "        self.outdir = \".\" # Store the output to the current directory\n",
    "        \n",
    "# Get options\n",
    "args = options()\n",
    "\n",
    "# Set debug to the global parameter \n",
    "pcv.params.debug = args.debug\n",
    "\n"
   ]
  },
  {
   "cell_type": "code",
   "execution_count": 6,
   "id": "88fc4e88",
   "metadata": {
    "scrolled": false
   },
   "outputs": [],
   "source": [
    "# Read image\n",
    "\n",
    "# Inputs:\n",
    "#   filename - Image file to be read in \n",
    "#   mode - How to read in the image; either 'native' (default), 'rgb', 'gray', or 'csv'\n",
    "img, path, filename = pcv.readimage(filename=args.image)"
   ]
  },
  {
   "cell_type": "code",
   "execution_count": 7,
   "id": "bd635ffc",
   "metadata": {},
   "outputs": [],
   "source": [
    "img, path, filename = pcv.readimage(filename=args.background)"
   ]
  },
  {
   "cell_type": "code",
   "execution_count": 8,
   "id": "c1380a28",
   "metadata": {},
   "outputs": [],
   "source": [
    "width = img.shape[0]\n",
    "height = img.shape[1]"
   ]
  },
  {
   "cell_type": "code",
   "execution_count": 9,
   "id": "a35ede27",
   "metadata": {},
   "outputs": [],
   "source": [
    "df_copy = df.copy()"
   ]
  },
  {
   "cell_type": "code",
   "execution_count": 10,
   "id": "ab0e4907",
   "metadata": {},
   "outputs": [],
   "source": [
    "### Setting the correct classes for every expert\n",
    "\n",
    "df_copy.loc[df_copy['Expert 1']<3, 'Expert 1'] = 1\n",
    "df_copy.loc[df_copy['Expert 2']<3, 'Expert 2'] = 1\n",
    "df_copy.loc[df_copy['Expert 3']<3, 'Expert 3'] = 1\n",
    "df_copy.loc[df_copy['Expert 4']<3, 'Expert 4'] = 1\n",
    "\n",
    "df_copy.loc[df_copy['Expert 1']>=3, 'Expert 1'] = 0\n",
    "df_copy.loc[df_copy['Expert 2']>=3, 'Expert 2'] = 0\n",
    "df_copy.loc[df_copy['Expert 3']>=3, 'Expert 3'] = 0\n",
    "df_copy.loc[df_copy['Expert 4']>=3, 'Expert 4'] = 0\n"
   ]
  },
  {
   "cell_type": "markdown",
   "id": "78e5328f",
   "metadata": {},
   "source": [
    "# Loading the arrays again in order to implement the various models"
   ]
  },
  {
   "cell_type": "code",
   "execution_count": 11,
   "id": "38280d86",
   "metadata": {},
   "outputs": [],
   "source": [
    "inter_y1 = np.load('inter_y1.npy')\n",
    "inter_y2 = np.load('inter_y2.npy')\n",
    "inter_y3 = np.load('inter_y3.npy')\n",
    "inter_y4 = np.load('inter_y4.npy')"
   ]
  },
  {
   "cell_type": "code",
   "execution_count": 12,
   "id": "a968999d",
   "metadata": {},
   "outputs": [],
   "source": [
    "resize_img_array =  np.load('resize_img_array.npy')\n",
    "analysis_image_array =  np.load('analysis_image_array.npy')\n",
    "s_thresh_image_array =  np.load('s_thresh_image_array.npy')\n",
    "b_thresh_image_array =  np.load('b_thresh_image_array.npy')\n",
    "bs_image_array =  np.load('bs_image_array.npy')\n",
    "xor_img_image_array =  np.load('xor_img_image_array.npy')\n",
    "closed_ab_image_array =  np.load('closed_ab_image_array.npy')"
   ]
  },
  {
   "cell_type": "code",
   "execution_count": 13,
   "id": "481ed26b",
   "metadata": {},
   "outputs": [],
   "source": [
    "resize_img_bw_array =  np.load('resize_img_bw_array.npy')\n",
    "lp_img_bw_array =  np.load('lp_img_bw_array.npy')\n",
    "lp_shrp_img_bw_array =  np.load('lp_shrp_img_bw_array.npy')\n",
    "sb_img_bw_array =  np.load('sb_img_bw_array.npy')\n",
    "mblur_img_bw_array =  np.load('mblur_img_bw_array.npy')\n",
    "mblur_invert_img_bw_array =  np.load('mblur_invert_img_bw_array.npy')\n",
    "edge_shrp_img_bw_array =  np.load('edge_shrp_img_bw_array.npy')\n",
    "tr_es_img_bw_array =  np.load('tr_es_img_bw_array.npy')\n",
    "f_img_bw_array =  np.load('f_img_bw_array.npy')\n",
    "eroded_img_bw_array =  np.load('eroded_img_bw_array.npy')\n",
    "bx1234_img_bw_array =  np.load('bx1234_img_bw_array.npy')"
   ]
  },
  {
   "cell_type": "code",
   "execution_count": 14,
   "id": "57b8d5eb",
   "metadata": {},
   "outputs": [],
   "source": [
    "# If this cell is run, it consumes a lot of RAM so it is commented out, since it not used later\n",
    "\n",
    "# all_features_vis = np.hstack((resize_img_array,\n",
    "#                               analysis_image_array, \n",
    "#                               s_thresh_image_array, \n",
    "#                               b_thresh_image_array,\n",
    "#                               bs_image_array,\n",
    "#                               xor_img_image_array,\n",
    "#                               closed_ab_image_array))\n",
    "\n",
    "\n",
    "# all_features_nir = np.hstack((resize_img_bw_array,\n",
    "#                               lp_img_bw_array,\n",
    "#                               lp_shrp_img_bw_array,\n",
    "#                               sb_img_bw_array,\n",
    "#                               mblur_img_bw_array,\n",
    "#                               mblur_invert_img_bw_array,\n",
    "#                               edge_shrp_img_bw_array,\n",
    "#                               tr_es_img_bw_array,\n",
    "#                               f_img_bw_array,\n",
    "#                               eroded_img_bw_array,\n",
    "#                               bx1234_img_bw_array))\n",
    "\n",
    "# all_features = np.hstack((all_features_vis, all_features_nir))"
   ]
  },
  {
   "cell_type": "code",
   "execution_count": 15,
   "id": "a486b598",
   "metadata": {
    "scrolled": true
   },
   "outputs": [],
   "source": [
    "# all_features.shape"
   ]
  },
  {
   "cell_type": "code",
   "execution_count": 16,
   "id": "3ca5d4ce",
   "metadata": {},
   "outputs": [
    {
     "data": {
      "text/plain": [
       "(994, 1)"
      ]
     },
     "execution_count": 16,
     "metadata": {},
     "output_type": "execute_result"
    }
   ],
   "source": [
    "### Do not run this cell twice\n",
    "\n",
    "df_copy.loc[df_copy['average_expert']<3, 'average_expert'] = 1\n",
    "df_copy.loc[df_copy['average_expert']>=3, 'average_expert'] = 0\n",
    "\n",
    "inter_y_average_high = df_copy['average_expert'].to_numpy().reshape(-1,1)\n",
    "inter_y_average_high.shape"
   ]
  },
  {
   "cell_type": "markdown",
   "id": "53645804",
   "metadata": {},
   "source": [
    "(994, 1)"
   ]
  },
  {
   "cell_type": "markdown",
   "id": "f226a57f",
   "metadata": {},
   "source": [
    " In each scenario, 3 models are used: Random Forests, Logistic Regression and Decision Trees"
   ]
  },
  {
   "cell_type": "markdown",
   "id": "9bb41a4f",
   "metadata": {},
   "source": [
    "# Expert Fusion\n"
   ]
  },
  {
   "cell_type": "markdown",
   "id": "03da9a45",
   "metadata": {},
   "source": [
    "### High Level Expert Fusion: 1 Majority Expert, with color images (High level Fusion)\n",
    "\n",
    "\n",
    "### The data is split into train, validation and test sets.\n",
    "### For each Expert we build a separate model, which is trained on his own labels on the train set (the X are the same, but the labels differ from Expert to Expert.\n",
    "### Then, each model is validated on the respective labels from that Expert on the validation set (again, same X_validation but different y_validation labels)\n",
    "### Then, the models are fused: The 4 models each make a separate decision for the test set.\n",
    "### The final accuracy metrics are measured on the original average expert column of the dataframe (converted to binary 0,1 instead of 1,2,3,4 classes, because the fused model cannot be tested against individual labels from Experts"
   ]
  },
  {
   "cell_type": "markdown",
   "id": "45335100",
   "metadata": {},
   "source": [
    "### Because the 2 classes are imbalanced, oversampling will be performed. Imbalanced learn random oversampler needs the target values to be in a (n,1) vector, so in order to not lose the original indexing of the variables, the y values are horizontally stacked to the X variables, and will afterwards be splitted again"
   ]
  },
  {
   "cell_type": "code",
   "execution_count": 17,
   "id": "ab3c13bb",
   "metadata": {},
   "outputs": [
    {
     "name": "stdout",
     "output_type": "stream",
     "text": [
      "(994, 408964)\n"
     ]
    }
   ],
   "source": [
    "inter_features_high = np.hstack((resize_img_array, inter_y1, inter_y2, inter_y3, inter_y4))\n",
    "\n",
    "print(inter_features_high.shape)"
   ]
  },
  {
   "cell_type": "markdown",
   "id": "7b481880",
   "metadata": {},
   "source": [
    "(994, 408964)\n"
   ]
  },
  {
   "cell_type": "markdown",
   "id": "2b056ff0",
   "metadata": {},
   "source": [
    "\n",
    "we need to run the cells in the beginning to load df_copy again if we restarted kernel"
   ]
  },
  {
   "cell_type": "code",
   "execution_count": 18,
   "id": "4a102194",
   "metadata": {},
   "outputs": [
    {
     "name": "stdout",
     "output_type": "stream",
     "text": [
      "(1486, 408964)\n",
      "(1486,)\n"
     ]
    }
   ],
   "source": [
    "ros = RandomOverSampler(random_state=42)\n",
    "\n",
    "X_res_high_majority, y_res_high_majority = ros.fit_resample(inter_features_high, inter_y_average_high)\n",
    "\n",
    "print(X_res_high_majority.shape)\n",
    "print(y_res_high_majority.shape)"
   ]
  },
  {
   "cell_type": "markdown",
   "id": "5d5707e1",
   "metadata": {},
   "source": [
    "(1486, 408964)\n",
    "\n",
    "(1486,)\n"
   ]
  },
  {
   "cell_type": "code",
   "execution_count": 19,
   "id": "96343197",
   "metadata": {},
   "outputs": [
    {
     "name": "stdout",
     "output_type": "stream",
     "text": [
      "(1486, 408960)\n",
      "(1486, 4)\n"
     ]
    }
   ],
   "source": [
    "X_res_high_majority_inter = X_res_high_majority[:, 0:X_res_high_majority.shape[1] - 4]\n",
    "y_res_high_majority = X_res_high_majority[:, X_res_high_majority.shape[1]-4:X_res_high_majority.shape[1]]\n",
    "\n",
    "X_res_high_majority = X_res_high_majority_inter\n",
    "print(X_res_high_majority.shape)\n",
    "print(y_res_high_majority.shape)"
   ]
  },
  {
   "cell_type": "code",
   "execution_count": 20,
   "id": "cd9ffbdd",
   "metadata": {},
   "outputs": [],
   "source": [
    "X_train_high_majority, X_rem_high_majority, y_train_high_majority, y_rem_high_majority = train_test_split(X_res_high_majority, \n",
    "                                                                                                            y_res_high_majority, \n",
    "                                                                                                test_size=0.33, \n",
    "                                                                                                random_state=42)\n"
   ]
  },
  {
   "cell_type": "code",
   "execution_count": 21,
   "id": "b60b6a12",
   "metadata": {},
   "outputs": [],
   "source": [
    "X_val_high_majority, X_test_high_majority, y_val_high_majority, y_test_high_majority = train_test_split(X_rem_high_majority, \n",
    "                                                                                                        y_rem_high_majority, \n",
    "                                                                                                test_size=0.40,                       \n",
    "                                                                                                random_state=42)\n"
   ]
  },
  {
   "cell_type": "code",
   "execution_count": 22,
   "id": "a7d78427",
   "metadata": {},
   "outputs": [
    {
     "name": "stdout",
     "output_type": "stream",
     "text": [
      "(1486, 408960)\n",
      "(1486, 4)\n",
      "\n",
      "(995, 408960)\n",
      "(995, 4)\n",
      "\n",
      "(294, 408960)\n",
      "(294, 4)\n",
      "\n",
      "(197, 408960)\n",
      "(197, 4)\n",
      "\n"
     ]
    }
   ],
   "source": [
    "print(X_res_high_majority.shape)\n",
    "print(y_res_high_majority.shape)\n",
    "print('')\n",
    "print(X_train_high_majority.shape)\n",
    "print(y_train_high_majority.shape)\n",
    "print('')\n",
    "print(X_val_high_majority.shape)\n",
    "print(y_val_high_majority.shape)\n",
    "print('')\n",
    "print(X_test_high_majority.shape)\n",
    "print(y_test_high_majority.shape)\n",
    "print('')\n",
    "\n"
   ]
  },
  {
   "cell_type": "code",
   "execution_count": 23,
   "id": "34f06e30",
   "metadata": {},
   "outputs": [],
   "source": [
    "# Train\n",
    "X1_train_high_majority = X_train_high_majority\n",
    "X2_train_high_majority = X_train_high_majority\n",
    "X3_train_high_majority = X_train_high_majority\n",
    "X4_train_high_majority = X_train_high_majority\n",
    "\n",
    "y1_train_high_majority = y_train_high_majority[:,0]\n",
    "y2_train_high_majority = y_train_high_majority[:,1]\n",
    "y3_train_high_majority = y_train_high_majority[:,2]\n",
    "y4_train_high_majority = y_train_high_majority[:,3]\n",
    "\n",
    "# Validation\n",
    "X1_val_high_majority = X_val_high_majority\n",
    "X2_val_high_majority = X_val_high_majority\n",
    "X3_val_high_majority = X_val_high_majority\n",
    "X4_val_high_majority = X_val_high_majority\n",
    "\n",
    "y1_val_high_majority = y_val_high_majority[:,0]\n",
    "y2_val_high_majority = y_val_high_majority[:,1]\n",
    "y3_val_high_majority = y_val_high_majority[:,2]\n",
    "y4_val_high_majority = y_val_high_majority[:,3]\n",
    "\n",
    "# Test\n",
    "X1_test_high_majority = X_test_high_majority \n",
    "X2_test_high_majority = X_test_high_majority \n",
    "X3_test_high_majority = X_test_high_majority \n",
    "X4_test_high_majority = X_test_high_majority \n",
    "\n",
    "\n"
   ]
  },
  {
   "cell_type": "code",
   "execution_count": 24,
   "id": "4337d21d",
   "metadata": {},
   "outputs": [
    {
     "name": "stdout",
     "output_type": "stream",
     "text": [
      "(197, 4)\n",
      "(197,)\n"
     ]
    }
   ],
   "source": [
    "print(y_test_high_majority.shape)\n",
    "\n",
    "y_test_high_majority_single = []\n",
    "\n",
    "for i in range(y_test_high_majority.shape[0]):\n",
    "    final_label1 = y_test_high_majority[i,0]\n",
    "    final_label2 = y_test_high_majority[i,1]\n",
    "    final_label3 = y_test_high_majority[i,2]\n",
    "    final_label4 = y_test_high_majority[i,3]\n",
    "    if np.sum([final_label1, final_label2, final_label3, final_label4]) <= 2:\n",
    "        majority_label = 0\n",
    "    else:\n",
    "        majority_label = 1\n",
    "    y_test_high_majority_single.append(majority_label)   \n",
    "\n",
    "\n",
    "y_test_high_majority_single = np.array(y_test_high_majority_single)\n",
    "\n",
    "print(y_test_high_majority_single.shape)"
   ]
  },
  {
   "cell_type": "markdown",
   "id": "b990d700",
   "metadata": {},
   "source": [
    "### Random Forest"
   ]
  },
  {
   "cell_type": "code",
   "execution_count": 27,
   "id": "47845456",
   "metadata": {},
   "outputs": [
    {
     "name": "stdout",
     "output_type": "stream",
     "text": [
      "\u001b[1mSHOWING RESULTS FOR CLASSIFIER: RANDOM FOREST\u001b[0m\n",
      "\n",
      "              precision    recall  f1-score   support\n",
      "\n",
      "           0       0.95      0.95      0.95       167\n",
      "           1       0.94      0.94      0.94       127\n",
      "\n",
      "    accuracy                           0.95       294\n",
      "   macro avg       0.94      0.94      0.94       294\n",
      "weighted avg       0.95      0.95      0.95       294\n",
      "\n",
      "----------------------------------------------------------------------------------------------------\n",
      "              precision    recall  f1-score   support\n",
      "\n",
      "           0       0.96      0.94      0.95       172\n",
      "           1       0.92      0.95      0.94       122\n",
      "\n",
      "    accuracy                           0.95       294\n",
      "   macro avg       0.94      0.95      0.94       294\n",
      "weighted avg       0.95      0.95      0.95       294\n",
      "\n",
      "----------------------------------------------------------------------------------------------------\n",
      "              precision    recall  f1-score   support\n",
      "\n",
      "           0       0.95      0.96      0.95       169\n",
      "           1       0.94      0.93      0.94       125\n",
      "\n",
      "    accuracy                           0.95       294\n",
      "   macro avg       0.95      0.94      0.94       294\n",
      "weighted avg       0.95      0.95      0.95       294\n",
      "\n",
      "----------------------------------------------------------------------------------------------------\n",
      "              precision    recall  f1-score   support\n",
      "\n",
      "           0       0.95      0.95      0.95       174\n",
      "           1       0.93      0.93      0.93       120\n",
      "\n",
      "    accuracy                           0.94       294\n",
      "   macro avg       0.94      0.94      0.94       294\n",
      "weighted avg       0.94      0.94      0.94       294\n",
      "\n",
      "----------------------------------------------------------------------------------------------------\n",
      "\n",
      "The time to run classifier was: 172.88739109039307 seconds\n",
      "\n",
      "----------------------------------------------------------------------------------------------------\n",
      "\n",
      "\n",
      "The time to run all classifiers was: 172.89995098114014 seconds or 2.0 minutes \n"
     ]
    }
   ],
   "source": [
    "start1 = time.time()\n",
    "\n",
    "names = 'Random Forest'\n",
    "\n",
    "classifiers = RandomForestClassifier(random_state=42)\n",
    "\n",
    "start = time.time()\n",
    "print(f'\\033[1mSHOWING RESULTS FOR CLASSIFIER: RANDOM FOREST\\033[0m\\n')\n",
    "clf1_high_majority = RandomForestClassifier(random_state=42)\n",
    "clf2_high_majority = RandomForestClassifier(random_state=42)\n",
    "clf3_high_majority = RandomForestClassifier(random_state=42)\n",
    "clf4_high_majority = RandomForestClassifier(random_state=42)\n",
    "\n",
    "clf1_high_majority.fit(X1_train_high_majority, y1_train_high_majority)\n",
    "clf2_high_majority.fit(X2_train_high_majority, y2_train_high_majority)\n",
    "clf3_high_majority.fit(X3_train_high_majority, y3_train_high_majority)\n",
    "clf4_high_majority.fit(X4_train_high_majority, y4_train_high_majority)\n",
    "\n",
    "preds1_high_majority = clf1_high_majority.predict(X1_val_high_majority)\n",
    "preds2_high_majority = clf2_high_majority.predict(X2_val_high_majority)\n",
    "preds3_high_majority = clf3_high_majority.predict(X3_val_high_majority)\n",
    "preds4_high_majority = clf4_high_majority.predict(X4_val_high_majority)\n",
    "\n",
    "print(classification_report(y1_val_high_majority,preds1_high_majority))\n",
    "print('-'*100)\n",
    "print(classification_report(y2_val_high_majority,preds2_high_majority))\n",
    "print('-'*100)\n",
    "print(classification_report(y3_val_high_majority,preds3_high_majority))\n",
    "print('-'*100)\n",
    "print(classification_report(y4_val_high_majority,preds4_high_majority))\n",
    "print('-'*100)\n",
    "\n",
    "        \n",
    "        \n",
    "        \n",
    "        \n",
    "end = time.time()\n",
    "print(f\"\\nThe time to run classifier was: {end-start} seconds\\n\")\n",
    "print('-'*100)\n",
    "        \n",
    "\n",
    "\n",
    "end1 = time.time()        \n",
    "\n",
    "print(f\"\\n\\nThe time to run all classifiers was: {end1-start1} seconds or {(end1-start1)//60} minutes \") ### typically 2-3 minutes\n"
   ]
  },
  {
   "cell_type": "code",
   "execution_count": 28,
   "id": "272010e2",
   "metadata": {},
   "outputs": [],
   "source": [
    "test_preds1_high_majority = clf1_high_majority.predict(X1_test_high_majority)\n",
    "test_preds2_high_majority = clf2_high_majority.predict(X2_test_high_majority)\n",
    "test_preds3_high_majority = clf3_high_majority.predict(X3_test_high_majority)\n",
    "test_preds4_high_majority = clf4_high_majority.predict(X4_test_high_majority)"
   ]
  },
  {
   "cell_type": "code",
   "execution_count": 29,
   "id": "3da0f34e",
   "metadata": {},
   "outputs": [
    {
     "name": "stdout",
     "output_type": "stream",
     "text": [
      "(197,)\n"
     ]
    }
   ],
   "source": [
    "final_test_predictions_high_majority = []\n",
    "\n",
    "for i in range(test_preds1_high_majority.shape[0]):\n",
    "    sum_labels = np.sum([test_preds1_high_majority[i], test_preds2_high_majority[i], test_preds3_high_majority[i], test_preds4_high_majority[i]])\n",
    "    if sum_labels <= 2:\n",
    "        final_label = 0\n",
    "    else:\n",
    "        final_label = 1\n",
    "        \n",
    "    final_test_predictions_high_majority.append(final_label)\n",
    "    \n",
    "final_test_predictions_high_majority = np.array(final_test_predictions_high_majority)\n",
    "\n",
    "print(final_test_predictions_high_majority.shape)"
   ]
  },
  {
   "cell_type": "code",
   "execution_count": 30,
   "id": "fb602d6c",
   "metadata": {},
   "outputs": [
    {
     "name": "stdout",
     "output_type": "stream",
     "text": [
      "              precision    recall  f1-score   support\n",
      "\n",
      "           0       0.97      0.97      0.97        99\n",
      "           1       0.97      0.97      0.97        98\n",
      "\n",
      "    accuracy                           0.97       197\n",
      "   macro avg       0.97      0.97      0.97       197\n",
      "weighted avg       0.97      0.97      0.97       197\n",
      "\n"
     ]
    }
   ],
   "source": [
    "print(classification_report(y_test_high_majority_single, final_test_predictions_high_majority))"
   ]
  },
  {
   "cell_type": "markdown",
   "id": "c8465ea4",
   "metadata": {},
   "source": [
    "### Logistic Regression"
   ]
  },
  {
   "cell_type": "code",
   "execution_count": 33,
   "id": "d88929f7",
   "metadata": {},
   "outputs": [
    {
     "name": "stdout",
     "output_type": "stream",
     "text": [
      "\u001b[1mSHOWING RESULTS FOR CLASSIFIER: LOGISTIC REGRESSION\u001b[0m\n",
      "\n",
      "              precision    recall  f1-score   support\n",
      "\n",
      "           0       0.90      0.96      0.93       167\n",
      "           1       0.95      0.87      0.91       127\n",
      "\n",
      "    accuracy                           0.92       294\n",
      "   macro avg       0.93      0.92      0.92       294\n",
      "weighted avg       0.92      0.92      0.92       294\n",
      "\n",
      "----------------------------------------------------------------------------------------------------\n",
      "              precision    recall  f1-score   support\n",
      "\n",
      "           0       0.93      0.95      0.94       172\n",
      "           1       0.93      0.89      0.91       122\n",
      "\n",
      "    accuracy                           0.93       294\n",
      "   macro avg       0.93      0.92      0.93       294\n",
      "weighted avg       0.93      0.93      0.93       294\n",
      "\n",
      "----------------------------------------------------------------------------------------------------\n",
      "              precision    recall  f1-score   support\n",
      "\n",
      "           0       0.91      0.96      0.93       169\n",
      "           1       0.95      0.86      0.90       125\n",
      "\n",
      "    accuracy                           0.92       294\n",
      "   macro avg       0.93      0.91      0.92       294\n",
      "weighted avg       0.92      0.92      0.92       294\n",
      "\n",
      "----------------------------------------------------------------------------------------------------\n",
      "              precision    recall  f1-score   support\n",
      "\n",
      "           0       0.91      0.98      0.94       174\n",
      "           1       0.96      0.86      0.91       120\n",
      "\n",
      "    accuracy                           0.93       294\n",
      "   macro avg       0.94      0.92      0.92       294\n",
      "weighted avg       0.93      0.93      0.93       294\n",
      "\n",
      "----------------------------------------------------------------------------------------------------\n",
      "\n",
      "The time to run classifier was: 734.8705050945282 seconds\n",
      "\n",
      "----------------------------------------------------------------------------------------------------\n",
      "\n",
      "\n",
      "The time to run all classifiers was: 734.8796291351318 seconds or 12.0 minutes \n"
     ]
    }
   ],
   "source": [
    "start1 = time.time()\n",
    "\n",
    "names = 'LOGISTIC REGRESSION'\n",
    "\n",
    "classifiers = LogisticRegression(random_state=42, max_iter=1000, solver = 'liblinear')\n",
    "\n",
    "start = time.time()\n",
    "print(f'\\033[1mSHOWING RESULTS FOR CLASSIFIER: LOGISTIC REGRESSION\\033[0m\\n')\n",
    "clf1_high_majority =  LogisticRegression(random_state=42, max_iter=1000, solver = 'liblinear')\n",
    "clf2_high_majority =  LogisticRegression(random_state=42, max_iter=1000, solver = 'liblinear')\n",
    "clf3_high_majority =  LogisticRegression(random_state=42, max_iter=1000, solver = 'liblinear')\n",
    "clf4_high_majority =  LogisticRegression(random_state=42, max_iter=1000, solver = 'liblinear')\n",
    "\n",
    "clf1_high_majority.fit(X1_train_high_majority, y1_train_high_majority)\n",
    "clf2_high_majority.fit(X2_train_high_majority, y2_train_high_majority)\n",
    "clf3_high_majority.fit(X3_train_high_majority, y3_train_high_majority)\n",
    "clf4_high_majority.fit(X4_train_high_majority, y4_train_high_majority)\n",
    "\n",
    "preds1_high_majority = clf1_high_majority.predict(X1_val_high_majority)\n",
    "preds2_high_majority = clf2_high_majority.predict(X2_val_high_majority)\n",
    "preds3_high_majority = clf3_high_majority.predict(X3_val_high_majority)\n",
    "preds4_high_majority = clf4_high_majority.predict(X4_val_high_majority)\n",
    "\n",
    "print(classification_report(y1_val_high_majority,preds1_high_majority))\n",
    "print('-'*100)\n",
    "print(classification_report(y2_val_high_majority,preds2_high_majority))\n",
    "print('-'*100)\n",
    "print(classification_report(y3_val_high_majority,preds3_high_majority))\n",
    "print('-'*100)\n",
    "print(classification_report(y4_val_high_majority,preds4_high_majority))\n",
    "print('-'*100)\n",
    "\n",
    "        \n",
    "        \n",
    "        \n",
    "        \n",
    "end = time.time()\n",
    "print(f\"\\nThe time to run classifier was: {end-start} seconds\\n\")\n",
    "print('-'*100)\n",
    "        \n",
    "\n",
    "\n",
    "end1 = time.time()        \n",
    "\n",
    "print(f\"\\n\\nThe time to run all classifiers was: {end1-start1} seconds or {(end1-start1)//60} minutes \")\n"
   ]
  },
  {
   "cell_type": "code",
   "execution_count": 34,
   "id": "6030a161",
   "metadata": {},
   "outputs": [],
   "source": [
    "test_preds1_high_majority = clf1_high_majority.predict(X1_test_high_majority)\n",
    "test_preds2_high_majority = clf2_high_majority.predict(X2_test_high_majority)\n",
    "test_preds3_high_majority = clf3_high_majority.predict(X3_test_high_majority)\n",
    "test_preds4_high_majority = clf4_high_majority.predict(X4_test_high_majority)"
   ]
  },
  {
   "cell_type": "code",
   "execution_count": 35,
   "id": "21699409",
   "metadata": {},
   "outputs": [
    {
     "name": "stdout",
     "output_type": "stream",
     "text": [
      "(197,)\n"
     ]
    }
   ],
   "source": [
    "final_test_predictions_high_majority = []\n",
    "\n",
    "for i in range(test_preds1_high_majority.shape[0]):\n",
    "    sum_labels = np.sum([test_preds1_high_majority[i], test_preds2_high_majority[i], test_preds3_high_majority[i], test_preds4_high_majority[i]])\n",
    "    if sum_labels <= 2:\n",
    "        final_label = 0\n",
    "    else:\n",
    "        final_label = 1\n",
    "        \n",
    "    final_test_predictions_high_majority.append(final_label)\n",
    "    \n",
    "final_test_predictions_high_majority = np.array(final_test_predictions_high_majority)\n",
    "\n",
    "print(final_test_predictions_high_majority.shape)"
   ]
  },
  {
   "cell_type": "code",
   "execution_count": 36,
   "id": "aaef9e0b",
   "metadata": {},
   "outputs": [
    {
     "name": "stdout",
     "output_type": "stream",
     "text": [
      "              precision    recall  f1-score   support\n",
      "\n",
      "           0       0.93      0.98      0.96        99\n",
      "           1       0.98      0.93      0.95        98\n",
      "\n",
      "    accuracy                           0.95       197\n",
      "   macro avg       0.96      0.95      0.95       197\n",
      "weighted avg       0.96      0.95      0.95       197\n",
      "\n"
     ]
    }
   ],
   "source": [
    "print(classification_report(y_test_high_majority_single, final_test_predictions_high_majority))"
   ]
  },
  {
   "cell_type": "markdown",
   "id": "628cc3be",
   "metadata": {},
   "source": [
    "### Decision Trees"
   ]
  },
  {
   "cell_type": "code",
   "execution_count": 38,
   "id": "f789f7b8",
   "metadata": {},
   "outputs": [
    {
     "name": "stdout",
     "output_type": "stream",
     "text": [
      "\u001b[1mSHOWING RESULTS FOR CLASSIFIER: DECISION TREES\u001b[0m\n",
      "\n",
      "              precision    recall  f1-score   support\n",
      "\n",
      "           0       0.88      0.92      0.90       167\n",
      "           1       0.89      0.83      0.86       127\n",
      "\n",
      "    accuracy                           0.88       294\n",
      "   macro avg       0.88      0.87      0.88       294\n",
      "weighted avg       0.88      0.88      0.88       294\n",
      "\n",
      "----------------------------------------------------------------------------------------------------\n",
      "              precision    recall  f1-score   support\n",
      "\n",
      "           0       0.86      0.88      0.87       172\n",
      "           1       0.83      0.80      0.82       122\n",
      "\n",
      "    accuracy                           0.85       294\n",
      "   macro avg       0.85      0.84      0.85       294\n",
      "weighted avg       0.85      0.85      0.85       294\n",
      "\n",
      "----------------------------------------------------------------------------------------------------\n",
      "              precision    recall  f1-score   support\n",
      "\n",
      "           0       0.85      0.95      0.90       169\n",
      "           1       0.92      0.78      0.84       125\n",
      "\n",
      "    accuracy                           0.88       294\n",
      "   macro avg       0.89      0.86      0.87       294\n",
      "weighted avg       0.88      0.88      0.88       294\n",
      "\n",
      "----------------------------------------------------------------------------------------------------\n",
      "              precision    recall  f1-score   support\n",
      "\n",
      "           0       0.83      0.93      0.88       174\n",
      "           1       0.88      0.72      0.79       120\n",
      "\n",
      "    accuracy                           0.85       294\n",
      "   macro avg       0.85      0.83      0.84       294\n",
      "weighted avg       0.85      0.85      0.84       294\n",
      "\n",
      "----------------------------------------------------------------------------------------------------\n",
      "\n",
      "The time to run classifier was: 1252.8873972892761 seconds\n",
      "\n",
      "----------------------------------------------------------------------------------------------------\n",
      "\n",
      "\n",
      "The time to run all classifiers was: 1252.8873972892761 seconds or 20.0 minutes \n"
     ]
    }
   ],
   "source": [
    "start1 = time.time()\n",
    "\n",
    "names = 'Decision Trees'\n",
    "\n",
    "classifiers = DecisionTreeClassifier(criterion='entropy', random_state=42)\n",
    "\n",
    "start = time.time()\n",
    "print(f'\\033[1mSHOWING RESULTS FOR CLASSIFIER: DECISION TREES\\033[0m\\n')\n",
    "clf1_high_majority = DecisionTreeClassifier(criterion='entropy', random_state=42)\n",
    "clf2_high_majority = DecisionTreeClassifier(criterion='entropy', random_state=42)\n",
    "clf3_high_majority = DecisionTreeClassifier(criterion='entropy', random_state=42)\n",
    "clf4_high_majority = DecisionTreeClassifier(criterion='entropy', random_state=42)\n",
    "\n",
    "clf1_high_majority.fit(X1_train_high_majority, y1_train_high_majority)\n",
    "clf2_high_majority.fit(X2_train_high_majority, y2_train_high_majority)\n",
    "clf3_high_majority.fit(X3_train_high_majority, y3_train_high_majority)\n",
    "clf4_high_majority.fit(X4_train_high_majority, y4_train_high_majority)\n",
    "\n",
    "preds1_high_majority = clf1_high_majority.predict(X1_val_high_majority)\n",
    "preds2_high_majority = clf2_high_majority.predict(X2_val_high_majority)\n",
    "preds3_high_majority = clf3_high_majority.predict(X3_val_high_majority)\n",
    "preds4_high_majority = clf4_high_majority.predict(X4_val_high_majority)\n",
    "\n",
    "print(classification_report(y1_val_high_majority,preds1_high_majority))\n",
    "print('-'*100)\n",
    "print(classification_report(y2_val_high_majority,preds2_high_majority))\n",
    "print('-'*100)\n",
    "print(classification_report(y3_val_high_majority,preds3_high_majority))\n",
    "print('-'*100)\n",
    "print(classification_report(y4_val_high_majority,preds4_high_majority))\n",
    "print('-'*100)\n",
    "\n",
    "        \n",
    "        \n",
    "        \n",
    "        \n",
    "end = time.time()\n",
    "print(f\"\\nThe time to run classifier was: {end-start} seconds\\n\")\n",
    "print('-'*100)\n",
    "        \n",
    "\n",
    "\n",
    "end1 = time.time()        \n",
    "\n",
    "print(f\"\\n\\nThe time to run all classifiers was: {end1-start1} seconds or {(end1-start1)//60} minutes \")\n"
   ]
  },
  {
   "cell_type": "code",
   "execution_count": 39,
   "id": "c85c19dc",
   "metadata": {},
   "outputs": [],
   "source": [
    "test_preds1_high_majority = clf1_high_majority.predict(X1_test_high_majority)\n",
    "test_preds2_high_majority = clf2_high_majority.predict(X2_test_high_majority)\n",
    "test_preds3_high_majority = clf3_high_majority.predict(X3_test_high_majority)\n",
    "test_preds4_high_majority = clf4_high_majority.predict(X4_test_high_majority)"
   ]
  },
  {
   "cell_type": "code",
   "execution_count": 40,
   "id": "082b23e7",
   "metadata": {},
   "outputs": [
    {
     "name": "stdout",
     "output_type": "stream",
     "text": [
      "(197,)\n"
     ]
    }
   ],
   "source": [
    "final_test_predictions_high_majority = []\n",
    "\n",
    "for i in range(test_preds1_high_majority.shape[0]):\n",
    "    sum_labels = np.sum([test_preds1_high_majority[i], test_preds2_high_majority[i], test_preds3_high_majority[i], test_preds4_high_majority[i]])\n",
    "    if sum_labels <= 2:\n",
    "        final_label = 0\n",
    "    else:\n",
    "        final_label = 1\n",
    "        \n",
    "    final_test_predictions_high_majority.append(final_label)\n",
    "    \n",
    "final_test_predictions_high_majority = np.array(final_test_predictions_high_majority)\n",
    "\n",
    "print(final_test_predictions_high_majority.shape)"
   ]
  },
  {
   "cell_type": "code",
   "execution_count": 41,
   "id": "791d0d23",
   "metadata": {},
   "outputs": [
    {
     "name": "stdout",
     "output_type": "stream",
     "text": [
      "              precision    recall  f1-score   support\n",
      "\n",
      "           0       0.89      0.98      0.93        99\n",
      "           1       0.98      0.88      0.92        98\n",
      "\n",
      "    accuracy                           0.93       197\n",
      "   macro avg       0.93      0.93      0.93       197\n",
      "weighted avg       0.93      0.93      0.93       197\n",
      "\n"
     ]
    }
   ],
   "source": [
    "print(classification_report(y_test_high_majority_single, final_test_predictions_high_majority))"
   ]
  },
  {
   "cell_type": "code",
   "execution_count": null,
   "id": "cc1b8bc7",
   "metadata": {},
   "outputs": [],
   "source": []
  },
  {
   "cell_type": "markdown",
   "id": "c88059b0",
   "metadata": {},
   "source": [
    "## 1 Majority Expert, using resized RGB and BW images concatenated as features"
   ]
  },
  {
   "cell_type": "code",
   "execution_count": 25,
   "id": "634ab3ac",
   "metadata": {},
   "outputs": [],
   "source": [
    "im_rbg_bw = np.hstack((resize_img_array, resize_img_bw_array))"
   ]
  },
  {
   "cell_type": "code",
   "execution_count": 26,
   "id": "f0e8a583",
   "metadata": {},
   "outputs": [
    {
     "name": "stdout",
     "output_type": "stream",
     "text": [
      "(994, 545284)\n"
     ]
    }
   ],
   "source": [
    "inter_features_high = np.hstack((im_rbg_bw, inter_y1, inter_y2, inter_y3, inter_y4))\n",
    "\n",
    "print(inter_features_high.shape)"
   ]
  },
  {
   "cell_type": "markdown",
   "id": "beeb7501",
   "metadata": {},
   "source": [
    "(994, 545284)\n"
   ]
  },
  {
   "cell_type": "markdown",
   "id": "18f14fc7",
   "metadata": {},
   "source": [
    "we need to run the cells in the beginning to load df_copy again if we restarted kernel"
   ]
  },
  {
   "cell_type": "code",
   "execution_count": 27,
   "id": "1165d7ba",
   "metadata": {},
   "outputs": [
    {
     "data": {
      "text/plain": [
       "(994, 1)"
      ]
     },
     "execution_count": 27,
     "metadata": {},
     "output_type": "execute_result"
    }
   ],
   "source": [
    "\n",
    "# df_copy.loc[df_copy['average_expert']<3, 'average_expert'] = 1\n",
    "# df_copy.loc[df_copy['average_expert']>=3, 'average_expert'] = 0\n",
    "\n",
    "inter_y_average_high = df_copy['average_expert'].to_numpy().reshape(-1,1)\n",
    "inter_y_average_high.shape"
   ]
  },
  {
   "cell_type": "code",
   "execution_count": 28,
   "id": "ecf24916",
   "metadata": {},
   "outputs": [
    {
     "name": "stdout",
     "output_type": "stream",
     "text": [
      "(1486, 545284)\n",
      "(1486,)\n"
     ]
    }
   ],
   "source": [
    "ros = RandomOverSampler(random_state=42)\n",
    "\n",
    "X_res_high_majority, y_res_high_majority = ros.fit_resample(inter_features_high, inter_y_average_high)\n",
    "\n",
    "print(X_res_high_majority.shape)\n",
    "print(y_res_high_majority.shape)"
   ]
  },
  {
   "cell_type": "markdown",
   "id": "613694ea",
   "metadata": {},
   "source": [
    "(1486, 545284)\n",
    "\n",
    "(1486,)\n"
   ]
  },
  {
   "cell_type": "code",
   "execution_count": 29,
   "id": "d630b786",
   "metadata": {},
   "outputs": [
    {
     "name": "stdout",
     "output_type": "stream",
     "text": [
      "(1486, 545280)\n",
      "(1486, 4)\n"
     ]
    }
   ],
   "source": [
    "X_res_high_majority_inter = X_res_high_majority[:, 0:X_res_high_majority.shape[1] - 4]\n",
    "y_res_high_majority = X_res_high_majority[:, X_res_high_majority.shape[1]-4:X_res_high_majority.shape[1]]\n",
    "\n",
    "X_res_high_majority = X_res_high_majority_inter\n",
    "print(X_res_high_majority.shape)\n",
    "print(y_res_high_majority.shape)"
   ]
  },
  {
   "cell_type": "code",
   "execution_count": 30,
   "id": "1972c421",
   "metadata": {},
   "outputs": [],
   "source": [
    "X_train_high_majority, X_rem_high_majority, y_train_high_majority, y_rem_high_majority = train_test_split(X_res_high_majority, \n",
    "                                                                                                            y_res_high_majority, \n",
    "                                                                                                test_size=0.33, \n",
    "                                                                                                random_state=42)\n"
   ]
  },
  {
   "cell_type": "code",
   "execution_count": 31,
   "id": "cbf0c857",
   "metadata": {},
   "outputs": [],
   "source": [
    "X_val_high_majority, X_test_high_majority, y_val_high_majority, y_test_high_majority = train_test_split(X_rem_high_majority, \n",
    "                                                                                                        y_rem_high_majority, \n",
    "                                                                                                test_size=0.40,                       \n",
    "                                                                                                random_state=42)\n"
   ]
  },
  {
   "cell_type": "code",
   "execution_count": 32,
   "id": "cb4463e7",
   "metadata": {},
   "outputs": [
    {
     "name": "stdout",
     "output_type": "stream",
     "text": [
      "(1486, 545280)\n",
      "(1486, 4)\n",
      "\n",
      "(995, 545280)\n",
      "(995, 4)\n",
      "\n",
      "(294, 545280)\n",
      "(294, 4)\n",
      "\n",
      "(197, 545280)\n",
      "(197, 4)\n",
      "\n"
     ]
    }
   ],
   "source": [
    "print(X_res_high_majority.shape)\n",
    "print(y_res_high_majority.shape)\n",
    "print('')\n",
    "print(X_train_high_majority.shape)\n",
    "print(y_train_high_majority.shape)\n",
    "print('')\n",
    "print(X_val_high_majority.shape)\n",
    "print(y_val_high_majority.shape)\n",
    "print('')\n",
    "print(X_test_high_majority.shape)\n",
    "print(y_test_high_majority.shape)\n",
    "print('')\n",
    "\n"
   ]
  },
  {
   "cell_type": "code",
   "execution_count": 33,
   "id": "b4f4dbba",
   "metadata": {},
   "outputs": [],
   "source": [
    "# Train\n",
    "X1_train_high_majority = X_train_high_majority\n",
    "X2_train_high_majority = X_train_high_majority\n",
    "X3_train_high_majority = X_train_high_majority\n",
    "X4_train_high_majority = X_train_high_majority\n",
    "\n",
    "y1_train_high_majority = y_train_high_majority[:,0]\n",
    "y2_train_high_majority = y_train_high_majority[:,1]\n",
    "y3_train_high_majority = y_train_high_majority[:,2]\n",
    "y4_train_high_majority = y_train_high_majority[:,3]\n",
    "\n",
    "# Validation\n",
    "X1_val_high_majority = X_val_high_majority\n",
    "X2_val_high_majority = X_val_high_majority\n",
    "X3_val_high_majority = X_val_high_majority\n",
    "X4_val_high_majority = X_val_high_majority\n",
    "\n",
    "y1_val_high_majority = y_val_high_majority[:,0]\n",
    "y2_val_high_majority = y_val_high_majority[:,1]\n",
    "y3_val_high_majority = y_val_high_majority[:,2]\n",
    "y4_val_high_majority = y_val_high_majority[:,3]\n",
    "\n",
    "# Test\n",
    "X1_test_high_majority = X_test_high_majority \n",
    "X2_test_high_majority = X_test_high_majority \n",
    "X3_test_high_majority = X_test_high_majority \n",
    "X4_test_high_majority = X_test_high_majority \n",
    "\n",
    "\n"
   ]
  },
  {
   "cell_type": "code",
   "execution_count": 34,
   "id": "14ca4f44",
   "metadata": {},
   "outputs": [
    {
     "name": "stdout",
     "output_type": "stream",
     "text": [
      "(197, 4)\n",
      "(197,)\n"
     ]
    }
   ],
   "source": [
    "print(y_test_high_majority.shape)\n",
    "\n",
    "y_test_high_majority_single = []\n",
    "\n",
    "for i in range(y_test_high_majority.shape[0]):\n",
    "    final_label1 = y_test_high_majority[i,0]\n",
    "    final_label2 = y_test_high_majority[i,1]\n",
    "    final_label3 = y_test_high_majority[i,2]\n",
    "    final_label4 = y_test_high_majority[i,3]\n",
    "    if np.sum([final_label1, final_label2, final_label3, final_label4]) <= 2:\n",
    "        majority_label = 0\n",
    "    else:\n",
    "        majority_label = 1\n",
    "    y_test_high_majority_single.append(majority_label)   \n",
    "\n",
    "\n",
    "y_test_high_majority_single = np.array(y_test_high_majority_single)\n",
    "\n",
    "print(y_test_high_majority_single.shape)"
   ]
  },
  {
   "cell_type": "markdown",
   "id": "9bcd21fe",
   "metadata": {},
   "source": [
    "### Random Forest"
   ]
  },
  {
   "cell_type": "code",
   "execution_count": 28,
   "id": "ebf06687",
   "metadata": {},
   "outputs": [
    {
     "name": "stdout",
     "output_type": "stream",
     "text": [
      "\u001b[1mSHOWING RESULTS FOR CLASSIFIER: RANDOM FOREST\u001b[0m\n",
      "\n",
      "              precision    recall  f1-score   support\n",
      "\n",
      "           0       0.98      0.95      0.96       167\n",
      "           1       0.93      0.97      0.95       127\n",
      "\n",
      "    accuracy                           0.96       294\n",
      "   macro avg       0.95      0.96      0.96       294\n",
      "weighted avg       0.96      0.96      0.96       294\n",
      "\n",
      "----------------------------------------------------------------------------------------------------\n",
      "              precision    recall  f1-score   support\n",
      "\n",
      "           0       0.97      0.94      0.95       172\n",
      "           1       0.91      0.96      0.94       122\n",
      "\n",
      "    accuracy                           0.95       294\n",
      "   macro avg       0.94      0.95      0.94       294\n",
      "weighted avg       0.95      0.95      0.95       294\n",
      "\n",
      "----------------------------------------------------------------------------------------------------\n",
      "              precision    recall  f1-score   support\n",
      "\n",
      "           0       0.98      0.96      0.97       169\n",
      "           1       0.95      0.97      0.96       125\n",
      "\n",
      "    accuracy                           0.97       294\n",
      "   macro avg       0.96      0.97      0.97       294\n",
      "weighted avg       0.97      0.97      0.97       294\n",
      "\n",
      "----------------------------------------------------------------------------------------------------\n",
      "              precision    recall  f1-score   support\n",
      "\n",
      "           0       0.96      0.93      0.95       174\n",
      "           1       0.90      0.95      0.93       120\n",
      "\n",
      "    accuracy                           0.94       294\n",
      "   macro avg       0.93      0.94      0.94       294\n",
      "weighted avg       0.94      0.94      0.94       294\n",
      "\n",
      "----------------------------------------------------------------------------------------------------\n",
      "\n",
      "The time to run classifier was: 165.29540491104126 seconds\n",
      "\n",
      "----------------------------------------------------------------------------------------------------\n",
      "\n",
      "\n",
      "The time to run all classifiers was: 165.3418688774109 seconds or 2.0 minutes \n"
     ]
    }
   ],
   "source": [
    "start1 = time.time()\n",
    "\n",
    "names = 'Random Forest'\n",
    "\n",
    "classifiers = RandomForestClassifier(random_state=42)\n",
    "\n",
    "start = time.time()\n",
    "print(f'\\033[1mSHOWING RESULTS FOR CLASSIFIER: RANDOM FOREST\\033[0m\\n')\n",
    "clf1_high_majority = RandomForestClassifier(random_state=42)\n",
    "clf2_high_majority = RandomForestClassifier(random_state=42)\n",
    "clf3_high_majority = RandomForestClassifier(random_state=42)\n",
    "clf4_high_majority = RandomForestClassifier(random_state=42)\n",
    "\n",
    "clf1_high_majority.fit(X1_train_high_majority, y1_train_high_majority)\n",
    "clf2_high_majority.fit(X2_train_high_majority, y2_train_high_majority)\n",
    "clf3_high_majority.fit(X3_train_high_majority, y3_train_high_majority)\n",
    "clf4_high_majority.fit(X4_train_high_majority, y4_train_high_majority)\n",
    "\n",
    "preds1_high_majority = clf1_high_majority.predict(X1_val_high_majority)\n",
    "preds2_high_majority = clf2_high_majority.predict(X2_val_high_majority)\n",
    "preds3_high_majority = clf3_high_majority.predict(X3_val_high_majority)\n",
    "preds4_high_majority = clf4_high_majority.predict(X4_val_high_majority)\n",
    "\n",
    "print(classification_report(y1_val_high_majority,preds1_high_majority))\n",
    "print('-'*100)\n",
    "print(classification_report(y2_val_high_majority,preds2_high_majority))\n",
    "print('-'*100)\n",
    "print(classification_report(y3_val_high_majority,preds3_high_majority))\n",
    "print('-'*100)\n",
    "print(classification_report(y4_val_high_majority,preds4_high_majority))\n",
    "print('-'*100)\n",
    "\n",
    "        \n",
    "        \n",
    "        \n",
    "        \n",
    "end = time.time()\n",
    "print(f\"\\nThe time to run classifier was: {end-start} seconds\\n\")\n",
    "print('-'*100)\n",
    "        \n",
    "\n",
    "\n",
    "end1 = time.time()        \n",
    "\n",
    "print(f\"\\n\\nThe time to run all classifiers was: {end1-start1} seconds or {(end1-start1)//60} minutes \") ### typically 2-3 minutes\n"
   ]
  },
  {
   "cell_type": "code",
   "execution_count": 29,
   "id": "41112e6d",
   "metadata": {},
   "outputs": [],
   "source": [
    "test_preds1_high_majority = clf1_high_majority.predict(X1_test_high_majority)\n",
    "test_preds2_high_majority = clf2_high_majority.predict(X2_test_high_majority)\n",
    "test_preds3_high_majority = clf3_high_majority.predict(X3_test_high_majority)\n",
    "test_preds4_high_majority = clf4_high_majority.predict(X4_test_high_majority)"
   ]
  },
  {
   "cell_type": "code",
   "execution_count": 30,
   "id": "e1bcddb5",
   "metadata": {},
   "outputs": [
    {
     "name": "stdout",
     "output_type": "stream",
     "text": [
      "(197,)\n"
     ]
    }
   ],
   "source": [
    "final_test_predictions_high_majority = []\n",
    "\n",
    "for i in range(test_preds1_high_majority.shape[0]):\n",
    "    sum_labels = np.sum([test_preds1_high_majority[i], test_preds2_high_majority[i], test_preds3_high_majority[i], test_preds4_high_majority[i]])\n",
    "    if sum_labels <= 2:\n",
    "        final_label = 0\n",
    "    else:\n",
    "        final_label = 1\n",
    "        \n",
    "    final_test_predictions_high_majority.append(final_label)\n",
    "    \n",
    "final_test_predictions_high_majority = np.array(final_test_predictions_high_majority)\n",
    "\n",
    "print(final_test_predictions_high_majority.shape)"
   ]
  },
  {
   "cell_type": "code",
   "execution_count": 31,
   "id": "14bf58e9",
   "metadata": {},
   "outputs": [
    {
     "name": "stdout",
     "output_type": "stream",
     "text": [
      "              precision    recall  f1-score   support\n",
      "\n",
      "           0       0.96      0.95      0.95        99\n",
      "           1       0.95      0.96      0.95        98\n",
      "\n",
      "    accuracy                           0.95       197\n",
      "   macro avg       0.95      0.95      0.95       197\n",
      "weighted avg       0.95      0.95      0.95       197\n",
      "\n"
     ]
    }
   ],
   "source": [
    "print(classification_report(y_test_high_majority_single, final_test_predictions_high_majority))"
   ]
  },
  {
   "cell_type": "markdown",
   "id": "8490b52f",
   "metadata": {},
   "source": [
    "### Logistic Regression"
   ]
  },
  {
   "cell_type": "code",
   "execution_count": null,
   "id": "f73c4334",
   "metadata": {},
   "outputs": [
    {
     "name": "stdout",
     "output_type": "stream",
     "text": [
      "\u001b[1mSHOWING RESULTS FOR CLASSIFIER: LOGISTIC REGRESSION\u001b[0m\n",
      "\n"
     ]
    }
   ],
   "source": [
    "start1 = time.time() ### this cell takes too long to run because the concatenated images have a lot of features, so train takes too long\n",
    "\n",
    "names = 'LOGISTIC REGRESSION'\n",
    "\n",
    "classifiers = LogisticRegression(random_state=42, max_iter=1000, solver = 'liblinear')\n",
    "\n",
    "start = time.time()\n",
    "print(f'\\033[1mSHOWING RESULTS FOR CLASSIFIER: LOGISTIC REGRESSION\\033[0m\\n')\n",
    "clf1_high_majority =  LogisticRegression(random_state=42, max_iter=1000, solver = 'liblinear')\n",
    "clf2_high_majority =  LogisticRegression(random_state=42, max_iter=1000, solver = 'liblinear')\n",
    "clf3_high_majority =  LogisticRegression(random_state=42, max_iter=1000, solver = 'liblinear')\n",
    "clf4_high_majority =  LogisticRegression(random_state=42, max_iter=1000, solver = 'liblinear')\n",
    "\n",
    "clf1_high_majority.fit(X1_train_high_majority, y1_train_high_majority)\n",
    "clf2_high_majority.fit(X2_train_high_majority, y2_train_high_majority)\n",
    "clf3_high_majority.fit(X3_train_high_majority, y3_train_high_majority)\n",
    "clf4_high_majority.fit(X4_train_high_majority, y4_train_high_majority)\n",
    "\n",
    "preds1_high_majority = clf1_high_majority.predict(X1_val_high_majority)\n",
    "preds2_high_majority = clf2_high_majority.predict(X2_val_high_majority)\n",
    "preds3_high_majority = clf3_high_majority.predict(X3_val_high_majority)\n",
    "preds4_high_majority = clf4_high_majority.predict(X4_val_high_majority)\n",
    "\n",
    "print(classification_report(y1_val_high_majority,preds1_high_majority))\n",
    "print('-'*100)\n",
    "print(classification_report(y2_val_high_majority,preds2_high_majority))\n",
    "print('-'*100)\n",
    "print(classification_report(y3_val_high_majority,preds3_high_majority))\n",
    "print('-'*100)\n",
    "print(classification_report(y4_val_high_majority,preds4_high_majority))\n",
    "print('-'*100)\n",
    "\n",
    "        \n",
    "        \n",
    "        \n",
    "        \n",
    "end = time.time()\n",
    "print(f\"\\nThe time to run classifier was: {end-start} seconds\\n\")\n",
    "print('-'*100)\n",
    "        \n",
    "\n",
    "\n",
    "end1 = time.time()        \n",
    "\n",
    "print(f\"\\n\\nThe time to run all classifiers was: {end1-start1} seconds or {(end1-start1)//60} minutes \")\n"
   ]
  },
  {
   "cell_type": "code",
   "execution_count": null,
   "id": "f715d2a4",
   "metadata": {},
   "outputs": [],
   "source": [
    "test_preds1_high_majority = clf1_high_majority.predict(X1_test_high_majority)\n",
    "test_preds2_high_majority = clf2_high_majority.predict(X2_test_high_majority)\n",
    "test_preds3_high_majority = clf3_high_majority.predict(X3_test_high_majority)\n",
    "test_preds4_high_majority = clf4_high_majority.predict(X4_test_high_majority)"
   ]
  },
  {
   "cell_type": "code",
   "execution_count": null,
   "id": "d594c856",
   "metadata": {},
   "outputs": [],
   "source": [
    "final_test_predictions_high_majority = []\n",
    "\n",
    "for i in range(test_preds1_high_majority.shape[0]):\n",
    "    sum_labels = np.sum([test_preds1_high_majority[i], test_preds2_high_majority[i], test_preds3_high_majority[i], test_preds4_high_majority[i]])\n",
    "    if sum_labels <= 2:\n",
    "        final_label = 0\n",
    "    else:\n",
    "        final_label = 1\n",
    "        \n",
    "    final_test_predictions_high_majority.append(final_label)\n",
    "    \n",
    "final_test_predictions_high_majority = np.array(final_test_predictions_high_majority)\n",
    "\n",
    "print(final_test_predictions_high_majority.shape)"
   ]
  },
  {
   "cell_type": "code",
   "execution_count": null,
   "id": "1e7eb2dc",
   "metadata": {},
   "outputs": [],
   "source": [
    "print(classification_report(y_test_high_majority_single, final_test_predictions_high_majority))"
   ]
  },
  {
   "cell_type": "markdown",
   "id": "08c5b71e",
   "metadata": {},
   "source": [
    "### Decision Trees"
   ]
  },
  {
   "cell_type": "code",
   "execution_count": null,
   "id": "00ad6c55",
   "metadata": {},
   "outputs": [],
   "source": [
    "start1 = time.time() ### Tis cell takes too long to run because the concatenated images have a lot of features\n",
    "\n",
    "names = 'Decision Trees'\n",
    "\n",
    "classifiers = DecisionTreeClassifier(criterion='entropy', random_state=42)\n",
    "\n",
    "start = time.time()\n",
    "print(f'\\033[1mSHOWING RESULTS FOR CLASSIFIER: DECISION TREES\\033[0m\\n')\n",
    "clf1_high_majority = DecisionTreeClassifier(criterion='entropy', random_state=42)\n",
    "clf2_high_majority = DecisionTreeClassifier(criterion='entropy', random_state=42)\n",
    "clf3_high_majority = DecisionTreeClassifier(criterion='entropy', random_state=42)\n",
    "clf4_high_majority = DecisionTreeClassifier(criterion='entropy', random_state=42)\n",
    "\n",
    "clf1_high_majority.fit(X1_train_high_majority, y1_train_high_majority)\n",
    "clf2_high_majority.fit(X2_train_high_majority, y2_train_high_majority)\n",
    "clf3_high_majority.fit(X3_train_high_majority, y3_train_high_majority)\n",
    "clf4_high_majority.fit(X4_train_high_majority, y4_train_high_majority)\n",
    "\n",
    "preds1_high_majority = clf1_high_majority.predict(X1_val_high_majority)\n",
    "preds2_high_majority = clf2_high_majority.predict(X2_val_high_majority)\n",
    "preds3_high_majority = clf3_high_majority.predict(X3_val_high_majority)\n",
    "preds4_high_majority = clf4_high_majority.predict(X4_val_high_majority)\n",
    "\n",
    "print(classification_report(y1_val_high_majority,preds1_high_majority))\n",
    "print('-'*100)\n",
    "print(classification_report(y2_val_high_majority,preds2_high_majority))\n",
    "print('-'*100)\n",
    "print(classification_report(y3_val_high_majority,preds3_high_majority))\n",
    "print('-'*100)\n",
    "print(classification_report(y4_val_high_majority,preds4_high_majority))\n",
    "print('-'*100)\n",
    "\n",
    "        \n",
    "        \n",
    "        \n",
    "        \n",
    "end = time.time()\n",
    "print(f\"\\nThe time to run classifier was: {end-start} seconds\\n\")\n",
    "print('-'*100)\n",
    "        \n",
    "\n",
    "\n",
    "end1 = time.time()        \n",
    "\n",
    "print(f\"\\n\\nThe time to run all classifiers was: {end1-start1} seconds or {(end1-start1)//60} minutes \")\n"
   ]
  },
  {
   "cell_type": "code",
   "execution_count": null,
   "id": "9f07fd5a",
   "metadata": {},
   "outputs": [],
   "source": [
    "test_preds1_high_majority = clf1_high_majority.predict(X1_test_high_majority)\n",
    "test_preds2_high_majority = clf2_high_majority.predict(X2_test_high_majority)\n",
    "test_preds3_high_majority = clf3_high_majority.predict(X3_test_high_majority)\n",
    "test_preds4_high_majority = clf4_high_majority.predict(X4_test_high_majority)"
   ]
  },
  {
   "cell_type": "code",
   "execution_count": null,
   "id": "f8ad744f",
   "metadata": {},
   "outputs": [],
   "source": [
    "final_test_predictions_high_majority = []\n",
    "\n",
    "for i in range(test_preds1_high_majority.shape[0]):\n",
    "    sum_labels = np.sum([test_preds1_high_majority[i], test_preds2_high_majority[i], test_preds3_high_majority[i], test_preds4_high_majority[i]])\n",
    "    if sum_labels <= 2:\n",
    "        final_label = 0\n",
    "    else:\n",
    "        final_label = 1\n",
    "        \n",
    "    final_test_predictions_high_majority.append(final_label)\n",
    "    \n",
    "final_test_predictions_high_majority = np.array(final_test_predictions_high_majority)\n",
    "\n",
    "print(final_test_predictions_high_majority.shape)"
   ]
  },
  {
   "cell_type": "code",
   "execution_count": null,
   "id": "ff67db32",
   "metadata": {},
   "outputs": [],
   "source": [
    "print(classification_report(y_test_high_majority_single, final_test_predictions_high_majority))"
   ]
  },
  {
   "cell_type": "code",
   "execution_count": null,
   "id": "4a17071f",
   "metadata": {},
   "outputs": [],
   "source": []
  },
  {
   "cell_type": "markdown",
   "id": "42262ab0",
   "metadata": {},
   "source": [
    "## 1 Majority Expert, using KernelPCA for features instead of raw images\n",
    "## Again, each Expert has their own model, which is trained on the respective Expert labels, and validated on the validation set. Then, the final test prediction is done via majority voting"
   ]
  },
  {
   "cell_type": "markdown",
   "id": "e89ae83c",
   "metadata": {},
   "source": [
    "### loading the kpca features"
   ]
  },
  {
   "cell_type": "code",
   "execution_count": 35,
   "id": "aec80914",
   "metadata": {},
   "outputs": [
    {
     "name": "stdout",
     "output_type": "stream",
     "text": [
      "(994, 100)\n"
     ]
    }
   ],
   "source": [
    "all_features_kpca = np.load('all_features_kpca.npy')\n",
    "\n",
    "print(all_features_kpca.shape)"
   ]
  },
  {
   "cell_type": "markdown",
   "id": "721ec2bc",
   "metadata": {},
   "source": [
    "Because the 2 classes are imbalanced, oversampling will be performed. Imbalanced learn random oversampler needs the target values to be in a (n,1) vector, so in order to not lose the original indexing of the variables, the y values are horizontally stacked to the X variables, and will afterwards be splitted again"
   ]
  },
  {
   "cell_type": "code",
   "execution_count": 36,
   "id": "af09dcf7",
   "metadata": {},
   "outputs": [
    {
     "name": "stdout",
     "output_type": "stream",
     "text": [
      "(994, 104)\n"
     ]
    }
   ],
   "source": [
    "inter_features_mid_kpca = np.hstack((all_features_kpca, inter_y1, inter_y2, inter_y3, inter_y4))\n",
    "\n",
    "print(inter_features_mid_kpca.shape)"
   ]
  },
  {
   "cell_type": "markdown",
   "id": "22e5d5f8",
   "metadata": {},
   "source": [
    "(994, 104)\n"
   ]
  },
  {
   "cell_type": "markdown",
   "id": "111c219f",
   "metadata": {},
   "source": [
    "we need to run the cells in the beginning to load df_copy again if we restarted kernel"
   ]
  },
  {
   "cell_type": "code",
   "execution_count": 37,
   "id": "1be35dd6",
   "metadata": {},
   "outputs": [
    {
     "data": {
      "text/plain": [
       "(994, 1)"
      ]
     },
     "execution_count": 37,
     "metadata": {},
     "output_type": "execute_result"
    }
   ],
   "source": [
    "\n",
    "#df_copy.loc[df_copy['average_expert']<3, 'average_expert'] = 1 \n",
    "#df_copy.loc[df_copy['average_expert']>=3, 'average_expert'] = 0\n",
    "\n",
    "inter_y_average_mid = df_copy['average_expert'].to_numpy().reshape(-1,1)\n",
    "inter_y_average_mid.shape"
   ]
  },
  {
   "cell_type": "code",
   "execution_count": 38,
   "id": "a66de38e",
   "metadata": {},
   "outputs": [
    {
     "name": "stdout",
     "output_type": "stream",
     "text": [
      "(1486, 104)\n",
      "(1486,)\n"
     ]
    }
   ],
   "source": [
    "ros = RandomOverSampler(random_state=42)\n",
    "\n",
    "X_res_mid_majority_kpca, y_res_mid_majority = ros.fit_resample(inter_features_mid_kpca, inter_y_average_mid)\n",
    "\n",
    "print(X_res_mid_majority_kpca.shape)\n",
    "print(y_res_mid_majority.shape)"
   ]
  },
  {
   "cell_type": "markdown",
   "id": "5b949f6e",
   "metadata": {},
   "source": [
    "(1486, 104)\n",
    "\n",
    "(1486,)\n"
   ]
  },
  {
   "cell_type": "code",
   "execution_count": 39,
   "id": "50184eb4",
   "metadata": {},
   "outputs": [
    {
     "name": "stdout",
     "output_type": "stream",
     "text": [
      "(1486, 100)\n",
      "(1486, 4)\n"
     ]
    }
   ],
   "source": [
    "X_res_mid_majority_kpca_inter = X_res_mid_majority_kpca[:, 0:X_res_mid_majority_kpca.shape[1] - 4]\n",
    "y_res_mid_majority_kpca = X_res_mid_majority_kpca[:, X_res_mid_majority_kpca.shape[1]-4:X_res_mid_majority_kpca.shape[1]]\n",
    "\n",
    "X_res_mid_majority_kpca = X_res_mid_majority_kpca_inter\n",
    "print(X_res_mid_majority_kpca.shape)\n",
    "print(y_res_mid_majority_kpca.shape)"
   ]
  },
  {
   "cell_type": "code",
   "execution_count": 40,
   "id": "89457e50",
   "metadata": {},
   "outputs": [],
   "source": [
    "X_train_mid_majority_kpca, X_rem_mid_majority_kpca, y_train_mid_majority_kpca, y_rem_mid_majority_kpca = train_test_split(X_res_mid_majority_kpca, \n",
    "                                                                                                            y_res_mid_majority_kpca, \n",
    "                                                                                                test_size=0.33, \n",
    "                                                                                                random_state=42)\n"
   ]
  },
  {
   "cell_type": "code",
   "execution_count": 41,
   "id": "3f4501e3",
   "metadata": {},
   "outputs": [],
   "source": [
    "X_val_mid_majority_kpca, X_test_mid_majority_kpca, y_val_mid_majority_kpca, y_test_mid_majority_kpca = train_test_split(X_rem_mid_majority_kpca, \n",
    "                                                                                                        y_rem_mid_majority_kpca, \n",
    "                                                                                                test_size=0.40,                       \n",
    "                                                                                                random_state=42)\n"
   ]
  },
  {
   "cell_type": "code",
   "execution_count": 42,
   "id": "8f306b21",
   "metadata": {},
   "outputs": [
    {
     "name": "stdout",
     "output_type": "stream",
     "text": [
      "(1486, 100)\n",
      "(1486, 4)\n",
      "\n",
      "(995, 100)\n",
      "(995, 4)\n",
      "\n",
      "(294, 100)\n",
      "(294, 4)\n",
      "\n",
      "(197, 100)\n",
      "(197, 4)\n",
      "\n"
     ]
    }
   ],
   "source": [
    "print(X_res_mid_majority_kpca.shape)\n",
    "print(y_res_mid_majority_kpca.shape)\n",
    "print('')\n",
    "print(X_train_mid_majority_kpca.shape)\n",
    "print(y_train_mid_majority_kpca.shape)\n",
    "print('')\n",
    "print(X_val_mid_majority_kpca.shape)\n",
    "print(y_val_mid_majority_kpca.shape)\n",
    "print('')\n",
    "print(X_test_mid_majority_kpca.shape)\n",
    "print(y_test_mid_majority_kpca.shape)\n",
    "print('')\n",
    "\n"
   ]
  },
  {
   "cell_type": "code",
   "execution_count": 43,
   "id": "2d55be43",
   "metadata": {},
   "outputs": [],
   "source": [
    "# Train\n",
    "X1_train_mid_majority_kpca = X_train_mid_majority_kpca\n",
    "X2_train_mid_majority_kpca = X_train_mid_majority_kpca\n",
    "X3_train_mid_majority_kpca = X_train_mid_majority_kpca\n",
    "X4_train_mid_majority_kpca = X_train_mid_majority_kpca\n",
    "\n",
    "y1_train_mid_majority_kpca = y_train_mid_majority_kpca[:,0]\n",
    "y2_train_mid_majority_kpca = y_train_mid_majority_kpca[:,1]\n",
    "y3_train_mid_majority_kpca = y_train_mid_majority_kpca[:,2]\n",
    "y4_train_mid_majority_kpca = y_train_mid_majority_kpca[:,3]\n",
    "\n",
    "# Validation\n",
    "X1_val_mid_majority_kpca = X_val_mid_majority_kpca\n",
    "X2_val_mid_majority_kpca = X_val_mid_majority_kpca\n",
    "X3_val_mid_majority_kpca = X_val_mid_majority_kpca\n",
    "X4_val_mid_majority_kpca = X_val_mid_majority_kpca\n",
    "\n",
    "y1_val_mid_majority_kpca = y_val_mid_majority_kpca[:,0]\n",
    "y2_val_mid_majority_kpca = y_val_mid_majority_kpca[:,1]\n",
    "y3_val_mid_majority_kpca = y_val_mid_majority_kpca[:,2]\n",
    "y4_val_mid_majority_kpca = y_val_mid_majority_kpca[:,3]\n",
    "\n",
    "# Test\n",
    "X1_test_mid_majority_kpca = X_test_mid_majority_kpca \n",
    "X2_test_mid_majority_kpca = X_test_mid_majority_kpca \n",
    "X3_test_mid_majority_kpca = X_test_mid_majority_kpca \n",
    "X4_test_mid_majority_kpca = X_test_mid_majority_kpca \n",
    "\n",
    "\n"
   ]
  },
  {
   "cell_type": "code",
   "execution_count": 44,
   "id": "bd07365c",
   "metadata": {},
   "outputs": [
    {
     "name": "stdout",
     "output_type": "stream",
     "text": [
      "(197, 4)\n",
      "(197,)\n"
     ]
    }
   ],
   "source": [
    "print(y_test_mid_majority_kpca.shape)\n",
    "\n",
    "y_test_mid_majority_kpca_single = []\n",
    "\n",
    "for i in range(y_test_mid_majority_kpca.shape[0]):\n",
    "    final_label1_mid_kpca = y_test_mid_majority_kpca[i,0]\n",
    "    final_label2_mid_kpca = y_test_mid_majority_kpca[i,1]\n",
    "    final_label3_mid_kpca = y_test_mid_majority_kpca[i,2]\n",
    "    final_label4_mid_kpca = y_test_mid_majority_kpca[i,3]\n",
    "    if np.sum([final_label1_mid_kpca, final_label2_mid_kpca, final_label3_mid_kpca, final_label4_mid_kpca]) <= 2:\n",
    "        majority_label_mid_kpca = 0\n",
    "    else:\n",
    "        majority_label_mid_kpca = 1\n",
    "    y_test_mid_majority_kpca_single.append(majority_label_mid_kpca)   \n",
    "\n",
    "\n",
    "y_test_mid_majority_kpca_single = np.array(y_test_mid_majority_kpca_single)\n",
    "\n",
    "print(y_test_mid_majority_kpca_single.shape)"
   ]
  },
  {
   "cell_type": "code",
   "execution_count": 45,
   "id": "1876bd65",
   "metadata": {},
   "outputs": [
    {
     "name": "stdout",
     "output_type": "stream",
     "text": [
      "\u001b[1mSHOWING RESULTS FOR CLASSIFIER: RANDOM FOREST\u001b[0m\n",
      "\n",
      "              precision    recall  f1-score   support\n",
      "\n",
      "         0.0       0.97      0.94      0.95       167\n",
      "         1.0       0.92      0.96      0.94       127\n",
      "\n",
      "    accuracy                           0.95       294\n",
      "   macro avg       0.95      0.95      0.95       294\n",
      "weighted avg       0.95      0.95      0.95       294\n",
      "\n",
      "----------------------------------------------------------------------------------------------------\n",
      "              precision    recall  f1-score   support\n",
      "\n",
      "         0.0       0.99      0.94      0.96       172\n",
      "         1.0       0.92      0.98      0.95       122\n",
      "\n",
      "    accuracy                           0.96       294\n",
      "   macro avg       0.95      0.96      0.95       294\n",
      "weighted avg       0.96      0.96      0.96       294\n",
      "\n",
      "----------------------------------------------------------------------------------------------------\n",
      "              precision    recall  f1-score   support\n",
      "\n",
      "         0.0       0.99      0.97      0.98       169\n",
      "         1.0       0.96      0.99      0.98       125\n",
      "\n",
      "    accuracy                           0.98       294\n",
      "   macro avg       0.98      0.98      0.98       294\n",
      "weighted avg       0.98      0.98      0.98       294\n",
      "\n",
      "----------------------------------------------------------------------------------------------------\n",
      "              precision    recall  f1-score   support\n",
      "\n",
      "         0.0       0.98      0.94      0.96       174\n",
      "         1.0       0.91      0.97      0.94       120\n",
      "\n",
      "    accuracy                           0.95       294\n",
      "   macro avg       0.95      0.96      0.95       294\n",
      "weighted avg       0.95      0.95      0.95       294\n",
      "\n",
      "----------------------------------------------------------------------------------------------------\n",
      "\n",
      "The time to run classifier was: 3.5186948776245117 seconds\n",
      "\n",
      "----------------------------------------------------------------------------------------------------\n",
      "\n",
      "\n",
      "The time to run all classifiers was: 3.530679225921631 seconds or 0.0 minutes \n"
     ]
    }
   ],
   "source": [
    "start1 = time.time()\n",
    "\n",
    "names = 'Random Forest'\n",
    "\n",
    "classifiers = RandomForestClassifier()\n",
    "\n",
    "start = time.time()\n",
    "print(f'\\033[1mSHOWING RESULTS FOR CLASSIFIER: RANDOM FOREST\\033[0m\\n')\n",
    "clf1_mid_majority_kpca = RandomForestClassifier()\n",
    "clf2_mid_majority_kpca = RandomForestClassifier()\n",
    "clf3_mid_majority_kpca = RandomForestClassifier()\n",
    "clf4_mid_majority_kpca = RandomForestClassifier()\n",
    "\n",
    "clf1_mid_majority_kpca.fit(X1_train_mid_majority_kpca, y1_train_mid_majority_kpca)\n",
    "clf2_mid_majority_kpca.fit(X2_train_mid_majority_kpca, y2_train_mid_majority_kpca)\n",
    "clf3_mid_majority_kpca.fit(X3_train_mid_majority_kpca, y3_train_mid_majority_kpca)\n",
    "clf4_mid_majority_kpca.fit(X4_train_mid_majority_kpca, y4_train_mid_majority_kpca)\n",
    "\n",
    "preds1_mid_majority_kpca = clf1_mid_majority_kpca.predict(X1_val_mid_majority_kpca)\n",
    "preds2_mid_majority_kpca = clf2_mid_majority_kpca.predict(X2_val_mid_majority_kpca)\n",
    "preds3_mid_majority_kpca = clf3_mid_majority_kpca.predict(X3_val_mid_majority_kpca)\n",
    "preds4_mid_majority_kpca = clf4_mid_majority_kpca.predict(X4_val_mid_majority_kpca)\n",
    "\n",
    "print(classification_report(y1_val_mid_majority_kpca,preds1_mid_majority_kpca))\n",
    "print('-'*100)\n",
    "print(classification_report(y2_val_mid_majority_kpca,preds2_mid_majority_kpca))\n",
    "print('-'*100)\n",
    "print(classification_report(y3_val_mid_majority_kpca,preds3_mid_majority_kpca))\n",
    "print('-'*100)\n",
    "print(classification_report(y4_val_mid_majority_kpca,preds4_mid_majority_kpca))\n",
    "print('-'*100)\n",
    "\n",
    "        \n",
    "        \n",
    "        \n",
    "        \n",
    "end = time.time()\n",
    "print(f\"\\nThe time to run classifier was: {end-start} seconds\\n\")\n",
    "print('-'*100)\n",
    "        \n",
    "\n",
    "\n",
    "end1 = time.time()        \n",
    "\n",
    "print(f\"\\n\\nThe time to run all classifiers was: {end1-start1} seconds or {(end1-start1)//60} minutes \")\n"
   ]
  },
  {
   "cell_type": "code",
   "execution_count": 46,
   "id": "cba1a656",
   "metadata": {},
   "outputs": [],
   "source": [
    "test_preds1_mid_majority_kpca = clf1_mid_majority_kpca.predict(X1_test_mid_majority_kpca)\n",
    "test_preds2_mid_majority_kpca = clf2_mid_majority_kpca.predict(X2_test_mid_majority_kpca)\n",
    "test_preds3_mid_majority_kpca = clf3_mid_majority_kpca.predict(X3_test_mid_majority_kpca)\n",
    "test_preds4_mid_majority_kpca = clf4_mid_majority_kpca.predict(X4_test_mid_majority_kpca)"
   ]
  },
  {
   "cell_type": "code",
   "execution_count": 47,
   "id": "28b2b9c7",
   "metadata": {},
   "outputs": [
    {
     "name": "stdout",
     "output_type": "stream",
     "text": [
      "(197,)\n"
     ]
    }
   ],
   "source": [
    "final_test_predictions_mid_majority_kpca = []\n",
    "\n",
    "for i in range(test_preds1_mid_majority_kpca.shape[0]):\n",
    "    sum_labels_mid_kpca = np.sum([test_preds1_mid_majority_kpca[i], test_preds2_mid_majority_kpca[i], test_preds3_mid_majority_kpca[i], test_preds4_mid_majority_kpca[i]])\n",
    "    if sum_labels_mid_kpca <= 2:\n",
    "        final_label_mid_kpca = 0\n",
    "    else:\n",
    "        final_label_mid_kpca = 1\n",
    "        \n",
    "    final_test_predictions_mid_majority_kpca.append(final_label_mid_kpca)\n",
    "    \n",
    "final_test_predictions_mid_majority_kpca = np.array(final_test_predictions_mid_majority_kpca)\n",
    "\n",
    "print(final_test_predictions_mid_majority_kpca.shape)"
   ]
  },
  {
   "cell_type": "code",
   "execution_count": 48,
   "id": "69940a53",
   "metadata": {},
   "outputs": [
    {
     "name": "stdout",
     "output_type": "stream",
     "text": [
      "              precision    recall  f1-score   support\n",
      "\n",
      "           0       0.98      0.97      0.97        99\n",
      "           1       0.97      0.98      0.97        98\n",
      "\n",
      "    accuracy                           0.97       197\n",
      "   macro avg       0.97      0.97      0.97       197\n",
      "weighted avg       0.97      0.97      0.97       197\n",
      "\n"
     ]
    }
   ],
   "source": [
    "print(classification_report(y_test_mid_majority_kpca_single, final_test_predictions_mid_majority_kpca))"
   ]
  },
  {
   "cell_type": "markdown",
   "id": "2a2904a2",
   "metadata": {},
   "source": [
    "### Logistic Regression"
   ]
  },
  {
   "cell_type": "code",
   "execution_count": 47,
   "id": "93611e91",
   "metadata": {},
   "outputs": [
    {
     "name": "stdout",
     "output_type": "stream",
     "text": [
      "\u001b[1mSHOWING RESULTS FOR CLASSIFIER: LOGISTIC REGRESSION\u001b[0m\n",
      "\n",
      "              precision    recall  f1-score   support\n",
      "\n",
      "         0.0       0.84      0.98      0.90       167\n",
      "         1.0       0.96      0.76      0.85       127\n",
      "\n",
      "    accuracy                           0.88       294\n",
      "   macro avg       0.90      0.87      0.87       294\n",
      "weighted avg       0.89      0.88      0.88       294\n",
      "\n",
      "----------------------------------------------------------------------------------------------------\n",
      "              precision    recall  f1-score   support\n",
      "\n",
      "         0.0       0.87      0.97      0.92       172\n",
      "         1.0       0.95      0.79      0.86       122\n",
      "\n",
      "    accuracy                           0.89       294\n",
      "   macro avg       0.91      0.88      0.89       294\n",
      "weighted avg       0.90      0.89      0.89       294\n",
      "\n",
      "----------------------------------------------------------------------------------------------------\n",
      "              precision    recall  f1-score   support\n",
      "\n",
      "         0.0       0.86      0.99      0.92       169\n",
      "         1.0       0.98      0.78      0.87       125\n",
      "\n",
      "    accuracy                           0.90       294\n",
      "   macro avg       0.92      0.89      0.90       294\n",
      "weighted avg       0.91      0.90      0.90       294\n",
      "\n",
      "----------------------------------------------------------------------------------------------------\n",
      "              precision    recall  f1-score   support\n",
      "\n",
      "         0.0       0.88      0.99      0.93       174\n",
      "         1.0       0.98      0.81      0.89       120\n",
      "\n",
      "    accuracy                           0.91       294\n",
      "   macro avg       0.93      0.90      0.91       294\n",
      "weighted avg       0.92      0.91      0.91       294\n",
      "\n",
      "----------------------------------------------------------------------------------------------------\n",
      "\n",
      "The time to run classifier was: 0.10539078712463379 seconds\n",
      "\n",
      "----------------------------------------------------------------------------------------------------\n",
      "\n",
      "\n",
      "The time to run all classifiers was: 0.10539078712463379 seconds or 0.0 minutes \n"
     ]
    }
   ],
   "source": [
    "start1 = time.time()\n",
    "\n",
    "names = 'Logistic Regression'\n",
    "\n",
    "classifiers = LogisticRegression(random_state=42, max_iter=1000, solver = 'liblinear')\n",
    "\n",
    "start = time.time()\n",
    "print(f'\\033[1mSHOWING RESULTS FOR CLASSIFIER: LOGISTIC REGRESSION\\033[0m\\n')\n",
    "clf1_mid_majority_kpca = LogisticRegression(random_state=42, max_iter=1000, solver = 'liblinear')\n",
    "clf2_mid_majority_kpca = LogisticRegression(random_state=42, max_iter=1000, solver = 'liblinear')\n",
    "clf3_mid_majority_kpca = LogisticRegression(random_state=42, max_iter=1000, solver = 'liblinear')\n",
    "clf4_mid_majority_kpca = LogisticRegression(random_state=42, max_iter=1000, solver = 'liblinear')\n",
    "\n",
    "clf1_mid_majority_kpca.fit(X1_train_mid_majority_kpca, y1_train_mid_majority_kpca)\n",
    "clf2_mid_majority_kpca.fit(X2_train_mid_majority_kpca, y2_train_mid_majority_kpca)\n",
    "clf3_mid_majority_kpca.fit(X3_train_mid_majority_kpca, y3_train_mid_majority_kpca)\n",
    "clf4_mid_majority_kpca.fit(X4_train_mid_majority_kpca, y4_train_mid_majority_kpca)\n",
    "\n",
    "preds1_mid_majority_kpca = clf1_mid_majority_kpca.predict(X1_val_mid_majority_kpca)\n",
    "preds2_mid_majority_kpca = clf2_mid_majority_kpca.predict(X2_val_mid_majority_kpca)\n",
    "preds3_mid_majority_kpca = clf3_mid_majority_kpca.predict(X3_val_mid_majority_kpca)\n",
    "preds4_mid_majority_kpca = clf4_mid_majority_kpca.predict(X4_val_mid_majority_kpca)\n",
    "\n",
    "print(classification_report(y1_val_mid_majority_kpca,preds1_mid_majority_kpca))\n",
    "print('-'*100)\n",
    "print(classification_report(y2_val_mid_majority_kpca,preds2_mid_majority_kpca))\n",
    "print('-'*100)\n",
    "print(classification_report(y3_val_mid_majority_kpca,preds3_mid_majority_kpca))\n",
    "print('-'*100)\n",
    "print(classification_report(y4_val_mid_majority_kpca,preds4_mid_majority_kpca))\n",
    "print('-'*100)\n",
    "\n",
    "        \n",
    "        \n",
    "        \n",
    "        \n",
    "end = time.time()\n",
    "print(f\"\\nThe time to run classifier was: {end-start} seconds\\n\")\n",
    "print('-'*100)\n",
    "        \n",
    "\n",
    "\n",
    "end1 = time.time()        \n",
    "\n",
    "print(f\"\\n\\nThe time to run all classifiers was: {end1-start1} seconds or {(end1-start1)//60} minutes \")\n"
   ]
  },
  {
   "cell_type": "code",
   "execution_count": 48,
   "id": "a3b237cd",
   "metadata": {},
   "outputs": [],
   "source": [
    "test_preds1_mid_majority_kpca = clf1_mid_majority_kpca.predict(X1_test_mid_majority_kpca)\n",
    "test_preds2_mid_majority_kpca = clf2_mid_majority_kpca.predict(X2_test_mid_majority_kpca)\n",
    "test_preds3_mid_majority_kpca = clf3_mid_majority_kpca.predict(X3_test_mid_majority_kpca)\n",
    "test_preds4_mid_majority_kpca = clf4_mid_majority_kpca.predict(X4_test_mid_majority_kpca)"
   ]
  },
  {
   "cell_type": "code",
   "execution_count": 49,
   "id": "a5ec264b",
   "metadata": {},
   "outputs": [
    {
     "name": "stdout",
     "output_type": "stream",
     "text": [
      "(197,)\n"
     ]
    }
   ],
   "source": [
    "final_test_predictions_mid_majority_kpca = []\n",
    "\n",
    "for i in range(test_preds1_mid_majority_kpca.shape[0]):\n",
    "    sum_labels_mid_kpca = np.sum([test_preds1_mid_majority_kpca[i], test_preds2_mid_majority_kpca[i], test_preds3_mid_majority_kpca[i], test_preds4_mid_majority_kpca[i]])\n",
    "    if sum_labels_mid_kpca <= 2:\n",
    "        final_label_mid_kpca = 0\n",
    "    else:\n",
    "        final_label_mid_kpca = 1\n",
    "        \n",
    "    final_test_predictions_mid_majority_kpca.append(final_label_mid_kpca)\n",
    "    \n",
    "final_test_predictions_mid_majority_kpca = np.array(final_test_predictions_mid_majority_kpca)\n",
    "\n",
    "print(final_test_predictions_mid_majority_kpca.shape)"
   ]
  },
  {
   "cell_type": "code",
   "execution_count": 50,
   "id": "c01eed4a",
   "metadata": {},
   "outputs": [
    {
     "name": "stdout",
     "output_type": "stream",
     "text": [
      "              precision    recall  f1-score   support\n",
      "\n",
      "           0       0.81      0.98      0.89        99\n",
      "           1       0.97      0.77      0.86        98\n",
      "\n",
      "    accuracy                           0.87       197\n",
      "   macro avg       0.89      0.87      0.87       197\n",
      "weighted avg       0.89      0.87      0.87       197\n",
      "\n"
     ]
    }
   ],
   "source": [
    "print(classification_report(y_test_mid_majority_kpca_single, final_test_predictions_mid_majority_kpca))"
   ]
  },
  {
   "cell_type": "markdown",
   "id": "031f5449",
   "metadata": {},
   "source": [
    "### Decision Trees\n"
   ]
  },
  {
   "cell_type": "code",
   "execution_count": 41,
   "id": "594e82b5",
   "metadata": {},
   "outputs": [
    {
     "name": "stdout",
     "output_type": "stream",
     "text": [
      "\u001b[1mSHOWING RESULTS FOR CLASSIFIER: DECISION TREES\u001b[0m\n",
      "\n",
      "              precision    recall  f1-score   support\n",
      "\n",
      "         0.0       0.88      0.94      0.91       167\n",
      "         1.0       0.91      0.83      0.87       127\n",
      "\n",
      "    accuracy                           0.89       294\n",
      "   macro avg       0.90      0.89      0.89       294\n",
      "weighted avg       0.90      0.89      0.89       294\n",
      "\n",
      "----------------------------------------------------------------------------------------------------\n",
      "              precision    recall  f1-score   support\n",
      "\n",
      "         0.0       0.94      0.96      0.95       172\n",
      "         1.0       0.94      0.91      0.93       122\n",
      "\n",
      "    accuracy                           0.94       294\n",
      "   macro avg       0.94      0.93      0.94       294\n",
      "weighted avg       0.94      0.94      0.94       294\n",
      "\n",
      "----------------------------------------------------------------------------------------------------\n",
      "              precision    recall  f1-score   support\n",
      "\n",
      "         0.0       0.93      0.97      0.95       169\n",
      "         1.0       0.96      0.90      0.93       125\n",
      "\n",
      "    accuracy                           0.94       294\n",
      "   macro avg       0.94      0.94      0.94       294\n",
      "weighted avg       0.94      0.94      0.94       294\n",
      "\n",
      "----------------------------------------------------------------------------------------------------\n",
      "              precision    recall  f1-score   support\n",
      "\n",
      "         0.0       0.93      0.94      0.93       174\n",
      "         1.0       0.91      0.89      0.90       120\n",
      "\n",
      "    accuracy                           0.92       294\n",
      "   macro avg       0.92      0.92      0.92       294\n",
      "weighted avg       0.92      0.92      0.92       294\n",
      "\n",
      "----------------------------------------------------------------------------------------------------\n",
      "\n",
      "The time to run classifier was: 0.39806532859802246 seconds\n",
      "\n",
      "----------------------------------------------------------------------------------------------------\n",
      "\n",
      "\n",
      "The time to run all classifiers was: 0.3990597724914551 seconds or 0.0 minutes \n"
     ]
    }
   ],
   "source": [
    "start1 = time.time()\n",
    "\n",
    "names = 'Decision Trees'\n",
    "\n",
    "classifiers = DecisionTreeClassifier(criterion='entropy', random_state=42)\n",
    "\n",
    "start = time.time()\n",
    "print(f'\\033[1mSHOWING RESULTS FOR CLASSIFIER: DECISION TREES\\033[0m\\n')\n",
    "clf1_mid_majority_kpca = DecisionTreeClassifier(criterion='entropy', random_state=42)\n",
    "clf2_mid_majority_kpca = DecisionTreeClassifier(criterion='entropy', random_state=42)\n",
    "clf3_mid_majority_kpca = DecisionTreeClassifier(criterion='entropy', random_state=42)\n",
    "clf4_mid_majority_kpca = DecisionTreeClassifier(criterion='entropy', random_state=42)\n",
    "\n",
    "clf1_mid_majority_kpca.fit(X1_train_mid_majority_kpca, y1_train_mid_majority_kpca)\n",
    "clf2_mid_majority_kpca.fit(X2_train_mid_majority_kpca, y2_train_mid_majority_kpca)\n",
    "clf3_mid_majority_kpca.fit(X3_train_mid_majority_kpca, y3_train_mid_majority_kpca)\n",
    "clf4_mid_majority_kpca.fit(X4_train_mid_majority_kpca, y4_train_mid_majority_kpca)\n",
    "\n",
    "preds1_mid_majority_kpca = clf1_mid_majority_kpca.predict(X1_val_mid_majority_kpca)\n",
    "preds2_mid_majority_kpca = clf2_mid_majority_kpca.predict(X2_val_mid_majority_kpca)\n",
    "preds3_mid_majority_kpca = clf3_mid_majority_kpca.predict(X3_val_mid_majority_kpca)\n",
    "preds4_mid_majority_kpca = clf4_mid_majority_kpca.predict(X4_val_mid_majority_kpca)\n",
    "\n",
    "print(classification_report(y1_val_mid_majority_kpca,preds1_mid_majority_kpca))\n",
    "print('-'*100)\n",
    "print(classification_report(y2_val_mid_majority_kpca,preds2_mid_majority_kpca))\n",
    "print('-'*100)\n",
    "print(classification_report(y3_val_mid_majority_kpca,preds3_mid_majority_kpca))\n",
    "print('-'*100)\n",
    "print(classification_report(y4_val_mid_majority_kpca,preds4_mid_majority_kpca))\n",
    "print('-'*100)\n",
    "\n",
    "        \n",
    "        \n",
    "        \n",
    "        \n",
    "end = time.time()\n",
    "print(f\"\\nThe time to run classifier was: {end-start} seconds\\n\")\n",
    "print('-'*100)\n",
    "        \n",
    "\n",
    "\n",
    "end1 = time.time()        \n",
    "\n",
    "print(f\"\\n\\nThe time to run all classifiers was: {end1-start1} seconds or {(end1-start1)//60} minutes \")\n"
   ]
  },
  {
   "cell_type": "code",
   "execution_count": 42,
   "id": "ffd983d7",
   "metadata": {},
   "outputs": [],
   "source": [
    "test_preds1_mid_majority_kpca = clf1_mid_majority_kpca.predict(X1_test_mid_majority_kpca)\n",
    "test_preds2_mid_majority_kpca = clf2_mid_majority_kpca.predict(X2_test_mid_majority_kpca)\n",
    "test_preds3_mid_majority_kpca = clf3_mid_majority_kpca.predict(X3_test_mid_majority_kpca)\n",
    "test_preds4_mid_majority_kpca = clf4_mid_majority_kpca.predict(X4_test_mid_majority_kpca)"
   ]
  },
  {
   "cell_type": "code",
   "execution_count": 43,
   "id": "a318926d",
   "metadata": {},
   "outputs": [
    {
     "name": "stdout",
     "output_type": "stream",
     "text": [
      "(197,)\n"
     ]
    }
   ],
   "source": [
    "final_test_predictions_mid_majority_kpca = []\n",
    "\n",
    "for i in range(test_preds1_mid_majority_kpca.shape[0]):\n",
    "    sum_labels_mid_kpca = np.sum([test_preds1_mid_majority_kpca[i], test_preds2_mid_majority_kpca[i], test_preds3_mid_majority_kpca[i], test_preds4_mid_majority_kpca[i]])\n",
    "    if sum_labels_mid_kpca <= 2:\n",
    "        final_label_mid_kpca = 0\n",
    "    else:\n",
    "        final_label_mid_kpca = 1\n",
    "        \n",
    "    final_test_predictions_mid_majority_kpca.append(final_label_mid_kpca)\n",
    "    \n",
    "final_test_predictions_mid_majority_kpca = np.array(final_test_predictions_mid_majority_kpca)\n",
    "\n",
    "print(final_test_predictions_mid_majority_kpca.shape)"
   ]
  },
  {
   "cell_type": "code",
   "execution_count": 44,
   "id": "e750223d",
   "metadata": {},
   "outputs": [
    {
     "name": "stdout",
     "output_type": "stream",
     "text": [
      "              precision    recall  f1-score   support\n",
      "\n",
      "           0       0.90      0.97      0.93        99\n",
      "           1       0.97      0.89      0.93        98\n",
      "\n",
      "    accuracy                           0.93       197\n",
      "   macro avg       0.93      0.93      0.93       197\n",
      "weighted avg       0.93      0.93      0.93       197\n",
      "\n"
     ]
    }
   ],
   "source": [
    "print(classification_report(y_test_mid_majority_kpca_single, final_test_predictions_mid_majority_kpca))"
   ]
  },
  {
   "cell_type": "code",
   "execution_count": null,
   "id": "9ae71bca",
   "metadata": {},
   "outputs": [],
   "source": []
  },
  {
   "cell_type": "markdown",
   "id": "9ad4e3ee",
   "metadata": {},
   "source": [
    "# End of High Level Expert Fusion\n"
   ]
  },
  {
   "cell_type": "code",
   "execution_count": null,
   "id": "5ce6ba8d",
   "metadata": {},
   "outputs": [],
   "source": []
  },
  {
   "cell_type": "markdown",
   "id": "08d4e766",
   "metadata": {},
   "source": [
    "# Low Level Expert Fusion"
   ]
  },
  {
   "cell_type": "markdown",
   "id": "5ad13df0",
   "metadata": {},
   "source": [
    "## Averaging the Experts in the beginning, and then training a single model with RGB Images as features"
   ]
  },
  {
   "cell_type": "code",
   "execution_count": 49,
   "id": "6bb5a58d",
   "metadata": {},
   "outputs": [
    {
     "data": {
      "text/plain": [
       "(994, 1)"
      ]
     },
     "execution_count": 49,
     "metadata": {},
     "output_type": "execute_result"
    }
   ],
   "source": [
    "inter_y_average_high.shape"
   ]
  },
  {
   "cell_type": "code",
   "execution_count": 50,
   "id": "7e08021e",
   "metadata": {},
   "outputs": [],
   "source": [
    "rgb_bw_concat = np.hstack((resize_img_array, resize_img_bw_array))"
   ]
  },
  {
   "cell_type": "code",
   "execution_count": 51,
   "id": "2d488cd1",
   "metadata": {},
   "outputs": [
    {
     "name": "stdout",
     "output_type": "stream",
     "text": [
      "(994, 545281)\n"
     ]
    }
   ],
   "source": [
    "inter_features_average = np.hstack((rgb_bw_concat, inter_y_average_high))\n",
    "\n",
    "print(inter_features_average.shape)"
   ]
  },
  {
   "cell_type": "markdown",
   "id": "c6c6741b",
   "metadata": {},
   "source": [
    "(994, 545281)\n"
   ]
  },
  {
   "cell_type": "markdown",
   "id": "7c603638",
   "metadata": {},
   "source": [
    "we need to run the cells in the beginning to load df_copy again if we restarted kernel"
   ]
  },
  {
   "cell_type": "code",
   "execution_count": 52,
   "id": "6276ab28",
   "metadata": {},
   "outputs": [
    {
     "name": "stdout",
     "output_type": "stream",
     "text": [
      "(1486, 545280)\n",
      "(1486,)\n"
     ]
    }
   ],
   "source": [
    "ros = RandomOverSampler(random_state=42)\n",
    "\n",
    "X_res_average, y_res_average = ros.fit_resample(rgb_bw_concat, inter_y_average_high)\n",
    "\n",
    "print(X_res_average.shape)\n",
    "print(y_res_average.shape)"
   ]
  },
  {
   "cell_type": "markdown",
   "id": "a48e5ee7",
   "metadata": {},
   "source": [
    "(1486, 545280)\n",
    "\n",
    "(1486,)\n"
   ]
  },
  {
   "cell_type": "code",
   "execution_count": 53,
   "id": "6e3c0caa",
   "metadata": {},
   "outputs": [],
   "source": [
    "X_train_average, X_test_average, y_train_average, y_test_average = train_test_split(X_res_average, \n",
    "                                                                                                            y_res_average, \n",
    "                                                                                    stratify = y_res_average,\n",
    "                                                                                                test_size=0.33, \n",
    "                                                                                                random_state=42)\n"
   ]
  },
  {
   "cell_type": "code",
   "execution_count": 54,
   "id": "49d8d547",
   "metadata": {},
   "outputs": [
    {
     "name": "stdout",
     "output_type": "stream",
     "text": [
      "(1486, 545280)\n",
      "(1486,)\n",
      "\n",
      "(995, 545280)\n",
      "(995,)\n",
      "\n",
      "(491, 545280)\n",
      "(491,)\n"
     ]
    }
   ],
   "source": [
    "print(X_res_average.shape)\n",
    "print(y_res_average.shape)\n",
    "print('')\n",
    "print(X_train_average.shape)\n",
    "print(y_train_average.shape)\n",
    "print('')\n",
    "print(X_test_average.shape)\n",
    "print(y_test_average.shape)\n"
   ]
  },
  {
   "cell_type": "code",
   "execution_count": 29,
   "id": "fb64e886",
   "metadata": {},
   "outputs": [
    {
     "name": "stdout",
     "output_type": "stream",
     "text": [
      "\u001b[1mSHOWING RESULTS FOR CLASSIFIER: RANDOM FOREST\u001b[0m\n",
      "\n",
      "              precision    recall  f1-score   support\n",
      "\n",
      "         0.0       0.98      0.98      0.98       246\n",
      "         1.0       0.98      0.98      0.98       245\n",
      "\n",
      "    accuracy                           0.98       491\n",
      "   macro avg       0.98      0.98      0.98       491\n",
      "weighted avg       0.98      0.98      0.98       491\n",
      "\n",
      "----------------------------------------------------------------------------------------------------\n",
      "\n",
      "The time to run classifier was: 40.192585468292236 seconds\n",
      "\n",
      "----------------------------------------------------------------------------------------------------\n",
      "\n",
      "\n",
      "The time to run all classifiers was: 40.19369077682495 seconds or 0.0 minutes \n"
     ]
    }
   ],
   "source": [
    "start1 = time.time()\n",
    "\n",
    "names = 'Random Forest'\n",
    "\n",
    "classifiers = RandomForestClassifier()\n",
    "\n",
    "start = time.time()\n",
    "print(f'\\033[1mSHOWING RESULTS FOR CLASSIFIER: RANDOM FOREST\\033[0m\\n')\n",
    "clf_average = RandomForestClassifier()\n",
    "\n",
    "\n",
    "clf_average.fit(X_train_average, y_train_average)\n",
    "\n",
    "preds_average = clf_average.predict(X_test_average)\n",
    "\n",
    "print(classification_report(y_test_average, preds_average))\n",
    "print('-'*100)\n",
    "\n",
    "        \n",
    "        \n",
    "        \n",
    "        \n",
    "end = time.time()\n",
    "print(f\"\\nThe time to run classifier was: {end-start} seconds\\n\")\n",
    "print('-'*100)\n",
    "        \n",
    "\n",
    "\n",
    "end1 = time.time()        \n",
    "\n",
    "print(f\"\\n\\nThe time to run all classifiers was: {end1-start1} seconds or {(end1-start1)//60} minutes \")\n"
   ]
  },
  {
   "cell_type": "markdown",
   "id": "742b61ab",
   "metadata": {},
   "source": [
    "## Averaging the Experts in the beginning, and then training a single model with concatenated RGB and Grayscale Images as features"
   ]
  },
  {
   "cell_type": "code",
   "execution_count": 55,
   "id": "029f6383",
   "metadata": {},
   "outputs": [
    {
     "data": {
      "text/plain": [
       "(994, 1)"
      ]
     },
     "execution_count": 55,
     "metadata": {},
     "output_type": "execute_result"
    }
   ],
   "source": [
    "inter_y_average_high.shape"
   ]
  },
  {
   "cell_type": "code",
   "execution_count": 56,
   "id": "5026f346",
   "metadata": {},
   "outputs": [
    {
     "name": "stdout",
     "output_type": "stream",
     "text": [
      "(994, 408961)\n"
     ]
    }
   ],
   "source": [
    "inter_features_average = np.hstack((resize_img_array, inter_y_average_high))\n",
    "\n",
    "print(inter_features_average.shape)"
   ]
  },
  {
   "cell_type": "markdown",
   "id": "3ce50c18",
   "metadata": {},
   "source": [
    "(994, 408961)\n"
   ]
  },
  {
   "cell_type": "markdown",
   "id": "1b4c1fff",
   "metadata": {},
   "source": [
    "we need to run the cells in the beginning to load df_copy again if we restarted kernel"
   ]
  },
  {
   "cell_type": "code",
   "execution_count": 57,
   "id": "127c9d2f",
   "metadata": {},
   "outputs": [
    {
     "name": "stdout",
     "output_type": "stream",
     "text": [
      "(1486, 408960)\n",
      "(1486,)\n"
     ]
    }
   ],
   "source": [
    "ros = RandomOverSampler(random_state=42)\n",
    "\n",
    "X_res_average, y_res_average = ros.fit_resample(resize_img_array, inter_y_average_high)\n",
    "\n",
    "print(X_res_average.shape)\n",
    "print(y_res_average.shape)"
   ]
  },
  {
   "cell_type": "markdown",
   "id": "72c77d6f",
   "metadata": {},
   "source": [
    "(1486, 408960)\n",
    "\n",
    "(1486,)\n"
   ]
  },
  {
   "cell_type": "code",
   "execution_count": 58,
   "id": "7e705983",
   "metadata": {},
   "outputs": [],
   "source": [
    "X_train_average, X_test_average, y_train_average, y_test_average = train_test_split(X_res_average, \n",
    "                                                                                                            y_res_average, \n",
    "                                                                                    stratify = y_res_average,\n",
    "                                                                                                test_size=0.33, \n",
    "                                                                                                random_state=42)\n"
   ]
  },
  {
   "cell_type": "code",
   "execution_count": 59,
   "id": "e55acafb",
   "metadata": {},
   "outputs": [
    {
     "name": "stdout",
     "output_type": "stream",
     "text": [
      "(1486, 408960)\n",
      "(1486,)\n",
      "\n",
      "(995, 408960)\n",
      "(995,)\n",
      "\n",
      "(491, 408960)\n",
      "(491,)\n"
     ]
    }
   ],
   "source": [
    "print(X_res_average.shape)\n",
    "print(y_res_average.shape)\n",
    "print('')\n",
    "print(X_train_average.shape)\n",
    "print(y_train_average.shape)\n",
    "print('')\n",
    "print(X_test_average.shape)\n",
    "print(y_test_average.shape)\n"
   ]
  },
  {
   "cell_type": "code",
   "execution_count": 32,
   "id": "3bb94e60",
   "metadata": {},
   "outputs": [
    {
     "name": "stdout",
     "output_type": "stream",
     "text": [
      "\u001b[1mSHOWING RESULTS FOR CLASSIFIER: RANDOM FOREST\u001b[0m\n",
      "\n",
      "              precision    recall  f1-score   support\n",
      "\n",
      "         0.0       0.96      0.99      0.97       246\n",
      "         1.0       0.99      0.96      0.97       245\n",
      "\n",
      "    accuracy                           0.97       491\n",
      "   macro avg       0.97      0.97      0.97       491\n",
      "weighted avg       0.97      0.97      0.97       491\n",
      "\n",
      "----------------------------------------------------------------------------------------------------\n",
      "\n",
      "The time to run classifier was: 41.14724159240723 seconds\n",
      "\n",
      "----------------------------------------------------------------------------------------------------\n",
      "\n",
      "\n",
      "The time to run all classifiers was: 41.14724159240723 seconds or 0.0 minutes \n"
     ]
    }
   ],
   "source": [
    "start1 = time.time()\n",
    "\n",
    "names = 'Random Forest'\n",
    "\n",
    "classifiers = RandomForestClassifier()\n",
    "\n",
    "start = time.time()\n",
    "print(f'\\033[1mSHOWING RESULTS FOR CLASSIFIER: RANDOM FOREST\\033[0m\\n')\n",
    "clf_average = RandomForestClassifier()\n",
    "\n",
    "\n",
    "clf_average.fit(X_train_average, y_train_average)\n",
    "\n",
    "preds_average = clf_average.predict(X_test_average)\n",
    "\n",
    "print(classification_report(y_test_average, preds_average))\n",
    "print('-'*100)\n",
    "\n",
    "        \n",
    "        \n",
    "        \n",
    "        \n",
    "end = time.time()\n",
    "print(f\"\\nThe time to run classifier was: {end-start} seconds\\n\")\n",
    "print('-'*100)\n",
    "        \n",
    "\n",
    "\n",
    "end1 = time.time()        \n",
    "\n",
    "print(f\"\\n\\nThe time to run all classifiers was: {end1-start1} seconds or {(end1-start1)//60} minutes \")\n"
   ]
  },
  {
   "cell_type": "code",
   "execution_count": null,
   "id": "3a03e2ef",
   "metadata": {},
   "outputs": [],
   "source": []
  },
  {
   "cell_type": "markdown",
   "id": "bc073d05",
   "metadata": {},
   "source": [
    "## Averaging the Experts in the beginning, and using KPCA as features"
   ]
  },
  {
   "cell_type": "code",
   "execution_count": 60,
   "id": "9e3cf24b",
   "metadata": {},
   "outputs": [
    {
     "name": "stdout",
     "output_type": "stream",
     "text": [
      "(994, 100)\n"
     ]
    }
   ],
   "source": [
    "all_features_kpca = np.load('all_features_kpca.npy')\n",
    "\n",
    "print(all_features_kpca.shape)"
   ]
  },
  {
   "cell_type": "code",
   "execution_count": 61,
   "id": "db5c4327",
   "metadata": {},
   "outputs": [
    {
     "data": {
      "text/plain": [
       "(994, 1)"
      ]
     },
     "execution_count": 61,
     "metadata": {},
     "output_type": "execute_result"
    }
   ],
   "source": [
    "inter_y_average_high.shape"
   ]
  },
  {
   "cell_type": "code",
   "execution_count": 62,
   "id": "d6a59e25",
   "metadata": {},
   "outputs": [
    {
     "name": "stdout",
     "output_type": "stream",
     "text": [
      "(994, 101)\n"
     ]
    }
   ],
   "source": [
    "inter_features_average_kpca = np.hstack((all_features_kpca, inter_y_average_high))\n",
    "\n",
    "print(inter_features_average_kpca.shape)"
   ]
  },
  {
   "cell_type": "markdown",
   "id": "165454cd",
   "metadata": {},
   "source": [
    "(994, 101)\n"
   ]
  },
  {
   "cell_type": "markdown",
   "id": "da9310b0",
   "metadata": {},
   "source": [
    "we need to run the cells in the beginning to load df_copy again if we restarted kernel"
   ]
  },
  {
   "cell_type": "code",
   "execution_count": 63,
   "id": "1bbc8301",
   "metadata": {},
   "outputs": [
    {
     "name": "stdout",
     "output_type": "stream",
     "text": [
      "(1486, 100)\n",
      "(1486,)\n"
     ]
    }
   ],
   "source": [
    "ros = RandomOverSampler(random_state=42)\n",
    "\n",
    "X_res_average_kpca, y_res_average_kpca = ros.fit_resample(all_features_kpca, inter_y_average_high)\n",
    "\n",
    "print(X_res_average_kpca.shape)\n",
    "print(y_res_average_kpca.shape)"
   ]
  },
  {
   "cell_type": "markdown",
   "id": "bbed470b",
   "metadata": {},
   "source": [
    "(1486, 100)\n",
    "\n",
    "(1486,)\n"
   ]
  },
  {
   "cell_type": "code",
   "execution_count": 64,
   "id": "414bd464",
   "metadata": {},
   "outputs": [],
   "source": [
    "X_train_average_kpca, X_test_average_kpca, y_train_average_kpca, y_test_average_kpca = train_test_split(X_res_average_kpca, \n",
    "                                                                                                            y_res_average_kpca, \n",
    "                                                                                    stratify = y_res_average_kpca,\n",
    "                                                                                                test_size=0.33, \n",
    "                                                                                                random_state=42)\n"
   ]
  },
  {
   "cell_type": "code",
   "execution_count": 65,
   "id": "7b051897",
   "metadata": {},
   "outputs": [
    {
     "name": "stdout",
     "output_type": "stream",
     "text": [
      "(1486, 100)\n",
      "(1486,)\n",
      "\n",
      "(995, 100)\n",
      "(995,)\n",
      "\n",
      "(491, 100)\n",
      "(491,)\n"
     ]
    }
   ],
   "source": [
    "print(X_res_average_kpca.shape)\n",
    "print(y_res_average_kpca.shape)\n",
    "print('')\n",
    "print(X_train_average_kpca.shape)\n",
    "print(y_train_average_kpca.shape)\n",
    "print('')\n",
    "print(X_test_average_kpca.shape)\n",
    "print(y_test_average_kpca.shape)\n"
   ]
  },
  {
   "cell_type": "code",
   "execution_count": 39,
   "id": "8fc129ec",
   "metadata": {},
   "outputs": [
    {
     "name": "stdout",
     "output_type": "stream",
     "text": [
      "\u001b[1mSHOWING RESULTS FOR CLASSIFIER: RANDOM FOREST\u001b[0m\n",
      "\n",
      "              precision    recall  f1-score   support\n",
      "\n",
      "         0.0       0.98      1.00      0.99       246\n",
      "         1.0       1.00      0.98      0.99       245\n",
      "\n",
      "    accuracy                           0.99       491\n",
      "   macro avg       0.99      0.99      0.99       491\n",
      "weighted avg       0.99      0.99      0.99       491\n",
      "\n",
      "----------------------------------------------------------------------------------------------------\n",
      "\n",
      "The time to run classifier was: 0.8813903331756592 seconds\n",
      "\n",
      "----------------------------------------------------------------------------------------------------\n",
      "\n",
      "\n",
      "The time to run all classifiers was: 0.8813903331756592 seconds or 0.0 minutes \n"
     ]
    }
   ],
   "source": [
    "start1 = time.time()\n",
    "\n",
    "names = 'Random Forest'\n",
    "\n",
    "classifiers = RandomForestClassifier()\n",
    "\n",
    "start = time.time()\n",
    "print(f'\\033[1mSHOWING RESULTS FOR CLASSIFIER: RANDOM FOREST\\033[0m\\n')\n",
    "clf_average_kpca = RandomForestClassifier()\n",
    "\n",
    "\n",
    "clf_average_kpca.fit(X_train_average_kpca, y_train_average_kpca)\n",
    "\n",
    "preds_average_kpca = clf_average_kpca.predict(X_test_average_kpca)\n",
    "\n",
    "print(classification_report(y_test_average_kpca, preds_average_kpca))\n",
    "print('-'*100)\n",
    "\n",
    "        \n",
    "        \n",
    "        \n",
    "        \n",
    "end = time.time()\n",
    "print(f\"\\nThe time to run classifier was: {end-start} seconds\\n\")\n",
    "print('-'*100)\n",
    "        \n",
    "\n",
    "\n",
    "end1 = time.time()        \n",
    "\n",
    "print(f\"\\n\\nThe time to run all classifiers was: {end1-start1} seconds or {(end1-start1)//60} minutes \")\n"
   ]
  },
  {
   "cell_type": "code",
   "execution_count": 41,
   "id": "788c39a5",
   "metadata": {},
   "outputs": [
    {
     "data": {
      "text/plain": [
       "0.9877551020408164"
      ]
     },
     "execution_count": 41,
     "metadata": {},
     "output_type": "execute_result"
    }
   ],
   "source": [
    "roc_auc_score(y_test_average_kpca, preds_average_kpca)"
   ]
  },
  {
   "cell_type": "code",
   "execution_count": null,
   "id": "db6b2314",
   "metadata": {},
   "outputs": [],
   "source": []
  },
  {
   "cell_type": "markdown",
   "id": "fd06d091",
   "metadata": {},
   "source": [
    "# Bonus Assignment"
   ]
  },
  {
   "cell_type": "markdown",
   "id": "a557dcf5",
   "metadata": {},
   "source": [
    "We exclude Expert 1 from the model Majority Voting with Logistic Regression and KPCA features (mid_majority_kpca) and retrain the model to see if the final accuracy increases"
   ]
  },
  {
   "cell_type": "code",
   "execution_count": 51,
   "id": "9f8a8e19",
   "metadata": {},
   "outputs": [
    {
     "name": "stdout",
     "output_type": "stream",
     "text": [
      "\u001b[1mSHOWING RESULTS FOR CLASSIFIER: LOGISTIC REGRESSION\u001b[0m\n",
      "\n",
      "              precision    recall  f1-score   support\n",
      "\n",
      "         0.0       0.87      0.97      0.92       172\n",
      "         1.0       0.95      0.79      0.86       122\n",
      "\n",
      "    accuracy                           0.89       294\n",
      "   macro avg       0.91      0.88      0.89       294\n",
      "weighted avg       0.90      0.89      0.89       294\n",
      "\n",
      "----------------------------------------------------------------------------------------------------\n",
      "              precision    recall  f1-score   support\n",
      "\n",
      "         0.0       0.86      0.99      0.92       169\n",
      "         1.0       0.98      0.78      0.87       125\n",
      "\n",
      "    accuracy                           0.90       294\n",
      "   macro avg       0.92      0.89      0.90       294\n",
      "weighted avg       0.91      0.90      0.90       294\n",
      "\n",
      "----------------------------------------------------------------------------------------------------\n",
      "              precision    recall  f1-score   support\n",
      "\n",
      "         0.0       0.88      0.99      0.93       174\n",
      "         1.0       0.98      0.81      0.89       120\n",
      "\n",
      "    accuracy                           0.91       294\n",
      "   macro avg       0.93      0.90      0.91       294\n",
      "weighted avg       0.92      0.91      0.91       294\n",
      "\n",
      "----------------------------------------------------------------------------------------------------\n",
      "\n",
      "The time to run classifier was: 0.1047358512878418 seconds\n",
      "\n",
      "----------------------------------------------------------------------------------------------------\n",
      "\n",
      "\n",
      "The time to run all classifiers was: 0.1047358512878418 seconds or 0.0 minutes \n"
     ]
    }
   ],
   "source": [
    "start1 = time.time()\n",
    "\n",
    "names = 'Logistic Regression'\n",
    "\n",
    "classifiers = LogisticRegression(random_state=42, max_iter=1000, solver = 'liblinear')\n",
    "\n",
    "start = time.time()\n",
    "print(f'\\033[1mSHOWING RESULTS FOR CLASSIFIER: LOGISTIC REGRESSION\\033[0m\\n')\n",
    "#clf1_mid_majority_kpca = LogisticRegression(random_state=42, max_iter=1000, solver = 'liblinear')\n",
    "clf2_mid_majority_kpca = LogisticRegression(random_state=42, max_iter=1000, solver = 'liblinear')\n",
    "clf3_mid_majority_kpca = LogisticRegression(random_state=42, max_iter=1000, solver = 'liblinear')\n",
    "clf4_mid_majority_kpca = LogisticRegression(random_state=42, max_iter=1000, solver = 'liblinear')\n",
    "\n",
    "#clf1_mid_majority_kpca.fit(X1_train_mid_majority_kpca, y1_train_mid_majority_kpca)\n",
    "clf2_mid_majority_kpca.fit(X2_train_mid_majority_kpca, y2_train_mid_majority_kpca)\n",
    "clf3_mid_majority_kpca.fit(X3_train_mid_majority_kpca, y3_train_mid_majority_kpca)\n",
    "clf4_mid_majority_kpca.fit(X4_train_mid_majority_kpca, y4_train_mid_majority_kpca)\n",
    "\n",
    "#preds1_mid_majority_kpca = clf1_mid_majority_kpca.predict(X1_val_mid_majority_kpca)\n",
    "preds2_mid_majority_kpca = clf2_mid_majority_kpca.predict(X2_val_mid_majority_kpca)\n",
    "preds3_mid_majority_kpca = clf3_mid_majority_kpca.predict(X3_val_mid_majority_kpca)\n",
    "preds4_mid_majority_kpca = clf4_mid_majority_kpca.predict(X4_val_mid_majority_kpca)\n",
    "\n",
    "#print(classification_report(y1_val_mid_majority_kpca,preds1_mid_majority_kpca))\n",
    "#print('-'*100)\n",
    "print(classification_report(y2_val_mid_majority_kpca,preds2_mid_majority_kpca))\n",
    "print('-'*100)\n",
    "print(classification_report(y3_val_mid_majority_kpca,preds3_mid_majority_kpca))\n",
    "print('-'*100)\n",
    "print(classification_report(y4_val_mid_majority_kpca,preds4_mid_majority_kpca))\n",
    "print('-'*100)\n",
    "\n",
    "        \n",
    "        \n",
    "        \n",
    "        \n",
    "end = time.time()\n",
    "print(f\"\\nThe time to run classifier was: {end-start} seconds\\n\")\n",
    "print('-'*100)\n",
    "        \n",
    "\n",
    "\n",
    "end1 = time.time()        \n",
    "\n",
    "print(f\"\\n\\nThe time to run all classifiers was: {end1-start1} seconds or {(end1-start1)//60} minutes \")\n"
   ]
  },
  {
   "cell_type": "code",
   "execution_count": 52,
   "id": "a1582406",
   "metadata": {},
   "outputs": [],
   "source": [
    "#test_preds1_mid_majority_kpca = clf1_mid_majority_kpca.predict(X1_test_mid_majority_kpca)\n",
    "test_preds2_mid_majority_kpca = clf2_mid_majority_kpca.predict(X2_test_mid_majority_kpca)\n",
    "test_preds3_mid_majority_kpca = clf3_mid_majority_kpca.predict(X3_test_mid_majority_kpca)\n",
    "test_preds4_mid_majority_kpca = clf4_mid_majority_kpca.predict(X4_test_mid_majority_kpca)"
   ]
  },
  {
   "cell_type": "code",
   "execution_count": 53,
   "id": "25a18b10",
   "metadata": {},
   "outputs": [
    {
     "name": "stdout",
     "output_type": "stream",
     "text": [
      "(197,)\n"
     ]
    }
   ],
   "source": [
    "final_test_predictions_mid_majority_kpca = []\n",
    "\n",
    "for i in range(test_preds1_mid_majority_kpca.shape[0]):\n",
    "    sum_labels_mid_kpca = np.sum([test_preds1_mid_majority_kpca[i], test_preds2_mid_majority_kpca[i], test_preds3_mid_majority_kpca[i], test_preds4_mid_majority_kpca[i]])\n",
    "    if sum_labels_mid_kpca <= 1: ### because now we have 3 labels instead of 4\n",
    "        final_label_mid_kpca = 0\n",
    "    else:\n",
    "        final_label_mid_kpca = 1\n",
    "        \n",
    "    final_test_predictions_mid_majority_kpca.append(final_label_mid_kpca)\n",
    "    \n",
    "final_test_predictions_mid_majority_kpca = np.array(final_test_predictions_mid_majority_kpca)\n",
    "\n",
    "print(final_test_predictions_mid_majority_kpca.shape)"
   ]
  },
  {
   "cell_type": "code",
   "execution_count": 54,
   "id": "ae963f72",
   "metadata": {},
   "outputs": [
    {
     "name": "stdout",
     "output_type": "stream",
     "text": [
      "              precision    recall  f1-score   support\n",
      "\n",
      "           0       0.86      0.97      0.91        99\n",
      "           1       0.97      0.85      0.90        98\n",
      "\n",
      "    accuracy                           0.91       197\n",
      "   macro avg       0.91      0.91      0.91       197\n",
      "weighted avg       0.91      0.91      0.91       197\n",
      "\n"
     ]
    }
   ],
   "source": [
    "### Results when Expert 1 is excluded\n",
    "\n",
    "print(classification_report(y_test_mid_majority_kpca_single, final_test_predictions_mid_majority_kpca))"
   ]
  },
  {
   "cell_type": "code",
   "execution_count": null,
   "id": "f25e41eb",
   "metadata": {},
   "outputs": [],
   "source": []
  }
 ],
 "metadata": {
  "kernelspec": {
   "display_name": "Python 3 (ipykernel)",
   "language": "python",
   "name": "python3"
  },
  "language_info": {
   "codemirror_mode": {
    "name": "ipython",
    "version": 3
   },
   "file_extension": ".py",
   "mimetype": "text/x-python",
   "name": "python",
   "nbconvert_exporter": "python",
   "pygments_lexer": "ipython3",
   "version": "3.9.13"
  }
 },
 "nbformat": 4,
 "nbformat_minor": 5
}
